{
 "cells": [
  {
   "cell_type": "code",
   "execution_count": 1,
   "id": "1773b1c2",
   "metadata": {},
   "outputs": [],
   "source": [
    "import requests\n",
    "from bs4 import BeautifulSoup\n",
    "import pandas as pd\n",
    "import numpy as np\n",
    "import gensim as gm\n",
    "import nltk\n",
    "import re \n",
    "\n",
    "from sklearn.preprocessing import OneHotEncoder\n",
    "from sklearn.compose import ColumnTransformer\n",
    "from sklearn.pipeline import Pipeline\n",
    "from sklearn.impute import SimpleImputer\n",
    "from sklearn.model_selection import train_test_split\n",
    "from sklearn.tree import DecisionTreeClassifier"
   ]
  },
  {
   "cell_type": "code",
   "execution_count": 2,
   "id": "9738cafb",
   "metadata": {},
   "outputs": [],
   "source": [
    "page = 1\n",
    "\n",
    "authors_lst = []\n",
    "quotes_lst = []\n",
    "tags_lst = []\n",
    "\n",
    "\n",
    "while page < 11: \n",
    "    url = 'http://quotes.toscrape.com/page/{}'.format(page)\n",
    "    scrape = requests.get(url)\n",
    "    parsed = BeautifulSoup(scrape.content, \"html.parser\")\n",
    "    \n",
    "    curr_authors = list(map(lambda x: x.text, parsed.find_all(class_ = \"author\")))\n",
    "    curr_quotes = list(map(lambda x: x.text, parsed.find_all(class_ = 'text')))\n",
    "    \n",
    "    tag_groups = parsed.find_all(\"div\", class_ = \"tags\")\n",
    "\n",
    "    curr_tags = []\n",
    "    for i in range(len(tag_groups)):\n",
    "\n",
    "        tags = tag_groups[i].find_all(\"a\", class_ = \"tag\")\n",
    "\n",
    "        curr_group = []\n",
    "        for tag in tags:\n",
    "\n",
    "            curr_group.append(tag.text)\n",
    "\n",
    "        curr_tags.append(curr_group)\n",
    "    \n",
    "    authors_lst += curr_authors\n",
    "    quotes_lst += curr_quotes\n",
    "    tags_lst += curr_tags\n",
    "    \n",
    "    page += 1\n",
    "    \n",
    "data = {\"Author\":authors_lst, \"Quote\":quotes_lst, \"Tags\":tags_lst}\n",
    "df = pd.DataFrame(data)"
   ]
  },
  {
   "cell_type": "code",
   "execution_count": null,
   "id": "705001c9",
   "metadata": {
    "scrolled": true
   },
   "outputs": [],
   "source": []
  },
  {
   "cell_type": "code",
   "execution_count": 3,
   "id": "6bbad6f0",
   "metadata": {},
   "outputs": [],
   "source": [
    "def quotes_cleaning(text):\n",
    "    \n",
    "    text = text.lower()\n",
    "    \n",
    "    text = re.sub('[^A-Za-z\\s]', '', text)\n",
    "    \n",
    "    return text\n",
    "\n",
    "df['Quote'] = df['Quote'].apply(quotes_cleaning)\n",
    "df['Author'] = df['Author'].apply(quotes_cleaning)"
   ]
  },
  {
   "cell_type": "code",
   "execution_count": 4,
   "id": "7baedccc",
   "metadata": {},
   "outputs": [],
   "source": [
    "def tags_cleaning(text):\n",
    "    \n",
    "    if len(text) == 0:\n",
    "        \n",
    "        return np.NaN\n",
    "    \n",
    "    text = re.sub('[\\[ \\]]', ' ', str(text))\n",
    "    text = re.sub('[^\\w]', ' ', text)\n",
    "    text = re.sub('[\\s]', ' ', text)\n",
    "    \n",
    "    return text\n",
    "\n",
    "df['Tags'] = df['Tags'].apply(tags_cleaning)"
   ]
  },
  {
   "cell_type": "code",
   "execution_count": 5,
   "id": "044424a1",
   "metadata": {
    "scrolled": true
   },
   "outputs": [],
   "source": [
    "# list(df['Tags'])\n",
    "pd.set_option('display.max_rows', 100)\n",
    "\n",
    "df = df.dropna()\n",
    "#df['Tags'] = df['Tags'].apply(lambda x: ' '.join(x.split())).apply(lambda x: x.split(' '))"
   ]
  },
  {
   "cell_type": "code",
   "execution_count": 6,
   "id": "12cbac10",
   "metadata": {},
   "outputs": [],
   "source": [
    "x = df.drop(columns = ['Tags'])\n",
    "y = df['Tags']\n",
    "\n",
    "x_train, x_test, y_train, y_test = train_test_split(x, y, test_size = 0.3)"
   ]
  },
  {
   "cell_type": "code",
   "execution_count": 7,
   "id": "1aa7acc1",
   "metadata": {},
   "outputs": [
    {
     "data": {
      "text/plain": [
       "array(['  inspirational  ', '  inspirational  ', '  inspirational  ',\n",
       "       '  inspirational  ', '  inspirational  ', '  inspirational  ',\n",
       "       '  inspirational  ', '  inspirational  ', '  inspirational  ',\n",
       "       '  inspirational  ', '  inspirational  ', '  inspirational  ',\n",
       "       '  inspirational  ', '  inspirational  ', '  inspirational  ',\n",
       "       '  inspirational  ', '  inspirational  ', '  inspirational  ',\n",
       "       '  inspirational  ', '  inspirational  ', '  inspirational  ',\n",
       "       '  inspirational  ', '  inspirational  ', '  inspirational  ',\n",
       "       '  inspirational  ', '  inspirational  ', '  inspirational  ',\n",
       "       '  inspirational  ', '  inspirational  ', '  inspirational  '],\n",
       "      dtype=object)"
      ]
     },
     "execution_count": 7,
     "metadata": {},
     "output_type": "execute_result"
    }
   ],
   "source": [
    "to_be_encoded = ['Quote']\n",
    "\n",
    "onehot = Pipeline([('onehot', OneHotEncoder(handle_unknown='ignore'))])\n",
    "transformed = ColumnTransformer([('onehot', onehot, to_be_encoded)])\n",
    "\n",
    "prediction_pl = Pipeline([('transformer', transformed), ('classifier', DecisionTreeClassifier())])\n",
    "\n",
    "prediction_pl.fit(x_train, y_train)\n",
    "prediction_pl.predict(x_test)#, y_test)\n"
   ]
  },
  {
   "cell_type": "code",
   "execution_count": null,
   "id": "f739c297",
   "metadata": {},
   "outputs": [],
   "source": []
  }
 ],
 "metadata": {
  "kernelspec": {
   "display_name": "Python 3",
   "language": "python",
   "name": "python3"
  },
  "language_info": {
   "codemirror_mode": {
    "name": "ipython",
    "version": 3
   },
   "file_extension": ".py",
   "mimetype": "text/x-python",
   "name": "python",
   "nbconvert_exporter": "python",
   "pygments_lexer": "ipython3",
   "version": "3.8.8"
  }
 },
 "nbformat": 4,
 "nbformat_minor": 5
}
