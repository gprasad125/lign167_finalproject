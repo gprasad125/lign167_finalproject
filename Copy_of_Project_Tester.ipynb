{
  "cells": [
    {
      "cell_type": "markdown",
      "metadata": {
        "id": "view-in-github",
        "colab_type": "text"
      },
      "source": [
        "<a href=\"https://colab.research.google.com/github/gprasad125/lign167_finalproject/blob/main/Copy_of_Project_Tester.ipynb\" target=\"_parent\"><img src=\"https://colab.research.google.com/assets/colab-badge.svg\" alt=\"Open In Colab\"/></a>"
      ]
    },
    {
      "cell_type": "markdown",
      "id": "5f7ef64e",
      "metadata": {
        "id": "5f7ef64e"
      },
      "source": [
        "# Using Multiclass Text Classification to Analyze Famous Quotes \n",
        "\n",
        "#### Gokul Prasad & Hoang Nguyen \n",
        "#### LIGN 167, Winter 2022"
      ]
    },
    {
      "cell_type": "markdown",
      "id": "8998fd17",
      "metadata": {
        "id": "8998fd17"
      },
      "source": [
        "In this project, we'll aim to classify a variety of quotes with tags that refer to certain themes or elements specific to that particular quote. \n",
        "\n",
        "For example, Albert Einstein's quote “Life is like riding a bicycle. To keep your balance, you must keep moving.” would have tags like \"life\" or \"simile\" because it contains thematic elements about life, and contains a simile. "
      ]
    },
    {
      "cell_type": "code",
      "execution_count": 3,
      "id": "1773b1c2",
      "metadata": {
        "id": "1773b1c2",
        "colab": {
          "base_uri": "https://localhost:8080/"
        },
        "outputId": "70ef5a46-00fe-41ac-9fdc-d10cecd1a32d"
      },
      "outputs": [
        {
          "output_type": "stream",
          "name": "stdout",
          "text": [
            "[nltk_data] Downloading package stopwords to /root/nltk_data...\n",
            "[nltk_data]   Package stopwords is already up-to-date!\n"
          ]
        }
      ],
      "source": [
        "# Scraping\n",
        "import requests\n",
        "from bs4 import BeautifulSoup\n",
        "import time \n",
        "\n",
        "# Data manipulation / cleaning / visualization\n",
        "import pandas as pd\n",
        "import numpy as np\n",
        "import gensim as gm\n",
        "import nltk\n",
        "from nltk.corpus import stopwords\n",
        "nltk.download('stopwords')\n",
        "stop_words = stopwords.words('english')\n",
        "\n",
        "import re \n",
        "import matplotlib.pyplot as plt\n",
        "from gensim.models.doc2vec import Doc2Vec, TaggedDocument\n",
        "\n",
        "# Sklearn modeling\n",
        "from sklearn.pipeline import Pipeline\n",
        "from sklearn.model_selection import train_test_split\n",
        "from sklearn.tree import DecisionTreeClassifier\n",
        "from sklearn.feature_extraction.text import TfidfVectorizer\n",
        "from sklearn.multiclass import OneVsRestClassifier\n",
        "from sklearn.metrics import precision_recall_fscore_support\n",
        "from sklearn.model_selection import GridSearchCV\n",
        "\n",
        "from keras.preprocessing.text import Tokenizer\n",
        "from keras.preprocessing.sequence import pad_sequences\n",
        "from keras.models import Sequential\n",
        "from keras.layers import Dense, Embedding, LSTM, SpatialDropout1D\n",
        "from sklearn.model_selection import train_test_split\n",
        "from keras.utils.np_utils import to_categorical\n",
        "from keras.callbacks import EarlyStopping\n",
        "from keras.layers import Dropout\n",
        "from keras.metrics import Precision, Recall\n",
        "\n",
        "from tensorflow.keras.optimizers import SGD\n",
        "\n",
        "import warnings\n",
        "warnings.filterwarnings('ignore')"
      ]
    },
    {
      "cell_type": "markdown",
      "id": "f2b1c8b6",
      "metadata": {
        "id": "f2b1c8b6"
      },
      "source": [
        "# Scraping and Cleaning the Data "
      ]
    },
    {
      "cell_type": "markdown",
      "id": "f5efa41f",
      "metadata": {
        "id": "f5efa41f"
      },
      "source": [
        "We'll be sourcing our data from http://quotes.toscrape.com. This is a website containing 11 pages worth of quotes, each of them classified with a few tags. \n",
        "\n",
        "Firstly, we'll loop through the pages, and scrape the website HTML data with BeautifulSoup. Then, we'll use lambda functions to pull author data, quote data, and tag data. We'll put each of these into lists, and then create a pandas DataFrame to hold all our data. "
      ]
    },
    {
      "cell_type": "code",
      "execution_count": 4,
      "id": "9738cafb",
      "metadata": {
        "id": "9738cafb"
      },
      "outputs": [],
      "source": [
        "goodreads_quotes = []\n",
        "goodreads_tags = []\n",
        "\n",
        "for i in range(1, 101):\n",
        "\n",
        "  url = 'https://www.goodreads.com/quotes?page={}'.format(i)\n",
        "\n",
        "  time.sleep(5)\n",
        "  scrape = requests.get(url)\n",
        "  parsed = BeautifulSoup(scrape.content, 'html.parser')\n",
        "\n",
        "  elements_quotes = parsed.find_all('div', class_ = \"quoteText\")\n",
        "  \n",
        "  quotes = [x.text.strip() for x in elements_quotes]\n",
        "  tags = parsed.find_all(class_ = 'quoteFooter')\n",
        "\n",
        "  goodreads_quotes += quotes\n",
        "  goodreads_tags += tags"
      ]
    },
    {
      "cell_type": "code",
      "source": [
        "data = {'quote':goodreads_quotes, 'tags':goodreads_tags}\n",
        "goodreads = pd.DataFrame(data)\n",
        "goodreads.head()"
      ],
      "metadata": {
        "colab": {
          "base_uri": "https://localhost:8080/",
          "height": 206
        },
        "id": "jZMT3V2z8r-u",
        "outputId": "f330da57-d76b-4a47-effa-ce44ab1d88e2"
      },
      "id": "jZMT3V2z8r-u",
      "execution_count": 5,
      "outputs": [
        {
          "output_type": "execute_result",
          "data": {
            "text/html": [
              "\n",
              "  <div id=\"df-34d318cb-b9e7-4fc7-baba-833440c31f3b\">\n",
              "    <div class=\"colab-df-container\">\n",
              "      <div>\n",
              "<style scoped>\n",
              "    .dataframe tbody tr th:only-of-type {\n",
              "        vertical-align: middle;\n",
              "    }\n",
              "\n",
              "    .dataframe tbody tr th {\n",
              "        vertical-align: top;\n",
              "    }\n",
              "\n",
              "    .dataframe thead th {\n",
              "        text-align: right;\n",
              "    }\n",
              "</style>\n",
              "<table border=\"1\" class=\"dataframe\">\n",
              "  <thead>\n",
              "    <tr style=\"text-align: right;\">\n",
              "      <th></th>\n",
              "      <th>quote</th>\n",
              "      <th>tags</th>\n",
              "    </tr>\n",
              "  </thead>\n",
              "  <tbody>\n",
              "    <tr>\n",
              "      <th>0</th>\n",
              "      <td>“Be yourself; everyone else is already taken.”...</td>\n",
              "      <td>[\\n, [\\n     tags:\\n       , [attributed-no-so...</td>\n",
              "    </tr>\n",
              "    <tr>\n",
              "      <th>1</th>\n",
              "      <td>“I'm selfish, impatient and a little insecure....</td>\n",
              "      <td>[\\n, [\\n     tags:\\n       , [attributed-no-so...</td>\n",
              "    </tr>\n",
              "    <tr>\n",
              "      <th>2</th>\n",
              "      <td>“Two things are infinite: the universe and hum...</td>\n",
              "      <td>[\\n, [\\n     tags:\\n       , [attributed-no-so...</td>\n",
              "    </tr>\n",
              "    <tr>\n",
              "      <th>3</th>\n",
              "      <td>“So many books, so little time.”\\n    ―\\n  \\n ...</td>\n",
              "      <td>[\\n, [\\n     tags:\\n       , [books], ,\\n     ...</td>\n",
              "    </tr>\n",
              "    <tr>\n",
              "      <th>4</th>\n",
              "      <td>“A room without books is like a body without a...</td>\n",
              "      <td>[\\n, [\\n     tags:\\n       , [attributed-no-so...</td>\n",
              "    </tr>\n",
              "  </tbody>\n",
              "</table>\n",
              "</div>\n",
              "      <button class=\"colab-df-convert\" onclick=\"convertToInteractive('df-34d318cb-b9e7-4fc7-baba-833440c31f3b')\"\n",
              "              title=\"Convert this dataframe to an interactive table.\"\n",
              "              style=\"display:none;\">\n",
              "        \n",
              "  <svg xmlns=\"http://www.w3.org/2000/svg\" height=\"24px\"viewBox=\"0 0 24 24\"\n",
              "       width=\"24px\">\n",
              "    <path d=\"M0 0h24v24H0V0z\" fill=\"none\"/>\n",
              "    <path d=\"M18.56 5.44l.94 2.06.94-2.06 2.06-.94-2.06-.94-.94-2.06-.94 2.06-2.06.94zm-11 1L8.5 8.5l.94-2.06 2.06-.94-2.06-.94L8.5 2.5l-.94 2.06-2.06.94zm10 10l.94 2.06.94-2.06 2.06-.94-2.06-.94-.94-2.06-.94 2.06-2.06.94z\"/><path d=\"M17.41 7.96l-1.37-1.37c-.4-.4-.92-.59-1.43-.59-.52 0-1.04.2-1.43.59L10.3 9.45l-7.72 7.72c-.78.78-.78 2.05 0 2.83L4 21.41c.39.39.9.59 1.41.59.51 0 1.02-.2 1.41-.59l7.78-7.78 2.81-2.81c.8-.78.8-2.07 0-2.86zM5.41 20L4 18.59l7.72-7.72 1.47 1.35L5.41 20z\"/>\n",
              "  </svg>\n",
              "      </button>\n",
              "      \n",
              "  <style>\n",
              "    .colab-df-container {\n",
              "      display:flex;\n",
              "      flex-wrap:wrap;\n",
              "      gap: 12px;\n",
              "    }\n",
              "\n",
              "    .colab-df-convert {\n",
              "      background-color: #E8F0FE;\n",
              "      border: none;\n",
              "      border-radius: 50%;\n",
              "      cursor: pointer;\n",
              "      display: none;\n",
              "      fill: #1967D2;\n",
              "      height: 32px;\n",
              "      padding: 0 0 0 0;\n",
              "      width: 32px;\n",
              "    }\n",
              "\n",
              "    .colab-df-convert:hover {\n",
              "      background-color: #E2EBFA;\n",
              "      box-shadow: 0px 1px 2px rgba(60, 64, 67, 0.3), 0px 1px 3px 1px rgba(60, 64, 67, 0.15);\n",
              "      fill: #174EA6;\n",
              "    }\n",
              "\n",
              "    [theme=dark] .colab-df-convert {\n",
              "      background-color: #3B4455;\n",
              "      fill: #D2E3FC;\n",
              "    }\n",
              "\n",
              "    [theme=dark] .colab-df-convert:hover {\n",
              "      background-color: #434B5C;\n",
              "      box-shadow: 0px 1px 3px 1px rgba(0, 0, 0, 0.15);\n",
              "      filter: drop-shadow(0px 1px 2px rgba(0, 0, 0, 0.3));\n",
              "      fill: #FFFFFF;\n",
              "    }\n",
              "  </style>\n",
              "\n",
              "      <script>\n",
              "        const buttonEl =\n",
              "          document.querySelector('#df-34d318cb-b9e7-4fc7-baba-833440c31f3b button.colab-df-convert');\n",
              "        buttonEl.style.display =\n",
              "          google.colab.kernel.accessAllowed ? 'block' : 'none';\n",
              "\n",
              "        async function convertToInteractive(key) {\n",
              "          const element = document.querySelector('#df-34d318cb-b9e7-4fc7-baba-833440c31f3b');\n",
              "          const dataTable =\n",
              "            await google.colab.kernel.invokeFunction('convertToInteractive',\n",
              "                                                     [key], {});\n",
              "          if (!dataTable) return;\n",
              "\n",
              "          const docLinkHtml = 'Like what you see? Visit the ' +\n",
              "            '<a target=\"_blank\" href=https://colab.research.google.com/notebooks/data_table.ipynb>data table notebook</a>'\n",
              "            + ' to learn more about interactive tables.';\n",
              "          element.innerHTML = '';\n",
              "          dataTable['output_type'] = 'display_data';\n",
              "          await google.colab.output.renderOutput(dataTable, element);\n",
              "          const docLink = document.createElement('div');\n",
              "          docLink.innerHTML = docLinkHtml;\n",
              "          element.appendChild(docLink);\n",
              "        }\n",
              "      </script>\n",
              "    </div>\n",
              "  </div>\n",
              "  "
            ],
            "text/plain": [
              "                                               quote  \\\n",
              "0  “Be yourself; everyone else is already taken.”...   \n",
              "1  “I'm selfish, impatient and a little insecure....   \n",
              "2  “Two things are infinite: the universe and hum...   \n",
              "3  “So many books, so little time.”\\n    ―\\n  \\n ...   \n",
              "4  “A room without books is like a body without a...   \n",
              "\n",
              "                                                tags  \n",
              "0  [\\n, [\\n     tags:\\n       , [attributed-no-so...  \n",
              "1  [\\n, [\\n     tags:\\n       , [attributed-no-so...  \n",
              "2  [\\n, [\\n     tags:\\n       , [attributed-no-so...  \n",
              "3  [\\n, [\\n     tags:\\n       , [books], ,\\n     ...  \n",
              "4  [\\n, [\\n     tags:\\n       , [attributed-no-so...  "
            ]
          },
          "metadata": {},
          "execution_count": 5
        }
      ]
    },
    {
      "cell_type": "markdown",
      "id": "289aba52",
      "metadata": {
        "id": "289aba52"
      },
      "source": [
        "As we can see, our dataset contains some pretty messy strings in all 3 columns. We'll need to process the data to make sure it's usable for our modeling later on. \n",
        "\n",
        "For quotes, we'll first make all characters lowercase, and then use regex functionality to substitute any non alphanumeric / whitespace character with a blank string. \n",
        "\n",
        "For example, if we input a quote like \"I love. LIGN 167!!?\" we would receive an output of \"i love lign 167\". We'll apply this to our Author and Quote columns to clean them up and make them much more simplified strings. "
      ]
    },
    {
      "cell_type": "code",
      "execution_count": 6,
      "id": "6bbad6f0",
      "metadata": {
        "id": "6bbad6f0"
      },
      "outputs": [],
      "source": [
        "def quotes_cleaning(text):\n",
        "    \n",
        "    text = text.lower()\n",
        "    \n",
        "    text = re.sub('[^A-Za-z0-9\\s]', '', text)\n",
        "    \n",
        "    return text\n",
        "\n",
        "def tags_cleaning(text):\n",
        "    \n",
        "    text = re.sub('[\\[ \\]]', ' ', str(text))\n",
        "    text = re.sub('[^\\w]', ' ', text)\n",
        "    text = re.sub('[\\s]', ' ', text)\n",
        "    text = re.sub('[0-9]', ' ', text)\n",
        "    \n",
        "    text = ' '.join(text.split())\n",
        "    \n",
        "    return text.split(' ')\n",
        "\n",
        "def remove_author(quote):\n",
        "\n",
        "  if quote[0] == '“':\n",
        "\n",
        "    end_of_quote = quote.index('”')\n",
        "    quote = quote[1:end_of_quote]\n",
        "\n",
        "  return quote\n",
        "\n",
        "def bs_to_list(tags):\n",
        "\n",
        "  if type(tags) != list:\n",
        "\n",
        "    tags = tags.find_all('a')\n",
        "  \n",
        "    tag_strs = []\n",
        "    for tag in tags[:-1]:\n",
        "\n",
        "      tag = str(tag)\n",
        "      start_idx = tag.index('\">')\n",
        "      end_idx = tag.index('</')\n",
        "      tag = tag[start_idx + 2:end_idx]\n",
        "      tag_strs.append(tag)\n",
        "\n",
        "    tags = tag_strs\n",
        "\n",
        "  return tags"
      ]
    },
    {
      "cell_type": "markdown",
      "id": "86a10b2c",
      "metadata": {
        "id": "86a10b2c"
      },
      "source": [
        "For the tags, we have to a slightly more complicated function since the data is tucked into lists. Firstly, we'll make it a string, and use regex to remove the surrounding brackets, remove non-word characters, and replace all multi-whitespaces with a single space. We'll then render the string as a list again, and return the list. \n",
        "\n",
        "For example, if we input a list like [deep?, wonderous.., love-happy], we would get an output of [deep, wonderous, love, happy]"
      ]
    },
    {
      "cell_type": "code",
      "execution_count": 7,
      "id": "7baedccc",
      "metadata": {
        "id": "7baedccc"
      },
      "outputs": [],
      "source": [
        "goodreads['quote'] = goodreads['quote'].apply(remove_author)\n",
        "goodreads['quote'] = goodreads['quote'].apply(quotes_cleaning)\n",
        "goodreads['tags'] = goodreads['tags'].apply(bs_to_list)\n",
        "goodreads['tags'] = goodreads['tags'].apply(tags_cleaning)\n",
        "\n",
        "isEmpty = goodreads['tags'].apply(lambda x: '' in x)\n",
        "goodreads['isEmpty'] = isEmpty"
      ]
    },
    {
      "cell_type": "markdown",
      "id": "55f4e5cf",
      "metadata": {
        "id": "55f4e5cf"
      },
      "source": [
        "Now, having cleaned the dataset more fully, we can see the impact on our data. "
      ]
    },
    {
      "cell_type": "code",
      "execution_count": 8,
      "id": "21f6be24",
      "metadata": {
        "id": "21f6be24",
        "outputId": "38607441-f41e-477b-c24e-b7fd40c5e527",
        "colab": {
          "base_uri": "https://localhost:8080/",
          "height": 175
        }
      },
      "outputs": [
        {
          "output_type": "execute_result",
          "data": {
            "text/html": [
              "\n",
              "  <div id=\"df-0d3a8089-6d59-4e62-9758-581aff9f92d5\">\n",
              "    <div class=\"colab-df-container\">\n",
              "      <div>\n",
              "<style scoped>\n",
              "    .dataframe tbody tr th:only-of-type {\n",
              "        vertical-align: middle;\n",
              "    }\n",
              "\n",
              "    .dataframe tbody tr th {\n",
              "        vertical-align: top;\n",
              "    }\n",
              "\n",
              "    .dataframe thead th {\n",
              "        text-align: right;\n",
              "    }\n",
              "</style>\n",
              "<table border=\"1\" class=\"dataframe\">\n",
              "  <thead>\n",
              "    <tr style=\"text-align: right;\">\n",
              "      <th></th>\n",
              "      <th>quote</th>\n",
              "      <th>tags</th>\n",
              "      <th>isEmpty</th>\n",
              "    </tr>\n",
              "  </thead>\n",
              "  <tbody>\n",
              "    <tr>\n",
              "      <th>0</th>\n",
              "      <td>be yourself everyone else is already taken</td>\n",
              "      <td>[attributed, no, source, be, yourself, gilbert...</td>\n",
              "      <td>False</td>\n",
              "    </tr>\n",
              "    <tr>\n",
              "      <th>1</th>\n",
              "      <td>im selfish impatient and a little insecure i m...</td>\n",
              "      <td>[attributed, no, source, best, life, love, mis...</td>\n",
              "      <td>False</td>\n",
              "    </tr>\n",
              "    <tr>\n",
              "      <th>2</th>\n",
              "      <td>two things are infinite the universe and human...</td>\n",
              "      <td>[attributed, no, source, human, nature, humor,...</td>\n",
              "      <td>False</td>\n",
              "    </tr>\n",
              "    <tr>\n",
              "      <th>3</th>\n",
              "      <td>so many books so little time</td>\n",
              "      <td>[books, humor]</td>\n",
              "      <td>False</td>\n",
              "    </tr>\n",
              "  </tbody>\n",
              "</table>\n",
              "</div>\n",
              "      <button class=\"colab-df-convert\" onclick=\"convertToInteractive('df-0d3a8089-6d59-4e62-9758-581aff9f92d5')\"\n",
              "              title=\"Convert this dataframe to an interactive table.\"\n",
              "              style=\"display:none;\">\n",
              "        \n",
              "  <svg xmlns=\"http://www.w3.org/2000/svg\" height=\"24px\"viewBox=\"0 0 24 24\"\n",
              "       width=\"24px\">\n",
              "    <path d=\"M0 0h24v24H0V0z\" fill=\"none\"/>\n",
              "    <path d=\"M18.56 5.44l.94 2.06.94-2.06 2.06-.94-2.06-.94-.94-2.06-.94 2.06-2.06.94zm-11 1L8.5 8.5l.94-2.06 2.06-.94-2.06-.94L8.5 2.5l-.94 2.06-2.06.94zm10 10l.94 2.06.94-2.06 2.06-.94-2.06-.94-.94-2.06-.94 2.06-2.06.94z\"/><path d=\"M17.41 7.96l-1.37-1.37c-.4-.4-.92-.59-1.43-.59-.52 0-1.04.2-1.43.59L10.3 9.45l-7.72 7.72c-.78.78-.78 2.05 0 2.83L4 21.41c.39.39.9.59 1.41.59.51 0 1.02-.2 1.41-.59l7.78-7.78 2.81-2.81c.8-.78.8-2.07 0-2.86zM5.41 20L4 18.59l7.72-7.72 1.47 1.35L5.41 20z\"/>\n",
              "  </svg>\n",
              "      </button>\n",
              "      \n",
              "  <style>\n",
              "    .colab-df-container {\n",
              "      display:flex;\n",
              "      flex-wrap:wrap;\n",
              "      gap: 12px;\n",
              "    }\n",
              "\n",
              "    .colab-df-convert {\n",
              "      background-color: #E8F0FE;\n",
              "      border: none;\n",
              "      border-radius: 50%;\n",
              "      cursor: pointer;\n",
              "      display: none;\n",
              "      fill: #1967D2;\n",
              "      height: 32px;\n",
              "      padding: 0 0 0 0;\n",
              "      width: 32px;\n",
              "    }\n",
              "\n",
              "    .colab-df-convert:hover {\n",
              "      background-color: #E2EBFA;\n",
              "      box-shadow: 0px 1px 2px rgba(60, 64, 67, 0.3), 0px 1px 3px 1px rgba(60, 64, 67, 0.15);\n",
              "      fill: #174EA6;\n",
              "    }\n",
              "\n",
              "    [theme=dark] .colab-df-convert {\n",
              "      background-color: #3B4455;\n",
              "      fill: #D2E3FC;\n",
              "    }\n",
              "\n",
              "    [theme=dark] .colab-df-convert:hover {\n",
              "      background-color: #434B5C;\n",
              "      box-shadow: 0px 1px 3px 1px rgba(0, 0, 0, 0.15);\n",
              "      filter: drop-shadow(0px 1px 2px rgba(0, 0, 0, 0.3));\n",
              "      fill: #FFFFFF;\n",
              "    }\n",
              "  </style>\n",
              "\n",
              "      <script>\n",
              "        const buttonEl =\n",
              "          document.querySelector('#df-0d3a8089-6d59-4e62-9758-581aff9f92d5 button.colab-df-convert');\n",
              "        buttonEl.style.display =\n",
              "          google.colab.kernel.accessAllowed ? 'block' : 'none';\n",
              "\n",
              "        async function convertToInteractive(key) {\n",
              "          const element = document.querySelector('#df-0d3a8089-6d59-4e62-9758-581aff9f92d5');\n",
              "          const dataTable =\n",
              "            await google.colab.kernel.invokeFunction('convertToInteractive',\n",
              "                                                     [key], {});\n",
              "          if (!dataTable) return;\n",
              "\n",
              "          const docLinkHtml = 'Like what you see? Visit the ' +\n",
              "            '<a target=\"_blank\" href=https://colab.research.google.com/notebooks/data_table.ipynb>data table notebook</a>'\n",
              "            + ' to learn more about interactive tables.';\n",
              "          element.innerHTML = '';\n",
              "          dataTable['output_type'] = 'display_data';\n",
              "          await google.colab.output.renderOutput(dataTable, element);\n",
              "          const docLink = document.createElement('div');\n",
              "          docLink.innerHTML = docLinkHtml;\n",
              "          element.appendChild(docLink);\n",
              "        }\n",
              "      </script>\n",
              "    </div>\n",
              "  </div>\n",
              "  "
            ],
            "text/plain": [
              "                                               quote  \\\n",
              "0         be yourself everyone else is already taken   \n",
              "1  im selfish impatient and a little insecure i m...   \n",
              "2  two things are infinite the universe and human...   \n",
              "3                       so many books so little time   \n",
              "\n",
              "                                                tags  isEmpty  \n",
              "0  [attributed, no, source, be, yourself, gilbert...    False  \n",
              "1  [attributed, no, source, best, life, love, mis...    False  \n",
              "2  [attributed, no, source, human, nature, humor,...    False  \n",
              "3                                     [books, humor]    False  "
            ]
          },
          "metadata": {},
          "execution_count": 8
        }
      ],
      "source": [
        "goodreads.head(4)"
      ]
    },
    {
      "cell_type": "markdown",
      "id": "982252e6",
      "metadata": {
        "id": "982252e6"
      },
      "source": [
        "# Reshaping Data for Modeling "
      ]
    },
    {
      "cell_type": "markdown",
      "id": "ce5b9174",
      "metadata": {
        "id": "ce5b9174"
      },
      "source": [
        "Now, while the data is cleaned, we can't really model accurately when our tags are all in a list. Inputting them into our sklearn Pipelines later would not work as we would want, so we have to find a way to reshape the dataframe. Firstly, we'll need to collect the minimum and maximum amount of tags, which we do as follows. "
      ]
    },
    {
      "cell_type": "code",
      "execution_count": 118,
      "id": "708238d7",
      "metadata": {
        "scrolled": true,
        "id": "708238d7",
        "outputId": "21fe5ffd-ffd4-456e-d977-fb1cff3ecc8f",
        "colab": {
          "base_uri": "https://localhost:8080/"
        }
      },
      "outputs": [
        {
          "output_type": "execute_result",
          "data": {
            "text/plain": [
              "48"
            ]
          },
          "metadata": {},
          "execution_count": 118
        }
      ],
      "source": [
        "max_tags = goodreads['tags'].apply(lambda x: len(x)).max()\n",
        "max_tags"
      ]
    },
    {
      "cell_type": "markdown",
      "id": "12fc3047",
      "metadata": {
        "id": "12fc3047"
      },
      "source": [
        "So we see that the maximum amount of tags a quote could have would be 11 tags. So, let's generate a function that will make each list of tags equivalent by adding the necessary number of None values to make it to a list of length 11. \n",
        "\n",
        "For example, an input of [life, duck, nature] would yield [life, duck, nature, None, None, None, None, None, None, None, None]. "
      ]
    },
    {
      "cell_type": "code",
      "execution_count": 119,
      "id": "7cf95757",
      "metadata": {
        "id": "7cf95757"
      },
      "outputs": [],
      "source": [
        "def pad(tags):\n",
        "\n",
        "  needed = 48 - len(tags)\n",
        "  tags = tags + ([None] * needed)\n",
        "\n",
        "  return tags"
      ]
    },
    {
      "cell_type": "markdown",
      "id": "f200c1a6",
      "metadata": {
        "id": "f200c1a6"
      },
      "source": [
        "Now we can apply that function to our Tags column, and use pandas get_dummies() functionality to reshape our dataframe to where each tag is a column, and the column contains 1s or 0s, reflecting whether or not a particular tag is in the quote belonging to that row. \n",
        "\n",
        "Unfortunately, pd.get_dummies() will create some duplicates so we'll groupby and sum to combine the duplicate tag columns. \n",
        "\n",
        "We then combine this dataframe with our original dataframe, and drop our tags columns. We can see the finished result"
      ]
    },
    {
      "cell_type": "code",
      "execution_count": 120,
      "id": "aa43dfb7",
      "metadata": {
        "scrolled": true,
        "id": "aa43dfb7",
        "outputId": "28fc2619-d641-430d-c7c8-e24f841de558",
        "colab": {
          "base_uri": "https://localhost:8080/",
          "height": 768
        }
      },
      "outputs": [
        {
          "output_type": "execute_result",
          "data": {
            "text/html": [
              "\n",
              "  <div id=\"df-ab0b3d66-3a20-4aad-9956-aa3c938ed69a\">\n",
              "    <div class=\"colab-df-container\">\n",
              "      <div>\n",
              "<style scoped>\n",
              "    .dataframe tbody tr th:only-of-type {\n",
              "        vertical-align: middle;\n",
              "    }\n",
              "\n",
              "    .dataframe tbody tr th {\n",
              "        vertical-align: top;\n",
              "    }\n",
              "\n",
              "    .dataframe thead th {\n",
              "        text-align: right;\n",
              "    }\n",
              "</style>\n",
              "<table border=\"1\" class=\"dataframe\">\n",
              "  <thead>\n",
              "    <tr style=\"text-align: right;\">\n",
              "      <th></th>\n",
              "      <th>quote</th>\n",
              "      <th>tags_</th>\n",
              "      <th>tags_a</th>\n",
              "      <th>tags_abbey</th>\n",
              "      <th>tags_abe</th>\n",
              "      <th>tags_abilities</th>\n",
              "      <th>tags_abraham</th>\n",
              "      <th>tags_absence</th>\n",
              "      <th>tags_absurdities</th>\n",
              "      <th>tags_abundance</th>\n",
              "      <th>...</th>\n",
              "      <th>tags_youth</th>\n",
              "      <th>tags_youthfulness</th>\n",
              "      <th>tags_zarek</th>\n",
              "      <th>tags_zen</th>\n",
              "      <th>tags_zeus</th>\n",
              "      <th>tags_zoe</th>\n",
              "      <th>tags_zombies</th>\n",
              "      <th>tags_zone</th>\n",
              "      <th>tags_zsadist</th>\n",
              "      <th>tags_حب</th>\n",
              "    </tr>\n",
              "  </thead>\n",
              "  <tbody>\n",
              "    <tr>\n",
              "      <th>0</th>\n",
              "      <td>be yourself everyone else is already taken</td>\n",
              "      <td>0</td>\n",
              "      <td>0</td>\n",
              "      <td>0</td>\n",
              "      <td>0</td>\n",
              "      <td>0</td>\n",
              "      <td>0</td>\n",
              "      <td>0</td>\n",
              "      <td>0</td>\n",
              "      <td>0</td>\n",
              "      <td>...</td>\n",
              "      <td>0</td>\n",
              "      <td>0</td>\n",
              "      <td>0</td>\n",
              "      <td>0</td>\n",
              "      <td>0</td>\n",
              "      <td>0</td>\n",
              "      <td>0</td>\n",
              "      <td>0</td>\n",
              "      <td>0</td>\n",
              "      <td>0</td>\n",
              "    </tr>\n",
              "    <tr>\n",
              "      <th>1</th>\n",
              "      <td>im selfish impatient and a little insecure i m...</td>\n",
              "      <td>0</td>\n",
              "      <td>0</td>\n",
              "      <td>0</td>\n",
              "      <td>0</td>\n",
              "      <td>0</td>\n",
              "      <td>0</td>\n",
              "      <td>0</td>\n",
              "      <td>0</td>\n",
              "      <td>0</td>\n",
              "      <td>...</td>\n",
              "      <td>0</td>\n",
              "      <td>0</td>\n",
              "      <td>0</td>\n",
              "      <td>0</td>\n",
              "      <td>0</td>\n",
              "      <td>0</td>\n",
              "      <td>0</td>\n",
              "      <td>0</td>\n",
              "      <td>0</td>\n",
              "      <td>0</td>\n",
              "    </tr>\n",
              "    <tr>\n",
              "      <th>2</th>\n",
              "      <td>two things are infinite the universe and human...</td>\n",
              "      <td>0</td>\n",
              "      <td>0</td>\n",
              "      <td>0</td>\n",
              "      <td>0</td>\n",
              "      <td>0</td>\n",
              "      <td>0</td>\n",
              "      <td>0</td>\n",
              "      <td>0</td>\n",
              "      <td>0</td>\n",
              "      <td>...</td>\n",
              "      <td>0</td>\n",
              "      <td>0</td>\n",
              "      <td>0</td>\n",
              "      <td>0</td>\n",
              "      <td>0</td>\n",
              "      <td>0</td>\n",
              "      <td>0</td>\n",
              "      <td>0</td>\n",
              "      <td>0</td>\n",
              "      <td>0</td>\n",
              "    </tr>\n",
              "    <tr>\n",
              "      <th>3</th>\n",
              "      <td>so many books so little time</td>\n",
              "      <td>0</td>\n",
              "      <td>0</td>\n",
              "      <td>0</td>\n",
              "      <td>0</td>\n",
              "      <td>0</td>\n",
              "      <td>0</td>\n",
              "      <td>0</td>\n",
              "      <td>0</td>\n",
              "      <td>0</td>\n",
              "      <td>...</td>\n",
              "      <td>0</td>\n",
              "      <td>0</td>\n",
              "      <td>0</td>\n",
              "      <td>0</td>\n",
              "      <td>0</td>\n",
              "      <td>0</td>\n",
              "      <td>0</td>\n",
              "      <td>0</td>\n",
              "      <td>0</td>\n",
              "      <td>0</td>\n",
              "    </tr>\n",
              "    <tr>\n",
              "      <th>4</th>\n",
              "      <td>a room without books is like a body without a ...</td>\n",
              "      <td>0</td>\n",
              "      <td>0</td>\n",
              "      <td>0</td>\n",
              "      <td>0</td>\n",
              "      <td>0</td>\n",
              "      <td>0</td>\n",
              "      <td>0</td>\n",
              "      <td>0</td>\n",
              "      <td>0</td>\n",
              "      <td>...</td>\n",
              "      <td>0</td>\n",
              "      <td>0</td>\n",
              "      <td>0</td>\n",
              "      <td>0</td>\n",
              "      <td>0</td>\n",
              "      <td>0</td>\n",
              "      <td>0</td>\n",
              "      <td>0</td>\n",
              "      <td>0</td>\n",
              "      <td>0</td>\n",
              "    </tr>\n",
              "  </tbody>\n",
              "</table>\n",
              "<p>5 rows × 2115 columns</p>\n",
              "</div>\n",
              "      <button class=\"colab-df-convert\" onclick=\"convertToInteractive('df-ab0b3d66-3a20-4aad-9956-aa3c938ed69a')\"\n",
              "              title=\"Convert this dataframe to an interactive table.\"\n",
              "              style=\"display:none;\">\n",
              "        \n",
              "  <svg xmlns=\"http://www.w3.org/2000/svg\" height=\"24px\"viewBox=\"0 0 24 24\"\n",
              "       width=\"24px\">\n",
              "    <path d=\"M0 0h24v24H0V0z\" fill=\"none\"/>\n",
              "    <path d=\"M18.56 5.44l.94 2.06.94-2.06 2.06-.94-2.06-.94-.94-2.06-.94 2.06-2.06.94zm-11 1L8.5 8.5l.94-2.06 2.06-.94-2.06-.94L8.5 2.5l-.94 2.06-2.06.94zm10 10l.94 2.06.94-2.06 2.06-.94-2.06-.94-.94-2.06-.94 2.06-2.06.94z\"/><path d=\"M17.41 7.96l-1.37-1.37c-.4-.4-.92-.59-1.43-.59-.52 0-1.04.2-1.43.59L10.3 9.45l-7.72 7.72c-.78.78-.78 2.05 0 2.83L4 21.41c.39.39.9.59 1.41.59.51 0 1.02-.2 1.41-.59l7.78-7.78 2.81-2.81c.8-.78.8-2.07 0-2.86zM5.41 20L4 18.59l7.72-7.72 1.47 1.35L5.41 20z\"/>\n",
              "  </svg>\n",
              "      </button>\n",
              "      \n",
              "  <style>\n",
              "    .colab-df-container {\n",
              "      display:flex;\n",
              "      flex-wrap:wrap;\n",
              "      gap: 12px;\n",
              "    }\n",
              "\n",
              "    .colab-df-convert {\n",
              "      background-color: #E8F0FE;\n",
              "      border: none;\n",
              "      border-radius: 50%;\n",
              "      cursor: pointer;\n",
              "      display: none;\n",
              "      fill: #1967D2;\n",
              "      height: 32px;\n",
              "      padding: 0 0 0 0;\n",
              "      width: 32px;\n",
              "    }\n",
              "\n",
              "    .colab-df-convert:hover {\n",
              "      background-color: #E2EBFA;\n",
              "      box-shadow: 0px 1px 2px rgba(60, 64, 67, 0.3), 0px 1px 3px 1px rgba(60, 64, 67, 0.15);\n",
              "      fill: #174EA6;\n",
              "    }\n",
              "\n",
              "    [theme=dark] .colab-df-convert {\n",
              "      background-color: #3B4455;\n",
              "      fill: #D2E3FC;\n",
              "    }\n",
              "\n",
              "    [theme=dark] .colab-df-convert:hover {\n",
              "      background-color: #434B5C;\n",
              "      box-shadow: 0px 1px 3px 1px rgba(0, 0, 0, 0.15);\n",
              "      filter: drop-shadow(0px 1px 2px rgba(0, 0, 0, 0.3));\n",
              "      fill: #FFFFFF;\n",
              "    }\n",
              "  </style>\n",
              "\n",
              "      <script>\n",
              "        const buttonEl =\n",
              "          document.querySelector('#df-ab0b3d66-3a20-4aad-9956-aa3c938ed69a button.colab-df-convert');\n",
              "        buttonEl.style.display =\n",
              "          google.colab.kernel.accessAllowed ? 'block' : 'none';\n",
              "\n",
              "        async function convertToInteractive(key) {\n",
              "          const element = document.querySelector('#df-ab0b3d66-3a20-4aad-9956-aa3c938ed69a');\n",
              "          const dataTable =\n",
              "            await google.colab.kernel.invokeFunction('convertToInteractive',\n",
              "                                                     [key], {});\n",
              "          if (!dataTable) return;\n",
              "\n",
              "          const docLinkHtml = 'Like what you see? Visit the ' +\n",
              "            '<a target=\"_blank\" href=https://colab.research.google.com/notebooks/data_table.ipynb>data table notebook</a>'\n",
              "            + ' to learn more about interactive tables.';\n",
              "          element.innerHTML = '';\n",
              "          dataTable['output_type'] = 'display_data';\n",
              "          await google.colab.output.renderOutput(dataTable, element);\n",
              "          const docLink = document.createElement('div');\n",
              "          docLink.innerHTML = docLinkHtml;\n",
              "          element.appendChild(docLink);\n",
              "        }\n",
              "      </script>\n",
              "    </div>\n",
              "  </div>\n",
              "  "
            ],
            "text/plain": [
              "                                               quote  tags_  tags_a  \\\n",
              "0         be yourself everyone else is already taken      0       0   \n",
              "1  im selfish impatient and a little insecure i m...      0       0   \n",
              "2  two things are infinite the universe and human...      0       0   \n",
              "3                       so many books so little time      0       0   \n",
              "4  a room without books is like a body without a ...      0       0   \n",
              "\n",
              "   tags_abbey  tags_abe  tags_abilities  tags_abraham  tags_absence  \\\n",
              "0           0         0               0             0             0   \n",
              "1           0         0               0             0             0   \n",
              "2           0         0               0             0             0   \n",
              "3           0         0               0             0             0   \n",
              "4           0         0               0             0             0   \n",
              "\n",
              "   tags_absurdities  tags_abundance  ...  tags_youth  tags_youthfulness  \\\n",
              "0                 0               0  ...           0                  0   \n",
              "1                 0               0  ...           0                  0   \n",
              "2                 0               0  ...           0                  0   \n",
              "3                 0               0  ...           0                  0   \n",
              "4                 0               0  ...           0                  0   \n",
              "\n",
              "   tags_zarek  tags_zen  tags_zeus  tags_zoe  tags_zombies  tags_zone  \\\n",
              "0           0         0          0         0             0          0   \n",
              "1           0         0          0         0             0          0   \n",
              "2           0         0          0         0             0          0   \n",
              "3           0         0          0         0             0          0   \n",
              "4           0         0          0         0             0          0   \n",
              "\n",
              "   tags_zsadist  tags_حب  \n",
              "0             0        0  \n",
              "1             0        0  \n",
              "2             0        0  \n",
              "3             0        0  \n",
              "4             0        0  \n",
              "\n",
              "[5 rows x 2115 columns]"
            ]
          },
          "metadata": {},
          "execution_count": 120
        }
      ],
      "source": [
        "gr_tags = pd.DataFrame(goodreads['tags'].apply(pad).tolist())\n",
        "gr_tags_oh = pd.get_dummies(gr_tags, prefix = 'tags')\n",
        "gr_tags_oh = gr_tags_oh.groupby(gr_tags_oh.columns, axis = 1).sum()\n",
        "reshaped_gr = pd.concat([goodreads, gr_tags_oh], axis = 1).drop(columns = ['isEmpty', 'tags'])\n",
        "reshaped_gr.head()"
      ]
    },
    {
      "cell_type": "markdown",
      "id": "45b11d4a",
      "metadata": {
        "id": "45b11d4a"
      },
      "source": [
        "We can see the distribution of tags as below. 31% of our quotes only have 1 tag, while only 1% have the maximum tags possible. "
      ]
    },
    {
      "cell_type": "code",
      "execution_count": 121,
      "id": "b538dc55",
      "metadata": {
        "id": "b538dc55",
        "outputId": "8748169c-0e56-4c88-9f2d-6d8d6aae4070",
        "colab": {
          "base_uri": "https://localhost:8080/",
          "height": 485
        }
      },
      "outputs": [
        {
          "output_type": "execute_result",
          "data": {
            "text/plain": [
              "0       0.001315\n",
              "1       0.001128\n",
              "2       0.001034\n",
              "3       0.000188\n",
              "4       0.000564\n",
              "          ...   \n",
              "2995    0.000376\n",
              "2996    0.000564\n",
              "2997    0.000094\n",
              "2998    0.000470\n",
              "2999    0.000376\n",
              "Length: 3000, dtype: float64"
            ]
          },
          "metadata": {},
          "execution_count": 121
        },
        {
          "output_type": "display_data",
          "data": {
            "image/png": "[encoded data removed]",
            "text/plain": [
              "<Figure size 432x288 with 1 Axes>"
            ]
          },
          "metadata": {
            "needs_background": "light"
          }
        }
      ],
      "source": [
        "cnts = reshaped_gr.iloc[:, 1:].sum(axis = 1)\n",
        "cnts.hist()\n",
        "cnts / cnts.sum()"
      ]
    },
    {
      "cell_type": "markdown",
      "id": "cbd0454d",
      "metadata": {
        "id": "cbd0454d"
      },
      "source": [
        "# Modeling"
      ]
    },
    {
      "cell_type": "markdown",
      "id": "6f709dcc",
      "metadata": {
        "id": "6f709dcc"
      },
      "source": [
        "Now, we can begin our modeling. \n",
        "\n",
        "Firstly, we'll get a list of all of our tags. We'll do this by taking all columns besides \"Author\" and \"Quote\"\n",
        "\n",
        "Next, we'll use sklearn's train_test_split() function to split our dataset into a training and testing set. We'll split so that our test set is 33% of our dataset size. As we have 100 rows into our data, then we'll have a training set of 67 rows and testing size of 33 rows. "
      ]
    },
    {
      "cell_type": "code",
      "execution_count": null,
      "id": "a2adcc28",
      "metadata": {
        "id": "a2adcc28",
        "outputId": "368836e0-13a8-43e1-8bfc-638f9a300157",
        "colab": {
          "base_uri": "https://localhost:8080/"
        }
      },
      "outputs": [
        {
          "output_type": "stream",
          "name": "stdout",
          "text": [
            "(2250,)\n",
            "(750,)\n"
          ]
        }
      ],
      "source": [
        "gr_tags = reshaped_gr.columns[1:]\n",
        "\n",
        "train, test = train_test_split(reshaped_gr, test_size = 0.25, random_state = 42)\n",
        "\n",
        "x_tr = train.quote\n",
        "x_te = test.quote\n",
        "\n",
        "print(x_tr.shape)\n",
        "print(x_te.shape)"
      ]
    },
    {
      "cell_type": "markdown",
      "id": "42696382",
      "metadata": {
        "id": "42696382"
      },
      "source": [
        "### Model 1: Decision Tree Classifier\n",
        "\n",
        "Our first model will be using scikit-learn Pipelines. \n",
        "\n",
        "Inside our pipeline, we'll firstly vectorize the input data by converting the quote to their TFIDF formation. This will convert our string Quotes to becoming numerical values for input. Then, we have to consider how we will be handling multiple classes. We'll try with a OneVsRest classifier, because this will allow us to pass in each tag and use an single-class estimator on each tag's train and test data. \n",
        "\n",
        "However, we need to wrap the OneVsRest classifier around an estimator that makes sense for what we are trying to achieve here. We'll use a Decision tree classifier, because the sklearn functionality is pretty simplistic, doesnt require much shaping of the data, and should hopefully set a good basis for our first try. "
      ]
    },
    {
      "cell_type": "code",
      "execution_count": null,
      "id": "f6d3b9cf",
      "metadata": {
        "id": "f6d3b9cf"
      },
      "outputs": [],
      "source": [
        "dt_classifier = Pipeline([('tfidf', TfidfVectorizer()), ('clf', OneVsRestClassifier(DecisionTreeClassifier()))])"
      ]
    },
    {
      "cell_type": "markdown",
      "id": "dcfc7702",
      "metadata": {
        "id": "dcfc7702"
      },
      "source": [
        "Now, we'll loop through each of the tags in our dataset, train our model on that particular tag, and then append it to a dictionary containg each tag and that tag's associated evaluation score. \n",
        "\n",
        "For our evaluating metric, we'll choose to use f1 scores over accuracy, because if we look at our data, we have an imbalance of tags. Some quotes have several tags, while others only have one or two. As such, using accuracy would likely not work well for this scenario. \n",
        "\n",
        "However, we have multiple classes, so it would not make much sense to get a bunch of f1 scores since each tag would give different results. We can instead collect each tag's precision and recall from when the model's predictions are compared to the actual test data. "
      ]
    },
    {
      "cell_type": "code",
      "execution_count": null,
      "id": "29223acb",
      "metadata": {
        "id": "29223acb"
      },
      "outputs": [],
      "source": [
        "prec_recs = {}\n",
        "for tag in gr_tags:\n",
        "    \n",
        "    dt_classifier.fit(x_tr, train[tag])\n",
        "    prediction = dt_classifier.predict(x_te)\n",
        "    \n",
        "    precision_recall = precision_recall_fscore_support(test[tag], prediction, average = 'macro')\n",
        "    prec_recs[tag] = precision_recall"
      ]
    },
    {
      "cell_type": "markdown",
      "id": "42c71ad3",
      "metadata": {
        "id": "42c71ad3"
      },
      "source": [
        "So now we can calculate the average precision and recall for our tags by looping through our dictionary, summing up the total of both metrics, and dividing by the number of tags."
      ]
    },
    {
      "cell_type": "code",
      "execution_count": null,
      "id": "5590eb64",
      "metadata": {
        "id": "5590eb64"
      },
      "outputs": [],
      "source": [
        "sum_precision = 0\n",
        "sum_recall = 0\n",
        "\n",
        "for key in prec_recs.keys():\n",
        "    \n",
        "    sum_precision += prec_recs[key][0]\n",
        "    sum_recall += prec_recs[key][1]\n",
        "    \n",
        "mean_precision = sum_precision / len(prec_recs.keys())\n",
        "mean_recall = sum_recall / len(prec_recs.keys())"
      ]
    },
    {
      "cell_type": "markdown",
      "id": "d8f60216",
      "metadata": {
        "id": "d8f60216"
      },
      "source": [
        "Now we apply the formula of finding an f1 score which is (2 * p * r) / (p + r)"
      ]
    },
    {
      "cell_type": "code",
      "execution_count": null,
      "id": "d942fa49",
      "metadata": {
        "id": "d942fa49",
        "outputId": "303ac15d-87ea-4a57-a446-df0f912efacf",
        "colab": {
          "base_uri": "https://localhost:8080/"
        }
      },
      "outputs": [
        {
          "output_type": "execute_result",
          "data": {
            "text/plain": [
              "0.7169826541146564"
            ]
          },
          "metadata": {},
          "execution_count": 22
        }
      ],
      "source": [
        "average_f1 = (2 * mean_precision * mean_recall) / (mean_precision + mean_recall)\n",
        "average_f1"
      ]
    },
    {
      "cell_type": "markdown",
      "id": "c6039cf1",
      "metadata": {
        "id": "c6039cf1"
      },
      "source": [
        "So we have an f1 score of about 0.708. F1 scores range from 0 to 1, and the closer they are to 1, the better the model, so we have set up a good baseline for ourselves. But we want to improve on this and make our model better classify our quotes. "
      ]
    },
    {
      "cell_type": "markdown",
      "id": "b93fd599",
      "metadata": {
        "id": "b93fd599"
      },
      "source": [
        "#### Optimizing Model 1  "
      ]
    },
    {
      "cell_type": "markdown",
      "id": "68c5ea4e",
      "metadata": {
        "id": "68c5ea4e"
      },
      "source": [
        "Now that we have our baseline model, how can we optimize it? \n",
        "\n",
        "There are many concepts we can implement into our Pipeline, both from a text classification standpoint, as well as a sklearn standpoint. \n",
        "\n",
        "The first method we'll implement is getting rid of stop-words. These are words that appear extremely frequently in human language, and give very little value to our model. Removing them can allow our model to focus more strongly on the more important data. "
      ]
    },
    {
      "cell_type": "code",
      "execution_count": null,
      "id": "41bbe4f3",
      "metadata": {
        "id": "41bbe4f3"
      },
      "outputs": [],
      "source": [
        "stop_words = set(stopwords.words('english'))"
      ]
    },
    {
      "cell_type": "markdown",
      "id": "919b4ad4",
      "metadata": {
        "id": "919b4ad4"
      },
      "source": [
        "Now that we have defined the words to remove, we can try and optimize our other parameters with GridSearchCV. First, we'll need to select what parameters we can optimize. "
      ]
    },
    {
      "cell_type": "code",
      "execution_count": null,
      "id": "07867f2b",
      "metadata": {
        "id": "07867f2b"
      },
      "outputs": [],
      "source": [
        "parameters = {\n",
        "    'clf':(DecisionTreeClassifier(),),\n",
        "    'clf__max_depth': [2, 3, 4, 5, 7, 10, 13, 15, 18, None],\n",
        "    'clf__min_samples_split': [2, 3, 5, 7, 10, 15, 20],\n",
        "    'clf__min_samples_leaf': [2, 3, 5, 7, 10, 15, 20]\n",
        "}"
      ]
    },
    {
      "cell_type": "markdown",
      "id": "7342d553",
      "metadata": {
        "id": "7342d553"
      },
      "source": [
        "Now we have created the parameters, we can place that into a GridSearchCV and train it on our data. \n",
        "Let's print out the best parameters we get. "
      ]
    },
    {
      "cell_type": "code",
      "execution_count": null,
      "id": "5b22152f",
      "metadata": {
        "id": "5b22152f",
        "outputId": "11cd87ee-4201-497a-d0ce-1169a79c4449",
        "colab": {
          "base_uri": "https://localhost:8080/",
          "height": 399
        }
      },
      "outputs": [
        {
          "output_type": "error",
          "ename": "KeyboardInterrupt",
          "evalue": "ignored",
          "traceback": [
            "\u001b[0;31m---------------------------------------------------------------------------\u001b[0m",
            "\u001b[0;31mKeyboardInterrupt\u001b[0m                         Traceback (most recent call last)",
            "\u001b[0;32m<ipython-input-26-affc76dac527>\u001b[0m in \u001b[0;36m<module>\u001b[0;34m()\u001b[0m\n\u001b[1;32m      1\u001b[0m \u001b[0mgrids\u001b[0m \u001b[0;34m=\u001b[0m \u001b[0mGridSearchCV\u001b[0m\u001b[0;34m(\u001b[0m\u001b[0mdt_classifier\u001b[0m\u001b[0;34m,\u001b[0m \u001b[0mparam_grid\u001b[0m \u001b[0;34m=\u001b[0m \u001b[0mparameters\u001b[0m\u001b[0;34m,\u001b[0m \u001b[0mcv\u001b[0m \u001b[0;34m=\u001b[0m \u001b[0;36m3\u001b[0m\u001b[0;34m,\u001b[0m \u001b[0mreturn_train_score\u001b[0m \u001b[0;34m=\u001b[0m \u001b[0;32mTrue\u001b[0m\u001b[0;34m)\u001b[0m\u001b[0;34m\u001b[0m\u001b[0;34m\u001b[0m\u001b[0m\n\u001b[1;32m      2\u001b[0m \u001b[0;32mfor\u001b[0m \u001b[0mtag\u001b[0m \u001b[0;32min\u001b[0m \u001b[0mgr_tags\u001b[0m\u001b[0;34m:\u001b[0m\u001b[0;34m\u001b[0m\u001b[0;34m\u001b[0m\u001b[0m\n\u001b[0;32m----> 3\u001b[0;31m     \u001b[0mgrids\u001b[0m\u001b[0;34m.\u001b[0m\u001b[0mfit\u001b[0m\u001b[0;34m(\u001b[0m\u001b[0mx_tr\u001b[0m\u001b[0;34m,\u001b[0m \u001b[0mtrain\u001b[0m\u001b[0;34m[\u001b[0m\u001b[0mtag\u001b[0m\u001b[0;34m]\u001b[0m\u001b[0;34m)\u001b[0m\u001b[0;34m\u001b[0m\u001b[0;34m\u001b[0m\u001b[0m\n\u001b[0m\u001b[1;32m      4\u001b[0m \u001b[0;34m\u001b[0m\u001b[0m\n\u001b[1;32m      5\u001b[0m \u001b[0mgrids\u001b[0m\u001b[0;34m.\u001b[0m\u001b[0mbest_params_\u001b[0m\u001b[0;34m\u001b[0m\u001b[0;34m\u001b[0m\u001b[0m\n",
            "\u001b[0;32m/usr/local/lib/python3.7/dist-packages/sklearn/model_selection/_search.py\u001b[0m in \u001b[0;36mfit\u001b[0;34m(self, X, y, groups, **fit_params)\u001b[0m\n\u001b[1;32m    889\u001b[0m                 \u001b[0;32mreturn\u001b[0m \u001b[0mresults\u001b[0m\u001b[0;34m\u001b[0m\u001b[0;34m\u001b[0m\u001b[0m\n\u001b[1;32m    890\u001b[0m \u001b[0;34m\u001b[0m\u001b[0m\n\u001b[0;32m--> 891\u001b[0;31m             \u001b[0mself\u001b[0m\u001b[0;34m.\u001b[0m\u001b[0m_run_search\u001b[0m\u001b[0;34m(\u001b[0m\u001b[0mevaluate_candidates\u001b[0m\u001b[0;34m)\u001b[0m\u001b[0;34m\u001b[0m\u001b[0;34m\u001b[0m\u001b[0m\n\u001b[0m\u001b[1;32m    892\u001b[0m \u001b[0;34m\u001b[0m\u001b[0m\n\u001b[1;32m    893\u001b[0m             \u001b[0;31m# multimetric is determined here because in the case of a callable\u001b[0m\u001b[0;34m\u001b[0m\u001b[0;34m\u001b[0m\u001b[0;34m\u001b[0m\u001b[0m\n",
            "\u001b[0;32m/usr/local/lib/python3.7/dist-packages/sklearn/model_selection/_search.py\u001b[0m in \u001b[0;36m_run_search\u001b[0;34m(self, evaluate_candidates)\u001b[0m\n\u001b[1;32m   1390\u001b[0m     \u001b[0;32mdef\u001b[0m \u001b[0m_run_search\u001b[0m\u001b[0;34m(\u001b[0m\u001b[0mself\u001b[0m\u001b[0;34m,\u001b[0m \u001b[0mevaluate_candidates\u001b[0m\u001b[0;34m)\u001b[0m\u001b[0;34m:\u001b[0m\u001b[0;34m\u001b[0m\u001b[0;34m\u001b[0m\u001b[0m\n\u001b[1;32m   1391\u001b[0m         \u001b[0;34m\"\"\"Search all candidates in param_grid\"\"\"\u001b[0m\u001b[0;34m\u001b[0m\u001b[0;34m\u001b[0m\u001b[0m\n\u001b[0;32m-> 1392\u001b[0;31m         \u001b[0mevaluate_candidates\u001b[0m\u001b[0;34m(\u001b[0m\u001b[0mParameterGrid\u001b[0m\u001b[0;34m(\u001b[0m\u001b[0mself\u001b[0m\u001b[0;34m.\u001b[0m\u001b[0mparam_grid\u001b[0m\u001b[0;34m)\u001b[0m\u001b[0;34m)\u001b[0m\u001b[0;34m\u001b[0m\u001b[0;34m\u001b[0m\u001b[0m\n\u001b[0m\u001b[1;32m   1393\u001b[0m \u001b[0;34m\u001b[0m\u001b[0m\n\u001b[1;32m   1394\u001b[0m \u001b[0;34m\u001b[0m\u001b[0m\n",
            "\u001b[0;32m/usr/local/lib/python3.7/dist-packages/sklearn/model_selection/_search.py\u001b[0m in \u001b[0;36mevaluate_candidates\u001b[0;34m(candidate_params, cv, more_results)\u001b[0m\n\u001b[1;32m    849\u001b[0m                     )\n\u001b[1;32m    850\u001b[0m                     for (cand_idx, parameters), (split_idx, (train, test)) in product(\n\u001b[0;32m--> 851\u001b[0;31m                         \u001b[0menumerate\u001b[0m\u001b[0;34m(\u001b[0m\u001b[0mcandidate_params\u001b[0m\u001b[0;34m)\u001b[0m\u001b[0;34m,\u001b[0m \u001b[0menumerate\u001b[0m\u001b[0;34m(\u001b[0m\u001b[0mcv\u001b[0m\u001b[0;34m.\u001b[0m\u001b[0msplit\u001b[0m\u001b[0;34m(\u001b[0m\u001b[0mX\u001b[0m\u001b[0;34m,\u001b[0m \u001b[0my\u001b[0m\u001b[0;34m,\u001b[0m \u001b[0mgroups\u001b[0m\u001b[0;34m)\u001b[0m\u001b[0;34m)\u001b[0m\u001b[0;34m\u001b[0m\u001b[0;34m\u001b[0m\u001b[0m\n\u001b[0m\u001b[1;32m    852\u001b[0m                     )\n\u001b[1;32m    853\u001b[0m                 )\n",
            "\u001b[0;32m/usr/local/lib/python3.7/dist-packages/joblib/parallel.py\u001b[0m in \u001b[0;36m__call__\u001b[0;34m(self, iterable)\u001b[0m\n\u001b[1;32m   1044\u001b[0m                 \u001b[0mself\u001b[0m\u001b[0;34m.\u001b[0m\u001b[0m_iterating\u001b[0m \u001b[0;34m=\u001b[0m \u001b[0mself\u001b[0m\u001b[0;34m.\u001b[0m\u001b[0m_original_iterator\u001b[0m \u001b[0;32mis\u001b[0m \u001b[0;32mnot\u001b[0m \u001b[0;32mNone\u001b[0m\u001b[0;34m\u001b[0m\u001b[0;34m\u001b[0m\u001b[0m\n\u001b[1;32m   1045\u001b[0m \u001b[0;34m\u001b[0m\u001b[0m\n\u001b[0;32m-> 1046\u001b[0;31m             \u001b[0;32mwhile\u001b[0m \u001b[0mself\u001b[0m\u001b[0;34m.\u001b[0m\u001b[0mdispatch_one_batch\u001b[0m\u001b[0;34m(\u001b[0m\u001b[0miterator\u001b[0m\u001b[0;34m)\u001b[0m\u001b[0;34m:\u001b[0m\u001b[0;34m\u001b[0m\u001b[0;34m\u001b[0m\u001b[0m\n\u001b[0m\u001b[1;32m   1047\u001b[0m                 \u001b[0;32mpass\u001b[0m\u001b[0;34m\u001b[0m\u001b[0;34m\u001b[0m\u001b[0m\n\u001b[1;32m   1048\u001b[0m \u001b[0;34m\u001b[0m\u001b[0m\n",
            "\u001b[0;32m/usr/local/lib/python3.7/dist-packages/joblib/parallel.py\u001b[0m in \u001b[0;36mdispatch_one_batch\u001b[0;34m(self, iterator)\u001b[0m\n\u001b[1;32m    859\u001b[0m                 \u001b[0;32mreturn\u001b[0m \u001b[0;32mFalse\u001b[0m\u001b[0;34m\u001b[0m\u001b[0;34m\u001b[0m\u001b[0m\n\u001b[1;32m    860\u001b[0m             \u001b[0;32melse\u001b[0m\u001b[0;34m:\u001b[0m\u001b[0;34m\u001b[0m\u001b[0;34m\u001b[0m\u001b[0m\n\u001b[0;32m--> 861\u001b[0;31m                 \u001b[0mself\u001b[0m\u001b[0;34m.\u001b[0m\u001b[0m_dispatch\u001b[0m\u001b[0;34m(\u001b[0m\u001b[0mtasks\u001b[0m\u001b[0;34m)\u001b[0m\u001b[0;34m\u001b[0m\u001b[0;34m\u001b[0m\u001b[0m\n\u001b[0m\u001b[1;32m    862\u001b[0m                 \u001b[0;32mreturn\u001b[0m \u001b[0;32mTrue\u001b[0m\u001b[0;34m\u001b[0m\u001b[0;34m\u001b[0m\u001b[0m\n\u001b[1;32m    863\u001b[0m \u001b[0;34m\u001b[0m\u001b[0m\n",
            "\u001b[0;32m/usr/local/lib/python3.7/dist-packages/joblib/parallel.py\u001b[0m in \u001b[0;36m_dispatch\u001b[0;34m(self, batch)\u001b[0m\n\u001b[1;32m    777\u001b[0m         \u001b[0;32mwith\u001b[0m \u001b[0mself\u001b[0m\u001b[0;34m.\u001b[0m\u001b[0m_lock\u001b[0m\u001b[0;34m:\u001b[0m\u001b[0;34m\u001b[0m\u001b[0;34m\u001b[0m\u001b[0m\n\u001b[1;32m    778\u001b[0m             \u001b[0mjob_idx\u001b[0m \u001b[0;34m=\u001b[0m \u001b[0mlen\u001b[0m\u001b[0;34m(\u001b[0m\u001b[0mself\u001b[0m\u001b[0;34m.\u001b[0m\u001b[0m_jobs\u001b[0m\u001b[0;34m)\u001b[0m\u001b[0;34m\u001b[0m\u001b[0;34m\u001b[0m\u001b[0m\n\u001b[0;32m--> 779\u001b[0;31m             \u001b[0mjob\u001b[0m \u001b[0;34m=\u001b[0m \u001b[0mself\u001b[0m\u001b[0;34m.\u001b[0m\u001b[0m_backend\u001b[0m\u001b[0;34m.\u001b[0m\u001b[0mapply_async\u001b[0m\u001b[0;34m(\u001b[0m\u001b[0mbatch\u001b[0m\u001b[0;34m,\u001b[0m \u001b[0mcallback\u001b[0m\u001b[0;34m=\u001b[0m\u001b[0mcb\u001b[0m\u001b[0;34m)\u001b[0m\u001b[0;34m\u001b[0m\u001b[0;34m\u001b[0m\u001b[0m\n\u001b[0m\u001b[1;32m    780\u001b[0m             \u001b[0;31m# A job can complete so quickly than its callback is\u001b[0m\u001b[0;34m\u001b[0m\u001b[0;34m\u001b[0m\u001b[0;34m\u001b[0m\u001b[0m\n\u001b[1;32m    781\u001b[0m             \u001b[0;31m# called before we get here, causing self._jobs to\u001b[0m\u001b[0;34m\u001b[0m\u001b[0;34m\u001b[0m\u001b[0;34m\u001b[0m\u001b[0m\n",
            "\u001b[0;32m/usr/local/lib/python3.7/dist-packages/joblib/_parallel_backends.py\u001b[0m in \u001b[0;36mapply_async\u001b[0;34m(self, func, callback)\u001b[0m\n\u001b[1;32m    206\u001b[0m     \u001b[0;32mdef\u001b[0m \u001b[0mapply_async\u001b[0m\u001b[0;34m(\u001b[0m\u001b[0mself\u001b[0m\u001b[0;34m,\u001b[0m \u001b[0mfunc\u001b[0m\u001b[0;34m,\u001b[0m \u001b[0mcallback\u001b[0m\u001b[0;34m=\u001b[0m\u001b[0;32mNone\u001b[0m\u001b[0;34m)\u001b[0m\u001b[0;34m:\u001b[0m\u001b[0;34m\u001b[0m\u001b[0;34m\u001b[0m\u001b[0m\n\u001b[1;32m    207\u001b[0m         \u001b[0;34m\"\"\"Schedule a func to be run\"\"\"\u001b[0m\u001b[0;34m\u001b[0m\u001b[0;34m\u001b[0m\u001b[0m\n\u001b[0;32m--> 208\u001b[0;31m         \u001b[0mresult\u001b[0m \u001b[0;34m=\u001b[0m \u001b[0mImmediateResult\u001b[0m\u001b[0;34m(\u001b[0m\u001b[0mfunc\u001b[0m\u001b[0;34m)\u001b[0m\u001b[0;34m\u001b[0m\u001b[0;34m\u001b[0m\u001b[0m\n\u001b[0m\u001b[1;32m    209\u001b[0m         \u001b[0;32mif\u001b[0m \u001b[0mcallback\u001b[0m\u001b[0;34m:\u001b[0m\u001b[0;34m\u001b[0m\u001b[0;34m\u001b[0m\u001b[0m\n\u001b[1;32m    210\u001b[0m             \u001b[0mcallback\u001b[0m\u001b[0;34m(\u001b[0m\u001b[0mresult\u001b[0m\u001b[0;34m)\u001b[0m\u001b[0;34m\u001b[0m\u001b[0;34m\u001b[0m\u001b[0m\n",
            "\u001b[0;32m/usr/local/lib/python3.7/dist-packages/joblib/_parallel_backends.py\u001b[0m in \u001b[0;36m__init__\u001b[0;34m(self, batch)\u001b[0m\n\u001b[1;32m    570\u001b[0m         \u001b[0;31m# Don't delay the application, to avoid keeping the input\u001b[0m\u001b[0;34m\u001b[0m\u001b[0;34m\u001b[0m\u001b[0;34m\u001b[0m\u001b[0m\n\u001b[1;32m    571\u001b[0m         \u001b[0;31m# arguments in memory\u001b[0m\u001b[0;34m\u001b[0m\u001b[0;34m\u001b[0m\u001b[0;34m\u001b[0m\u001b[0m\n\u001b[0;32m--> 572\u001b[0;31m         \u001b[0mself\u001b[0m\u001b[0;34m.\u001b[0m\u001b[0mresults\u001b[0m \u001b[0;34m=\u001b[0m \u001b[0mbatch\u001b[0m\u001b[0;34m(\u001b[0m\u001b[0;34m)\u001b[0m\u001b[0;34m\u001b[0m\u001b[0;34m\u001b[0m\u001b[0m\n\u001b[0m\u001b[1;32m    573\u001b[0m \u001b[0;34m\u001b[0m\u001b[0m\n\u001b[1;32m    574\u001b[0m     \u001b[0;32mdef\u001b[0m \u001b[0mget\u001b[0m\u001b[0;34m(\u001b[0m\u001b[0mself\u001b[0m\u001b[0;34m)\u001b[0m\u001b[0;34m:\u001b[0m\u001b[0;34m\u001b[0m\u001b[0;34m\u001b[0m\u001b[0m\n",
            "\u001b[0;32m/usr/local/lib/python3.7/dist-packages/joblib/parallel.py\u001b[0m in \u001b[0;36m__call__\u001b[0;34m(self)\u001b[0m\n\u001b[1;32m    261\u001b[0m         \u001b[0;32mwith\u001b[0m \u001b[0mparallel_backend\u001b[0m\u001b[0;34m(\u001b[0m\u001b[0mself\u001b[0m\u001b[0;34m.\u001b[0m\u001b[0m_backend\u001b[0m\u001b[0;34m,\u001b[0m \u001b[0mn_jobs\u001b[0m\u001b[0;34m=\u001b[0m\u001b[0mself\u001b[0m\u001b[0;34m.\u001b[0m\u001b[0m_n_jobs\u001b[0m\u001b[0;34m)\u001b[0m\u001b[0;34m:\u001b[0m\u001b[0;34m\u001b[0m\u001b[0;34m\u001b[0m\u001b[0m\n\u001b[1;32m    262\u001b[0m             return [func(*args, **kwargs)\n\u001b[0;32m--> 263\u001b[0;31m                     for func, args, kwargs in self.items]\n\u001b[0m\u001b[1;32m    264\u001b[0m \u001b[0;34m\u001b[0m\u001b[0m\n\u001b[1;32m    265\u001b[0m     \u001b[0;32mdef\u001b[0m \u001b[0m__reduce__\u001b[0m\u001b[0;34m(\u001b[0m\u001b[0mself\u001b[0m\u001b[0;34m)\u001b[0m\u001b[0;34m:\u001b[0m\u001b[0;34m\u001b[0m\u001b[0;34m\u001b[0m\u001b[0m\n",
            "\u001b[0;32m/usr/local/lib/python3.7/dist-packages/joblib/parallel.py\u001b[0m in \u001b[0;36m<listcomp>\u001b[0;34m(.0)\u001b[0m\n\u001b[1;32m    261\u001b[0m         \u001b[0;32mwith\u001b[0m \u001b[0mparallel_backend\u001b[0m\u001b[0;34m(\u001b[0m\u001b[0mself\u001b[0m\u001b[0;34m.\u001b[0m\u001b[0m_backend\u001b[0m\u001b[0;34m,\u001b[0m \u001b[0mn_jobs\u001b[0m\u001b[0;34m=\u001b[0m\u001b[0mself\u001b[0m\u001b[0;34m.\u001b[0m\u001b[0m_n_jobs\u001b[0m\u001b[0;34m)\u001b[0m\u001b[0;34m:\u001b[0m\u001b[0;34m\u001b[0m\u001b[0;34m\u001b[0m\u001b[0m\n\u001b[1;32m    262\u001b[0m             return [func(*args, **kwargs)\n\u001b[0;32m--> 263\u001b[0;31m                     for func, args, kwargs in self.items]\n\u001b[0m\u001b[1;32m    264\u001b[0m \u001b[0;34m\u001b[0m\u001b[0m\n\u001b[1;32m    265\u001b[0m     \u001b[0;32mdef\u001b[0m \u001b[0m__reduce__\u001b[0m\u001b[0;34m(\u001b[0m\u001b[0mself\u001b[0m\u001b[0;34m)\u001b[0m\u001b[0;34m:\u001b[0m\u001b[0;34m\u001b[0m\u001b[0;34m\u001b[0m\u001b[0m\n",
            "\u001b[0;32m/usr/local/lib/python3.7/dist-packages/sklearn/utils/fixes.py\u001b[0m in \u001b[0;36m__call__\u001b[0;34m(self, *args, **kwargs)\u001b[0m\n\u001b[1;32m    214\u001b[0m     \u001b[0;32mdef\u001b[0m \u001b[0m__call__\u001b[0m\u001b[0;34m(\u001b[0m\u001b[0mself\u001b[0m\u001b[0;34m,\u001b[0m \u001b[0;34m*\u001b[0m\u001b[0margs\u001b[0m\u001b[0;34m,\u001b[0m \u001b[0;34m**\u001b[0m\u001b[0mkwargs\u001b[0m\u001b[0;34m)\u001b[0m\u001b[0;34m:\u001b[0m\u001b[0;34m\u001b[0m\u001b[0;34m\u001b[0m\u001b[0m\n\u001b[1;32m    215\u001b[0m         \u001b[0;32mwith\u001b[0m \u001b[0mconfig_context\u001b[0m\u001b[0;34m(\u001b[0m\u001b[0;34m**\u001b[0m\u001b[0mself\u001b[0m\u001b[0;34m.\u001b[0m\u001b[0mconfig\u001b[0m\u001b[0;34m)\u001b[0m\u001b[0;34m:\u001b[0m\u001b[0;34m\u001b[0m\u001b[0;34m\u001b[0m\u001b[0m\n\u001b[0;32m--> 216\u001b[0;31m             \u001b[0;32mreturn\u001b[0m \u001b[0mself\u001b[0m\u001b[0;34m.\u001b[0m\u001b[0mfunction\u001b[0m\u001b[0;34m(\u001b[0m\u001b[0;34m*\u001b[0m\u001b[0margs\u001b[0m\u001b[0;34m,\u001b[0m \u001b[0;34m**\u001b[0m\u001b[0mkwargs\u001b[0m\u001b[0;34m)\u001b[0m\u001b[0;34m\u001b[0m\u001b[0;34m\u001b[0m\u001b[0m\n\u001b[0m\u001b[1;32m    217\u001b[0m \u001b[0;34m\u001b[0m\u001b[0m\n\u001b[1;32m    218\u001b[0m \u001b[0;34m\u001b[0m\u001b[0m\n",
            "\u001b[0;32m/usr/local/lib/python3.7/dist-packages/sklearn/model_selection/_validation.py\u001b[0m in \u001b[0;36m_fit_and_score\u001b[0;34m(estimator, X, y, scorer, train, test, verbose, parameters, fit_params, return_train_score, return_parameters, return_n_test_samples, return_times, return_estimator, split_progress, candidate_progress, error_score)\u001b[0m\n\u001b[1;32m    678\u001b[0m             \u001b[0mestimator\u001b[0m\u001b[0;34m.\u001b[0m\u001b[0mfit\u001b[0m\u001b[0;34m(\u001b[0m\u001b[0mX_train\u001b[0m\u001b[0;34m,\u001b[0m \u001b[0;34m**\u001b[0m\u001b[0mfit_params\u001b[0m\u001b[0;34m)\u001b[0m\u001b[0;34m\u001b[0m\u001b[0;34m\u001b[0m\u001b[0m\n\u001b[1;32m    679\u001b[0m         \u001b[0;32melse\u001b[0m\u001b[0;34m:\u001b[0m\u001b[0;34m\u001b[0m\u001b[0;34m\u001b[0m\u001b[0m\n\u001b[0;32m--> 680\u001b[0;31m             \u001b[0mestimator\u001b[0m\u001b[0;34m.\u001b[0m\u001b[0mfit\u001b[0m\u001b[0;34m(\u001b[0m\u001b[0mX_train\u001b[0m\u001b[0;34m,\u001b[0m \u001b[0my_train\u001b[0m\u001b[0;34m,\u001b[0m \u001b[0;34m**\u001b[0m\u001b[0mfit_params\u001b[0m\u001b[0;34m)\u001b[0m\u001b[0;34m\u001b[0m\u001b[0;34m\u001b[0m\u001b[0m\n\u001b[0m\u001b[1;32m    681\u001b[0m \u001b[0;34m\u001b[0m\u001b[0m\n\u001b[1;32m    682\u001b[0m     \u001b[0;32mexcept\u001b[0m \u001b[0mException\u001b[0m\u001b[0;34m:\u001b[0m\u001b[0;34m\u001b[0m\u001b[0;34m\u001b[0m\u001b[0m\n",
            "\u001b[0;32m/usr/local/lib/python3.7/dist-packages/sklearn/pipeline.py\u001b[0m in \u001b[0;36mfit\u001b[0;34m(self, X, y, **fit_params)\u001b[0m\n\u001b[1;32m    388\u001b[0m         \"\"\"\n\u001b[1;32m    389\u001b[0m         \u001b[0mfit_params_steps\u001b[0m \u001b[0;34m=\u001b[0m \u001b[0mself\u001b[0m\u001b[0;34m.\u001b[0m\u001b[0m_check_fit_params\u001b[0m\u001b[0;34m(\u001b[0m\u001b[0;34m**\u001b[0m\u001b[0mfit_params\u001b[0m\u001b[0;34m)\u001b[0m\u001b[0;34m\u001b[0m\u001b[0;34m\u001b[0m\u001b[0m\n\u001b[0;32m--> 390\u001b[0;31m         \u001b[0mXt\u001b[0m \u001b[0;34m=\u001b[0m \u001b[0mself\u001b[0m\u001b[0;34m.\u001b[0m\u001b[0m_fit\u001b[0m\u001b[0;34m(\u001b[0m\u001b[0mX\u001b[0m\u001b[0;34m,\u001b[0m \u001b[0my\u001b[0m\u001b[0;34m,\u001b[0m \u001b[0;34m**\u001b[0m\u001b[0mfit_params_steps\u001b[0m\u001b[0;34m)\u001b[0m\u001b[0;34m\u001b[0m\u001b[0;34m\u001b[0m\u001b[0m\n\u001b[0m\u001b[1;32m    391\u001b[0m         \u001b[0;32mwith\u001b[0m \u001b[0m_print_elapsed_time\u001b[0m\u001b[0;34m(\u001b[0m\u001b[0;34m\"Pipeline\"\u001b[0m\u001b[0;34m,\u001b[0m \u001b[0mself\u001b[0m\u001b[0;34m.\u001b[0m\u001b[0m_log_message\u001b[0m\u001b[0;34m(\u001b[0m\u001b[0mlen\u001b[0m\u001b[0;34m(\u001b[0m\u001b[0mself\u001b[0m\u001b[0;34m.\u001b[0m\u001b[0msteps\u001b[0m\u001b[0;34m)\u001b[0m \u001b[0;34m-\u001b[0m \u001b[0;36m1\u001b[0m\u001b[0;34m)\u001b[0m\u001b[0;34m)\u001b[0m\u001b[0;34m:\u001b[0m\u001b[0;34m\u001b[0m\u001b[0;34m\u001b[0m\u001b[0m\n\u001b[1;32m    392\u001b[0m             \u001b[0;32mif\u001b[0m \u001b[0mself\u001b[0m\u001b[0;34m.\u001b[0m\u001b[0m_final_estimator\u001b[0m \u001b[0;34m!=\u001b[0m \u001b[0;34m\"passthrough\"\u001b[0m\u001b[0;34m:\u001b[0m\u001b[0;34m\u001b[0m\u001b[0;34m\u001b[0m\u001b[0m\n",
            "\u001b[0;32m/usr/local/lib/python3.7/dist-packages/sklearn/pipeline.py\u001b[0m in \u001b[0;36m_fit\u001b[0;34m(self, X, y, **fit_params_steps)\u001b[0m\n\u001b[1;32m    353\u001b[0m                 \u001b[0mmessage_clsname\u001b[0m\u001b[0;34m=\u001b[0m\u001b[0;34m\"Pipeline\"\u001b[0m\u001b[0;34m,\u001b[0m\u001b[0;34m\u001b[0m\u001b[0;34m\u001b[0m\u001b[0m\n\u001b[1;32m    354\u001b[0m                 \u001b[0mmessage\u001b[0m\u001b[0;34m=\u001b[0m\u001b[0mself\u001b[0m\u001b[0;34m.\u001b[0m\u001b[0m_log_message\u001b[0m\u001b[0;34m(\u001b[0m\u001b[0mstep_idx\u001b[0m\u001b[0;34m)\u001b[0m\u001b[0;34m,\u001b[0m\u001b[0;34m\u001b[0m\u001b[0;34m\u001b[0m\u001b[0m\n\u001b[0;32m--> 355\u001b[0;31m                 \u001b[0;34m**\u001b[0m\u001b[0mfit_params_steps\u001b[0m\u001b[0;34m[\u001b[0m\u001b[0mname\u001b[0m\u001b[0;34m]\u001b[0m\u001b[0;34m,\u001b[0m\u001b[0;34m\u001b[0m\u001b[0;34m\u001b[0m\u001b[0m\n\u001b[0m\u001b[1;32m    356\u001b[0m             )\n\u001b[1;32m    357\u001b[0m             \u001b[0;31m# Replace the transformer of the step with the fitted\u001b[0m\u001b[0;34m\u001b[0m\u001b[0;34m\u001b[0m\u001b[0;34m\u001b[0m\u001b[0m\n",
            "\u001b[0;32m/usr/local/lib/python3.7/dist-packages/joblib/memory.py\u001b[0m in \u001b[0;36m__call__\u001b[0;34m(self, *args, **kwargs)\u001b[0m\n\u001b[1;32m    347\u001b[0m \u001b[0;34m\u001b[0m\u001b[0m\n\u001b[1;32m    348\u001b[0m     \u001b[0;32mdef\u001b[0m \u001b[0m__call__\u001b[0m\u001b[0;34m(\u001b[0m\u001b[0mself\u001b[0m\u001b[0;34m,\u001b[0m \u001b[0;34m*\u001b[0m\u001b[0margs\u001b[0m\u001b[0;34m,\u001b[0m \u001b[0;34m**\u001b[0m\u001b[0mkwargs\u001b[0m\u001b[0;34m)\u001b[0m\u001b[0;34m:\u001b[0m\u001b[0;34m\u001b[0m\u001b[0;34m\u001b[0m\u001b[0m\n\u001b[0;32m--> 349\u001b[0;31m         \u001b[0;32mreturn\u001b[0m \u001b[0mself\u001b[0m\u001b[0;34m.\u001b[0m\u001b[0mfunc\u001b[0m\u001b[0;34m(\u001b[0m\u001b[0;34m*\u001b[0m\u001b[0margs\u001b[0m\u001b[0;34m,\u001b[0m \u001b[0;34m**\u001b[0m\u001b[0mkwargs\u001b[0m\u001b[0;34m)\u001b[0m\u001b[0;34m\u001b[0m\u001b[0;34m\u001b[0m\u001b[0m\n\u001b[0m\u001b[1;32m    350\u001b[0m \u001b[0;34m\u001b[0m\u001b[0m\n\u001b[1;32m    351\u001b[0m     \u001b[0;32mdef\u001b[0m \u001b[0mcall_and_shelve\u001b[0m\u001b[0;34m(\u001b[0m\u001b[0mself\u001b[0m\u001b[0;34m,\u001b[0m \u001b[0;34m*\u001b[0m\u001b[0margs\u001b[0m\u001b[0;34m,\u001b[0m \u001b[0;34m**\u001b[0m\u001b[0mkwargs\u001b[0m\u001b[0;34m)\u001b[0m\u001b[0;34m:\u001b[0m\u001b[0;34m\u001b[0m\u001b[0;34m\u001b[0m\u001b[0m\n",
            "\u001b[0;32m/usr/local/lib/python3.7/dist-packages/sklearn/pipeline.py\u001b[0m in \u001b[0;36m_fit_transform_one\u001b[0;34m(transformer, X, y, weight, message_clsname, message, **fit_params)\u001b[0m\n\u001b[1;32m    891\u001b[0m     \u001b[0;32mwith\u001b[0m \u001b[0m_print_elapsed_time\u001b[0m\u001b[0;34m(\u001b[0m\u001b[0mmessage_clsname\u001b[0m\u001b[0;34m,\u001b[0m \u001b[0mmessage\u001b[0m\u001b[0;34m)\u001b[0m\u001b[0;34m:\u001b[0m\u001b[0;34m\u001b[0m\u001b[0;34m\u001b[0m\u001b[0m\n\u001b[1;32m    892\u001b[0m         \u001b[0;32mif\u001b[0m \u001b[0mhasattr\u001b[0m\u001b[0;34m(\u001b[0m\u001b[0mtransformer\u001b[0m\u001b[0;34m,\u001b[0m \u001b[0;34m\"fit_transform\"\u001b[0m\u001b[0;34m)\u001b[0m\u001b[0;34m:\u001b[0m\u001b[0;34m\u001b[0m\u001b[0;34m\u001b[0m\u001b[0m\n\u001b[0;32m--> 893\u001b[0;31m             \u001b[0mres\u001b[0m \u001b[0;34m=\u001b[0m \u001b[0mtransformer\u001b[0m\u001b[0;34m.\u001b[0m\u001b[0mfit_transform\u001b[0m\u001b[0;34m(\u001b[0m\u001b[0mX\u001b[0m\u001b[0;34m,\u001b[0m \u001b[0my\u001b[0m\u001b[0;34m,\u001b[0m \u001b[0;34m**\u001b[0m\u001b[0mfit_params\u001b[0m\u001b[0;34m)\u001b[0m\u001b[0;34m\u001b[0m\u001b[0;34m\u001b[0m\u001b[0m\n\u001b[0m\u001b[1;32m    894\u001b[0m         \u001b[0;32melse\u001b[0m\u001b[0;34m:\u001b[0m\u001b[0;34m\u001b[0m\u001b[0;34m\u001b[0m\u001b[0m\n\u001b[1;32m    895\u001b[0m             \u001b[0mres\u001b[0m \u001b[0;34m=\u001b[0m \u001b[0mtransformer\u001b[0m\u001b[0;34m.\u001b[0m\u001b[0mfit\u001b[0m\u001b[0;34m(\u001b[0m\u001b[0mX\u001b[0m\u001b[0;34m,\u001b[0m \u001b[0my\u001b[0m\u001b[0;34m,\u001b[0m \u001b[0;34m**\u001b[0m\u001b[0mfit_params\u001b[0m\u001b[0;34m)\u001b[0m\u001b[0;34m.\u001b[0m\u001b[0mtransform\u001b[0m\u001b[0;34m(\u001b[0m\u001b[0mX\u001b[0m\u001b[0;34m)\u001b[0m\u001b[0;34m\u001b[0m\u001b[0;34m\u001b[0m\u001b[0m\n",
            "\u001b[0;32m/usr/local/lib/python3.7/dist-packages/sklearn/feature_extraction/text.py\u001b[0m in \u001b[0;36mfit_transform\u001b[0;34m(self, raw_documents, y)\u001b[0m\n\u001b[1;32m   2075\u001b[0m         \"\"\"\n\u001b[1;32m   2076\u001b[0m         \u001b[0mself\u001b[0m\u001b[0;34m.\u001b[0m\u001b[0m_check_params\u001b[0m\u001b[0;34m(\u001b[0m\u001b[0;34m)\u001b[0m\u001b[0;34m\u001b[0m\u001b[0;34m\u001b[0m\u001b[0m\n\u001b[0;32m-> 2077\u001b[0;31m         \u001b[0mX\u001b[0m \u001b[0;34m=\u001b[0m \u001b[0msuper\u001b[0m\u001b[0;34m(\u001b[0m\u001b[0;34m)\u001b[0m\u001b[0;34m.\u001b[0m\u001b[0mfit_transform\u001b[0m\u001b[0;34m(\u001b[0m\u001b[0mraw_documents\u001b[0m\u001b[0;34m)\u001b[0m\u001b[0;34m\u001b[0m\u001b[0;34m\u001b[0m\u001b[0m\n\u001b[0m\u001b[1;32m   2078\u001b[0m         \u001b[0mself\u001b[0m\u001b[0;34m.\u001b[0m\u001b[0m_tfidf\u001b[0m\u001b[0;34m.\u001b[0m\u001b[0mfit\u001b[0m\u001b[0;34m(\u001b[0m\u001b[0mX\u001b[0m\u001b[0;34m)\u001b[0m\u001b[0;34m\u001b[0m\u001b[0;34m\u001b[0m\u001b[0m\n\u001b[1;32m   2079\u001b[0m         \u001b[0;31m# X is already a transformed view of raw_documents so\u001b[0m\u001b[0;34m\u001b[0m\u001b[0;34m\u001b[0m\u001b[0;34m\u001b[0m\u001b[0m\n",
            "\u001b[0;32m/usr/local/lib/python3.7/dist-packages/sklearn/feature_extraction/text.py\u001b[0m in \u001b[0;36mfit_transform\u001b[0;34m(self, raw_documents, y)\u001b[0m\n\u001b[1;32m   1328\u001b[0m                     \u001b[0;32mbreak\u001b[0m\u001b[0;34m\u001b[0m\u001b[0;34m\u001b[0m\u001b[0m\n\u001b[1;32m   1329\u001b[0m \u001b[0;34m\u001b[0m\u001b[0m\n\u001b[0;32m-> 1330\u001b[0;31m         \u001b[0mvocabulary\u001b[0m\u001b[0;34m,\u001b[0m \u001b[0mX\u001b[0m \u001b[0;34m=\u001b[0m \u001b[0mself\u001b[0m\u001b[0;34m.\u001b[0m\u001b[0m_count_vocab\u001b[0m\u001b[0;34m(\u001b[0m\u001b[0mraw_documents\u001b[0m\u001b[0;34m,\u001b[0m \u001b[0mself\u001b[0m\u001b[0;34m.\u001b[0m\u001b[0mfixed_vocabulary_\u001b[0m\u001b[0;34m)\u001b[0m\u001b[0;34m\u001b[0m\u001b[0;34m\u001b[0m\u001b[0m\n\u001b[0m\u001b[1;32m   1331\u001b[0m \u001b[0;34m\u001b[0m\u001b[0m\n\u001b[1;32m   1332\u001b[0m         \u001b[0;32mif\u001b[0m \u001b[0mself\u001b[0m\u001b[0;34m.\u001b[0m\u001b[0mbinary\u001b[0m\u001b[0;34m:\u001b[0m\u001b[0;34m\u001b[0m\u001b[0;34m\u001b[0m\u001b[0m\n",
            "\u001b[0;32m/usr/local/lib/python3.7/dist-packages/sklearn/feature_extraction/text.py\u001b[0m in \u001b[0;36m_count_vocab\u001b[0;34m(self, raw_documents, fixed_vocab)\u001b[0m\n\u001b[1;32m   1203\u001b[0m                     \u001b[0mfeature_idx\u001b[0m \u001b[0;34m=\u001b[0m \u001b[0mvocabulary\u001b[0m\u001b[0;34m[\u001b[0m\u001b[0mfeature\u001b[0m\u001b[0;34m]\u001b[0m\u001b[0;34m\u001b[0m\u001b[0;34m\u001b[0m\u001b[0m\n\u001b[1;32m   1204\u001b[0m                     \u001b[0;32mif\u001b[0m \u001b[0mfeature_idx\u001b[0m \u001b[0;32mnot\u001b[0m \u001b[0;32min\u001b[0m \u001b[0mfeature_counter\u001b[0m\u001b[0;34m:\u001b[0m\u001b[0;34m\u001b[0m\u001b[0;34m\u001b[0m\u001b[0m\n\u001b[0;32m-> 1205\u001b[0;31m                         \u001b[0mfeature_counter\u001b[0m\u001b[0;34m[\u001b[0m\u001b[0mfeature_idx\u001b[0m\u001b[0;34m]\u001b[0m \u001b[0;34m=\u001b[0m \u001b[0;36m1\u001b[0m\u001b[0;34m\u001b[0m\u001b[0;34m\u001b[0m\u001b[0m\n\u001b[0m\u001b[1;32m   1206\u001b[0m                     \u001b[0;32melse\u001b[0m\u001b[0;34m:\u001b[0m\u001b[0;34m\u001b[0m\u001b[0;34m\u001b[0m\u001b[0m\n\u001b[1;32m   1207\u001b[0m                         \u001b[0mfeature_counter\u001b[0m\u001b[0;34m[\u001b[0m\u001b[0mfeature_idx\u001b[0m\u001b[0;34m]\u001b[0m \u001b[0;34m+=\u001b[0m \u001b[0;36m1\u001b[0m\u001b[0;34m\u001b[0m\u001b[0;34m\u001b[0m\u001b[0m\n",
            "\u001b[0;31mKeyboardInterrupt\u001b[0m: "
          ]
        }
      ],
      "source": [
        "grids = GridSearchCV(dt_classifier, param_grid = parameters, cv = 3, return_train_score = True)\n",
        "for tag in gr_tags:\n",
        "    grids.fit(x_tr, train[tag])\n",
        "\n",
        "grids.best_params_"
      ]
    },
    {
      "cell_type": "markdown",
      "id": "9e25b700",
      "metadata": {
        "id": "9e25b700"
      },
      "source": [
        "Let's now re-run our training, testing, and calculating of precision and recall to calculate a new and hopefully improved average f1 score. "
      ]
    },
    {
      "cell_type": "code",
      "execution_count": null,
      "id": "eeb2a078",
      "metadata": {
        "id": "eeb2a078",
        "outputId": "e0613ef9-74c8-42ee-d0bb-21116dc94deb",
        "colab": {
          "base_uri": "https://localhost:8080/"
        }
      },
      "outputs": [
        {
          "output_type": "execute_result",
          "data": {
            "text/plain": [
              "0.781000574625376"
            ]
          },
          "metadata": {},
          "execution_count": 27
        }
      ],
      "source": [
        "dt_classifier = Pipeline([('tdidf', TfidfVectorizer(stop_words = stop_words)), ('dtc', DecisionTreeClassifier(max_depth = 2, min_samples_leaf = 2))])\n",
        "\n",
        "prec_recs = {}\n",
        "for tag in gr_tags:\n",
        "    \n",
        "    dt_classifier.fit(x_tr, train[tag])\n",
        "    prediction = dt_classifier.predict(x_te)\n",
        "    \n",
        "    precision_recall = precision_recall_fscore_support(test[tag], prediction, average = 'macro')\n",
        "    prec_recs[tag] = precision_recall\n",
        "\n",
        "sum_precision = 0\n",
        "sum_recall = 0\n",
        "\n",
        "for key in prec_recs.keys():\n",
        "    \n",
        "    sum_precision += prec_recs[key][0]\n",
        "    sum_recall += prec_recs[key][1]\n",
        "    \n",
        "mean_precision = sum_precision / len(prec_recs.keys())\n",
        "mean_recall = sum_recall / len(prec_recs.keys())\n",
        "\n",
        "average_f1 = (2 * mean_precision * mean_recall) / (mean_precision + mean_recall)\n",
        "average_f1"
      ]
    },
    {
      "cell_type": "markdown",
      "id": "e679a6a3",
      "metadata": {
        "id": "e679a6a3"
      },
      "source": [
        "So we see a decent improvement from 0.7 --> 0.77, achieved with GridSearchCV and stop_word inclusion to optimize our model. However, we'll take a look at other models / optimizations to see if we can get a heightened score. "
      ]
    },
    {
      "cell_type": "markdown",
      "id": "84a537a2",
      "metadata": {
        "id": "84a537a2"
      },
      "source": [
        "### Model 2: "
      ]
    },
    {
      "cell_type": "code",
      "source": [
        "goodreads = goodreads[goodreads['isEmpty'] == False]\n",
        "goodreads['stop_quote'] = goodreads['quote'].apply(lambda x: ' '.join([word for word in x.split() if word not in (stop_words)]))\n",
        "goodreads['stop_tags'] = goodreads['tags'].apply(lambda x: [z for z in x if z not in stop_words])\n",
        "\n",
        "goodreads.head()"
      ],
      "metadata": {
        "colab": {
          "base_uri": "https://localhost:8080/",
          "height": 320
        },
        "id": "lVdL9EQQZ8cO",
        "outputId": "f520c932-a2ec-4f87-c6ea-e5f36ab744f6"
      },
      "id": "lVdL9EQQZ8cO",
      "execution_count": 9,
      "outputs": [
        {
          "output_type": "execute_result",
          "data": {
            "text/html": [
              "\n",
              "  <div id=\"df-28f268ad-b08c-4844-8977-65650da4f614\">\n",
              "    <div class=\"colab-df-container\">\n",
              "      <div>\n",
              "<style scoped>\n",
              "    .dataframe tbody tr th:only-of-type {\n",
              "        vertical-align: middle;\n",
              "    }\n",
              "\n",
              "    .dataframe tbody tr th {\n",
              "        vertical-align: top;\n",
              "    }\n",
              "\n",
              "    .dataframe thead th {\n",
              "        text-align: right;\n",
              "    }\n",
              "</style>\n",
              "<table border=\"1\" class=\"dataframe\">\n",
              "  <thead>\n",
              "    <tr style=\"text-align: right;\">\n",
              "      <th></th>\n",
              "      <th>quote</th>\n",
              "      <th>tags</th>\n",
              "      <th>isEmpty</th>\n",
              "      <th>stop_quote</th>\n",
              "      <th>stop_tags</th>\n",
              "    </tr>\n",
              "  </thead>\n",
              "  <tbody>\n",
              "    <tr>\n",
              "      <th>0</th>\n",
              "      <td>be yourself everyone else is already taken</td>\n",
              "      <td>[attributed, no, source, be, yourself, gilbert...</td>\n",
              "      <td>False</td>\n",
              "      <td>everyone else already taken</td>\n",
              "      <td>[attributed, source, gilbert, perreira, honest...</td>\n",
              "    </tr>\n",
              "    <tr>\n",
              "      <th>1</th>\n",
              "      <td>im selfish impatient and a little insecure i m...</td>\n",
              "      <td>[attributed, no, source, best, life, love, mis...</td>\n",
              "      <td>False</td>\n",
              "      <td>im selfish impatient little insecure make mist...</td>\n",
              "      <td>[attributed, source, best, life, love, mistake...</td>\n",
              "    </tr>\n",
              "    <tr>\n",
              "      <th>2</th>\n",
              "      <td>two things are infinite the universe and human...</td>\n",
              "      <td>[attributed, no, source, human, nature, humor,...</td>\n",
              "      <td>False</td>\n",
              "      <td>two things infinite universe human stupidity i...</td>\n",
              "      <td>[attributed, source, human, nature, humor, inf...</td>\n",
              "    </tr>\n",
              "    <tr>\n",
              "      <th>3</th>\n",
              "      <td>so many books so little time</td>\n",
              "      <td>[books, humor]</td>\n",
              "      <td>False</td>\n",
              "      <td>many books little time</td>\n",
              "      <td>[books, humor]</td>\n",
              "    </tr>\n",
              "    <tr>\n",
              "      <th>4</th>\n",
              "      <td>a room without books is like a body without a ...</td>\n",
              "      <td>[attributed, no, source, books, simile, soul]</td>\n",
              "      <td>False</td>\n",
              "      <td>room without books like body without soul</td>\n",
              "      <td>[attributed, source, books, simile, soul]</td>\n",
              "    </tr>\n",
              "  </tbody>\n",
              "</table>\n",
              "</div>\n",
              "      <button class=\"colab-df-convert\" onclick=\"convertToInteractive('df-28f268ad-b08c-4844-8977-65650da4f614')\"\n",
              "              title=\"Convert this dataframe to an interactive table.\"\n",
              "              style=\"display:none;\">\n",
              "        \n",
              "  <svg xmlns=\"http://www.w3.org/2000/svg\" height=\"24px\"viewBox=\"0 0 24 24\"\n",
              "       width=\"24px\">\n",
              "    <path d=\"M0 0h24v24H0V0z\" fill=\"none\"/>\n",
              "    <path d=\"M18.56 5.44l.94 2.06.94-2.06 2.06-.94-2.06-.94-.94-2.06-.94 2.06-2.06.94zm-11 1L8.5 8.5l.94-2.06 2.06-.94-2.06-.94L8.5 2.5l-.94 2.06-2.06.94zm10 10l.94 2.06.94-2.06 2.06-.94-2.06-.94-.94-2.06-.94 2.06-2.06.94z\"/><path d=\"M17.41 7.96l-1.37-1.37c-.4-.4-.92-.59-1.43-.59-.52 0-1.04.2-1.43.59L10.3 9.45l-7.72 7.72c-.78.78-.78 2.05 0 2.83L4 21.41c.39.39.9.59 1.41.59.51 0 1.02-.2 1.41-.59l7.78-7.78 2.81-2.81c.8-.78.8-2.07 0-2.86zM5.41 20L4 18.59l7.72-7.72 1.47 1.35L5.41 20z\"/>\n",
              "  </svg>\n",
              "      </button>\n",
              "      \n",
              "  <style>\n",
              "    .colab-df-container {\n",
              "      display:flex;\n",
              "      flex-wrap:wrap;\n",
              "      gap: 12px;\n",
              "    }\n",
              "\n",
              "    .colab-df-convert {\n",
              "      background-color: #E8F0FE;\n",
              "      border: none;\n",
              "      border-radius: 50%;\n",
              "      cursor: pointer;\n",
              "      display: none;\n",
              "      fill: #1967D2;\n",
              "      height: 32px;\n",
              "      padding: 0 0 0 0;\n",
              "      width: 32px;\n",
              "    }\n",
              "\n",
              "    .colab-df-convert:hover {\n",
              "      background-color: #E2EBFA;\n",
              "      box-shadow: 0px 1px 2px rgba(60, 64, 67, 0.3), 0px 1px 3px 1px rgba(60, 64, 67, 0.15);\n",
              "      fill: #174EA6;\n",
              "    }\n",
              "\n",
              "    [theme=dark] .colab-df-convert {\n",
              "      background-color: #3B4455;\n",
              "      fill: #D2E3FC;\n",
              "    }\n",
              "\n",
              "    [theme=dark] .colab-df-convert:hover {\n",
              "      background-color: #434B5C;\n",
              "      box-shadow: 0px 1px 3px 1px rgba(0, 0, 0, 0.15);\n",
              "      filter: drop-shadow(0px 1px 2px rgba(0, 0, 0, 0.3));\n",
              "      fill: #FFFFFF;\n",
              "    }\n",
              "  </style>\n",
              "\n",
              "      <script>\n",
              "        const buttonEl =\n",
              "          document.querySelector('#df-28f268ad-b08c-4844-8977-65650da4f614 button.colab-df-convert');\n",
              "        buttonEl.style.display =\n",
              "          google.colab.kernel.accessAllowed ? 'block' : 'none';\n",
              "\n",
              "        async function convertToInteractive(key) {\n",
              "          const element = document.querySelector('#df-28f268ad-b08c-4844-8977-65650da4f614');\n",
              "          const dataTable =\n",
              "            await google.colab.kernel.invokeFunction('convertToInteractive',\n",
              "                                                     [key], {});\n",
              "          if (!dataTable) return;\n",
              "\n",
              "          const docLinkHtml = 'Like what you see? Visit the ' +\n",
              "            '<a target=\"_blank\" href=https://colab.research.google.com/notebooks/data_table.ipynb>data table notebook</a>'\n",
              "            + ' to learn more about interactive tables.';\n",
              "          element.innerHTML = '';\n",
              "          dataTable['output_type'] = 'display_data';\n",
              "          await google.colab.output.renderOutput(dataTable, element);\n",
              "          const docLink = document.createElement('div');\n",
              "          docLink.innerHTML = docLinkHtml;\n",
              "          element.appendChild(docLink);\n",
              "        }\n",
              "      </script>\n",
              "    </div>\n",
              "  </div>\n",
              "  "
            ],
            "text/plain": [
              "                                               quote  \\\n",
              "0         be yourself everyone else is already taken   \n",
              "1  im selfish impatient and a little insecure i m...   \n",
              "2  two things are infinite the universe and human...   \n",
              "3                       so many books so little time   \n",
              "4  a room without books is like a body without a ...   \n",
              "\n",
              "                                                tags  isEmpty  \\\n",
              "0  [attributed, no, source, be, yourself, gilbert...    False   \n",
              "1  [attributed, no, source, best, life, love, mis...    False   \n",
              "2  [attributed, no, source, human, nature, humor,...    False   \n",
              "3                                     [books, humor]    False   \n",
              "4      [attributed, no, source, books, simile, soul]    False   \n",
              "\n",
              "                                          stop_quote  \\\n",
              "0                        everyone else already taken   \n",
              "1  im selfish impatient little insecure make mist...   \n",
              "2  two things infinite universe human stupidity i...   \n",
              "3                             many books little time   \n",
              "4          room without books like body without soul   \n",
              "\n",
              "                                           stop_tags  \n",
              "0  [attributed, source, gilbert, perreira, honest...  \n",
              "1  [attributed, source, best, life, love, mistake...  \n",
              "2  [attributed, source, human, nature, humor, inf...  \n",
              "3                                     [books, humor]  \n",
              "4          [attributed, source, books, simile, soul]  "
            ]
          },
          "metadata": {},
          "execution_count": 9
        }
      ]
    },
    {
      "cell_type": "code",
      "source": [
        "goodreads_sample = goodreads.sample(frac = 1)\n",
        "goodreads_sample = goodreads_sample[['stop_tags', 'stop_quote']]\n",
        "train, test = train_test_split(goodreads_sample, test_size = 0.2, shuffle = True)\n",
        "val = test.sample(frac=0.5)\n",
        "test.drop(val.index, inplace=True)\n",
        "train.shape, test.shape, val.shape"
      ],
      "metadata": {
        "colab": {
          "base_uri": "https://localhost:8080/"
        },
        "id": "USBExS3qxJmd",
        "outputId": "4d1feeeb-1bcb-4d8c-d562-f2cf97b401b8"
      },
      "id": "USBExS3qxJmd",
      "execution_count": null,
      "outputs": [
        {
          "output_type": "execute_result",
          "data": {
            "text/plain": [
              "((2003, 2), (251, 2), (250, 2))"
            ]
          },
          "metadata": {},
          "execution_count": 77
        }
      ]
    },
    {
      "cell_type": "code",
      "source": [
        "from ast import literal_eval\n",
        "from tensorflow.ragged import constant\n",
        "from tensorflow.keras import layers\n",
        "\n",
        "terms = constant(train[\"stop_tags\"].values)\n",
        "lookup = layers.StringLookup(output_mode=\"multi_hot\")\n",
        "lookup.adapt(terms)\n",
        "vocab = lookup.get_vocabulary()\n",
        "\n",
        "\n",
        "def invert_multi_hot(encoded_labels):\n",
        "    \"\"\"Reverse a single multi-hot encoded label to a tuple of vocab terms.\"\"\"\n",
        "    hot_indices = np.argwhere(encoded_labels == 1.0)[..., 0]\n",
        "    return np.take(vocab, hot_indices)\n",
        "\n",
        "\n",
        "print(\"Vocabulary:\\n\")\n",
        "print(vocab)"
      ],
      "metadata": {
        "colab": {
          "base_uri": "https://localhost:8080/"
        },
        "id": "ejX6_BOAy4AL",
        "outputId": "7582b6db-c04b-46d1-ed3f-7e67c18877d8"
      },
      "id": "ejX6_BOAy4AL",
      "execution_count": null,
      "outputs": [
        {
          "output_type": "stream",
          "name": "stdout",
          "text": [
            "Vocabulary:\n",
            "\n",
            "['[UNK]', 'life', 'inspirational', 'love', 'humor', 'positive', 'books', 'quotes', 'living', 'self', 'reading', 'misattributed', 'inspiration', 'writing', 'philosophy', 'happiness', 'friendship', 'wisdom', 'truth', 'attributed', 'source', 'jace', 'thinking', 'death', 'optimism', 'romance', 'hope', 'women', 'poetry', 'lessons', 'courage', 'affirmation', 'optimistic', 'inspiring', 'inspire', 'attitude', 'relationships', 'pain', 'change', 'wayland', 'religion', 'music', 'clary', 'god', 'funny', 'fear', 'dreams', 'strength', 'science', 'friends', 'freedom', 'time', 'motivational', 'loneliness', 'fray', 'city', 'words', 'success', 'sadness', 'motivation', 'beauty', 'heart', 'reality', 'faith', 'determination', 'men', 'individuality', 'education', 'stars', 'literature', 'kindness', 'humanity', 'grief', 'go', 'future', 'empowerment', 'art', 'herondale', 'family', 'dumbledore', 'world', 'power', 'potter', 'people', 'peace', 'nature', 'mortal', 'loss', 'letting', 'knowledge', 'instruments', 'humour', 'human', 'harry', 'fantasy', 'depression', 'confidence', 'trust', 'suffering', 'mind', 'marriage', 'light', 'learning', 'john', 'intelligence', 'failure', 'belief', 'war', 'true', 'stories', 'soul', 'live', 'independence', 'hunger', 'experience', 'children', 'bravery', 'sarcasm', 'politics', 'past', 'mistakes', 'imagination', 'identity', 'honesty', 'games', 'feminism', 'compassion', 'wonder', 'understanding', 'travel', 'sparks', 'simon', 'sex', 'respect', 'percy', 'nicholas', 'moving', 'memory', 'man', 'magic', 'lightwood', 'lies', 'laughter', 'jackson', 'inner', 'growth', 'green', 'good', 'glass', 'food', 'fiction', 'advice', 'adventure', 'work', 'weasley', 'smile', 'sense', 'sad', 'sacrifice', 'open', 'katniss', 'hurt', 'heartbreak', 'hate', 'growing', 'gratitude', 'goodness', 'forgiveness', 'fault', 'evil', 'einstein', 'clockwork', 'character', 'bones', 'believe', 'atheism', 'animals', 'anger', 'acceptance', 'suicide', 'spiritual', 'solitude', 'silence', 'roosevelt', 'reason', 'purpose', 'peeta', 'paraphrased', 'others', 'morality', 'lewis', 'integrity', 'ignorance', 'healing', 'fate', 'eleanor', 'dream', 'disappointment', 'diem', 'day', 'crying', 'classic', 'carpe', 'book', 'age', 'worry', 'wise', 'way', 'twain', 'tears', 'tales', 'stupidity', 'spirituality', 'sleep', 'seuss', 'scars', 'quote', 'prince', 'perseverance', 'perception', 'night', 'new', 'memories', 'meaning', 'mark', 'mankind', 'magnus', 'loved', 'joy', 'history', 'gender', 'flying', 'fairy', 'empathy', 'discovery', 'clare', 'choices', 'cats', 'beatles', 'bane', 'awareness', 'alice', 'activism', 'action', 'writers', 'wonderland', 'wit', 'wallflower', 'vampire', 'thought', 'tfios', 'society', 'simile', 'secrets', 'risk', 'right', 'responsibility', 'present', 'poem', 'perspective', 'patience', 'passion', 'mother', 'mindedness', 'lost', 'libraries', 'last', 'kiss', 'isabelle', 'irony', 'insanity', 'hell', 'gray', 'giving', 'girls', 'first', 'fighting', 'feelings', 'fallen', 'emotions', 'elizabeth', 'edward', 'dreaming', 'desire', 'darkness', 'comfort', 'comedy', 'cassandra', 'authentic', 'angels', 'angel', 'alaska', 'adversity', 'young', 'widely', 'voice', 'universe', 'thoughts', 'tessa', 'teresa', 'souls', 'song', 'social', 'school', 'ron', 'romantic', 'rights', 'read', 'persistence', 'perfection', 'parents', 'mythology', 'mothers', 'monroe', 'money', 'marilyn', 'madness', 'lying', 'looking', 'longing', 'library', 'language', 'justice', 'james', 'infatuation', 'improvement', 'holden', 'hobbes', 'hatred', 'happy', 'greatness', 'goodbye', 'goals', 'george', 'forgetting', 'fire', 'fearless', 'expectations', 'ethics', 'esteem', 'enjoy', 'enemies', 'encouragement', 'dying', 'dr', 'dogs', 'divergent', 'destiny', 'cry', 'creativity', 'common', 'christianity', 'choice', 'chocolate', 'childhood', 'carstairs', 'calvin', 'brave', 'benediction', 'bella', 'ashes', 'alec', 'youth', 'yearning', 'writer', 'wishes', 'william', 'wealth', 'water', 'virtue', 'value', 'unrequited', 'unhappiness', 'trial', 'think', 'temptation', 'teen', 'sweet', 'survival', 'strategy', 'storytelling', 'stop', 'stereotypes', 'start', 'sorrow', 'snape', 'sin', 'sight', 'sharing', 'reliance', 'regret', 'quip', 'qotd', 'psychology', 'problems', 'prayer', 'perks', 'parenting', 'olympians', 'obsession', 'notebook', 'never', 'name', 'morals', 'moment', 'mockingjay', 'mellark', 'malfoy', 'lovers', 'little', 'lincoln', 'liberty', 'learn', 'knowing', 'journey', 'joke', 'jem', 'insult', 'innocence', 'image', 'hypocrisy', 'humorous', 'helping', 'heaven', 'heartache', 'give', 'forward', 'flight', 'finnick', 'fashion', 'expression', 'equality', 'emotion', 'eat', 'dragons', 'dignity', 'deep', 'deception', 'dating', 'dance', 'creative', 'creation', 'control', 'contentment', 'conformity', 'chase', 'chapter', 'chances', 'challenges', 'catching', 'carroll', 'bennet', 'bad', 'authors', 'ataraxy', 'appreciation', 'annabeth', 'albert', 'achievement', 'zone', 'zen', 'year', 'wounds', 'worth', 'worrying', 'woman', 'wish', 'wings', 'winds', 'wind', 'wilde', 'wife', 'waters', 'wander', 'victory', 'values', 'valentine', 'uplifting', 'unknown', 'unity', 'unbreakable', 'twilight', 'trying', 'trouble', 'tris', 'trials', 'trees', 'tobias', 'ties', 'things', 'thief', 'thankful', 'teachers', 'tea', 'taste', 'talent', 'taking', 'storms', 'stone', 'steinem', 'standards', 'spirit', 'speech', 'speaking', 'sonnet', 'smiling', 'smiles', 'smart', 'six', 'sing', 'silent', 'shakespeare', 'service', 'sentence', 'selfishness', 'security', 'secret', 'seasons', 'scout', 'scotland', 'sardothien', 'sanity', 'saint', 'run', 'ruby', 'rothfuss', 'roses', 'rose', 'romeo', 'road', 'rich', 'rhysand', 'revenge', 'remaining', 'relationship', 'reincarnation', 'realization', 'real', 'readers', 'reader', 'rationality', 'questions', 'protection', 'propaganda', 'progress', 'process', 'pretty', 'pretend', 'poverty', 'potential', 'possibilities', 'pooh', 'pleasure', 'places', 'physics', 'personal', 'patrick', 'patch', 'parting', 'paraphrase', 'paradox', 'paradise', 'oscar', 'organized', 'opportunity', 'opinions', 'opening', 'old', 'nora', 'nonsense', 'nin', 'nerdfighters', 'myth', 'mortality', 'morgenstern', 'moon', 'molly', 'mist', 'missed', 'miracles', 'minds', 'mindfulness', 'milne', 'meyer', 'metaphysics', 'mercy', 'meaningful', 'maturity', 'manners', 'make', 'mad', 'luck', 'logic', 'listening', 'lines', 'limits', 'letters', 'letter', 'let', 'lennon', 'lecture', 'leadership', 'leaders', 'leader', 'laugh', 'kind', 'kill', 'keep', 'juliet', 'judgment', 'judgement', 'jordan', 'jesus', 'jealousy', 'jane', 'introspection', 'infinity', 'infidelity', 'importance', 'hush', 'husband', 'humility', 'humbert', 'humans', 'house', 'hot', 'horror', 'hopelessness', 'hidden', 'hg2g', 'heroes', 'hepburn', 'heathcliff', 'health', 'hazel', 'haunting', 'haiku', 'grey', 'grace', 'gossip', 'gold', 'gloria', 'gilbert', 'gift', 'gandhi', 'g', 'fury', 'friend', 'free', 'fred', 'four', 'foolishness', 'fight', 'feyre', 'ferret', 'farm', 'fame', 'falling', 'facts', 'fact', 'eyes', 'existence', 'endings', 'ego', 'ecstasy', 'earth', 'e', 'dursley', 'drugs', 'drinking', 'drama', 'double', 'distance', 'direction', 'dimitri', 'different', 'diary', 'destruction', 'despair', 'desires', 'depressing', 'demons', 'democracy', 'decisions', 'deadlines', 'dark', 'dare', 'daily', 'curiosity', 'crows', 'crime', 'crazy', 'court', 'couples', 'conscience', 'companionship', 'commentary', 'collins', 'classics', 'class', 'christmas', 'christina', 'chivalry', 'chinese', 'charming', 'charity', 'challenge', 'censorship', 'celaena', 'catherine', 'carlin', 'caring', 'care', 'call', 'brown', 'broken', 'boys', 'body', 'blessed', 'bill', 'bible', 'betrayal', 'beautiful', 'beatrice', 'beatitudes', 'awesome', 'awe', 'autumn', 'authenticity', 'austen', 'augustus', 'attraction', 'athena', 'assurance', 'arts', 'appreciate', 'apple', 'apollo', 'apathy', 'answers', 'anne', 'animal', 'anais', 'america', 'ambiguity', 'alone', 'aliteracy', 'albus', 'affection', 'adult', 'addiction', 'adaptation', 'acomaf', 'academy', 'abraham', 'abilities', 'abe', 'حب', 'zsadist', 'zombies', 'zoe', 'zeus', 'youthfulness', 'yesterday', 'ya', 'xxiii', 'xvii', 'x', 'write', 'wring', 'worst', 'worship', 'wormtail', 'wizard', 'witty', 'wither', 'witch', 'wisher', 'wisedom', 'winter', 'winnie', 'wine', 'windows', 'willful', 'wilhelm', 'wilderness', 'wicked', 'whole', 'white', 'whiskey', 'westfall', 'werewolf', 'well', 'weirdness', 'weight', 'weakness', 'wayne', 'watch', 'warriors', 'warrior', 'want', 'wanda', 'waking', 'waiting', 'vow', 'voting', 'voter', 'vorkosigan', 'volunteerism', 'vlog', 'visions', 'vision', 'violence', 'viereck', 'veronica', 'vegetarianism', 'van', 'vacation', 'us', 'ups', 'unsourced', 'unseen', 'unpredictability', 'unlikely', 'unhappy', 'unfairness', 'understand', 'uncle', 'uncertainty', 'unburdening', 'ugly', 'tyler', 'twirl', 'try', 'truths', 'truthful', 'troubles', 'troublemakers', 'triumph', 'treasure', 'trauma', 'trap', 'transform', 'transcendentalism', 'tragedy', 'towns', 'towel', 'touchstones', 'top', 'tomorrow', 'tom', 'tolstoy', 'toilet', 'together', 'tmi', 'tired', 'tintern', 'tina', 'timelessness', 'ticking', 'thumb', 'throne', 'thoughtful', 'thorns', 'thirst', 'thing', 'thievery', 'theology', 'thanksgiving', 'thankfulness', 'thank', 'thalia', 'telling', 'tell', 'television', 'teens', 'teenagers', 'teenager', 'teenage', 'tedious', 'teasing', 'teaching', 'teach', 'taylor', 'tanner', 'talking', 'talk', 'talents', 'sympathy', 'swift', 'sweetness', 'swear', 'swan', 'suzanne', 'suspicion', 'superiority', 'sunset', 'sun', 'summer', 'sullivan', 'sufi', 'sufficiency', 'suess', 'submission', 'stubbornness', 'struggle', 'strong', 'strigoi', 'stressed', 'stress', 'strenth', 'story', 'stoicism', 'steve', 'steppenwolf', 'stephenie', 'stephen', 'step', 'stekel', 'status', 'statistics', 'stand', 'stake', 'spring', 'spinsterhood', 'speed', 'space', 'soulmates', 'sorry', 'sorcerers', 'sophie', 'soon', 'songs', 'socks', 'snow', 'slaughterhouse', 'slammed', 'skills', 'skepticism', 'skeptic', 'sisters', 'sirius', 'sins', 'sinner', 'sinister', 'singles', 'single', 'singer', 'simplicity', 'simon_bolivar', 'silverman', 'silly', 'silliness', 'shrugged', 'show', 'shock', 'ship', 'shine', 'sherlock', 'shelves', 'shelter', 'shedd', 'share', 'shampoo', 'shame', 'shadowhunters', 'shades', 'sexuality', 'serenity', 'seperate', 'separation', 'sentimentality', 'semicolons', 'semantics', 'selection', 'seize', 'seeing', 'seeds', 'seduction', 'sebastian', 'searching', 'scott', 'scifi', 'sci', 'scholars', 'scar', 'save', 'sausage', 'satisfaction', 'satirical', 'sarah', 'santiago', 'santayana', 'sandman', 'samuel', 'salinger', 'sal', 'sail', 'saga', 'safety', 'safe', 's_labyrinth', 'rythmic', 'runner', 'rumi', 'rulers', 'rue', 'rowling', 'roth', 'rosemarie', 'rosa', 'roots', 'romantics', 'roles', 'role', 'rocks', 'robin', 'robert', 'richness', 'richelle', 'rice', 'rewriting', 'rewind', 'revolution', 'revelation', 'reticence', 'restlessness', 'resilience', 'rescuing', 'requirements', 'reputation', 'renaissance', 'rena', 'remus', 'reminding', 'remembrance', 'remember', 'religious', 'relaxation', 'regrets', 'reggae', 'refuge', 'reflection', 'reflect', 'redemption', 'records', 'recognition', 'reciprocity', 'receptivity', 'rebirth', 'rebels', 'rebellion', 'reassurance', 'really', 'realist', 'realism', 'reads', 'reach', 'rationalism', 'ralph', 'rachel', 'rabelais', 'quotation', 'quo', 'quiet', 'questioning', 'question', 'quest', 'purity', 'puppies', 'punishment', 'puck', 'public', 'psychotherapist', 'psychological', 'provoking', 'proverb', 'protest', 'prose', 'promise', 'progressive', 'profound', 'profanity', 'procrastination', 'procrastinate', 'proactivity', 'privilege', 'privacy', 'principle', 'pride', 'pressure', 'presidential', 'pray', 'pox', 'possiblity', 'possibility', 'positivity', 'posiedon', 'poseidon', 'popularity', 'ponyboy', 'ponder', 'pleasures', 'plays', 'play', 'plants', 'plans', 'planning', 'plague', 'pixie', 'pijamas', 'pigs', 'piglet', 'pig', 'philosphy', 'philosophical', 'philosophers', 'phenomenal', 'pets', 'peter', 'pessimism', 'perreira', 'permission', 'perfect', 'peer', 'peabody', 'pause', 'paulo', 'pattern', 'passage', 'parties', 'parks', 'park', 'paraphrasing', 'paranormal', 'paramore', 'paper', 'paolini', 'panic', 'pandora', 'pan', 'pamuk', 'owen', 'originality', 'orhan', 'ordinary', 'options', 'oprah', 'opposition', 'opposite', 'opinion', 'openness', 'ones', 'one', 'odair', 'october', 'ocean', 'obviousness', 'obvious', 'observational', 'obedience', 'oaths', 'novelty', 'novelist', 'novel', 'nothing', 'north', 'norms', 'nonfiction', 'nonconformity', 'nightshade', 'nightmares', 'nietzsche', 'news', 'neverland', 'neurosis', 'nerds', 'nerd', 'nephlim', 'neighborhoods', 'needs', 'need', 'nations', 'nationalism', 'nagasawa', 'mythological', 'mystery', 'mutuality', 'mustache', 'musical', 'murder', 'mummies', 'muggles', 'much', 'mr', 'move', 'mountains', 'mottos', 'mortification', 'morning', 'mormont', 'morganvillevampires', 'moonshine', 'monsters', 'moi', 'models', 'mistake', 'missing', 'misquote', 'misprints', 'misogyny', 'misfits', 'misery', 'mischief', 'misanthropy', 'mirror', 'miracle', 'minutes', 'minority', 'mindful', 'mina', 'miller', 'miles', 'middlemarch', 'metaphor', 'mentoring', 'memoir', 'melanie', 'melancholy', 'mead', 'mazur', 'may', 'max', 'matthias', 'matthews', 'matters', 'matter', 'matrimony', 'marx', 'martyr', 'marley', 'many', 'malediction', 'malcolm', 'makeup', 'majority', 'mail', 'maia', 'magnificent', 'machines', 'macchio', 'macbeth', 'lupin', 'lullaby', 'luke', 'loyalty', 'lover', 'louisa', 'lookingforalaska', 'longings', 'loner', 'lonely', 'london', 'logo', 'loathing', 'literacy', 'limitations', 'limit', 'lightning', 'liar', 'lesson', 'less', 'lena', 'lemons', 'leigh', 'legacy', 'laziness', 'layken', 'law', 'lateral', 'late', 'lamp', 'l', 'kyle', 'kvothe', 'kurt', 'kite', 'kissing', 'kingdom', 'kindle', 'killing', 'kensington', 'katherines', 'katharine', 'kant', 'kafka', 'k', 'june', 'judging', 'judge', 'joseph', 'johnny', 'johngreen', 'joh', 'jobs', 'jk', 'jest', 'jeb', 'jared', 'jamie', 'jail', 'jacob', 'ivashkov', 'italy', 'isolation', 'isaac', 'invincible', 'investigator', 'invention', 'intoxication', 'intimidation', 'interview', 'intent', 'intelligent', 'intellectuals', 'intellect', 'insults', 'insincerity', 'inkheart', 'injustice', 'injury', 'injuries', 'initiative', 'ingenuity', 'infinite', 'inevitability', 'inertia', 'inequality', 'inej', 'indulgence', 'individuals', 'individualism', 'indifference', 'independent', 'incrementalism', 'incredibly', 'inconvenient', 'imposters', 'impossible', 'imperfections', 'imperfection', 'impact', 'immature', 'imagery', 'illusions', 'illiteracy', 'ignite', 'idiocy', 'ideas', 'ideals', 'ian', 'hutchins', 'humanities', 'humanism', 'host', 'hopper', 'honor', 'holoway', 'holmes', 'hodge', 'hmmm', 'hitchhiker', 'historical', 'hindsight', 'high', 'hermione', 'henry', 'helsing', 'help', 'heartfelt', 'heartbreaking', 'heal', 'haunt', 'hatter', 'hathaway', 'hamlet', 'halter', 'hagrid', 'h2g2', 'guys', 'gullibility', 'guide', 'grudges', 'grudge', 'grown', 'ground', 'groucho', 'grisha', 'grieving', 'greg', 'greek', 'great', 'grammar', 'governments', 'government', 'goodwill', 'goodfellow', 'goodbyes', 'gonzo', 'gondor', 'going', 'gods', 'glittering', 'glitter', 'girl', 'ginny', 'ghosts', 'ghafa', 'geography', 'genius', 'generations', 'gates', 'gardens', 'gandalf', 'game', 'gaiman', 'funeral', 'fun', 'fuck', 'frost', 'frolick', 'frodo', 'frienship', 'fresh', 'french', 'freethinker', 'fraser', 'franz', 'franklin', 'francois', 'fountainhead', 'foster', 'forgive', 'forgetfulness', 'forever', 'forests', 'foreshadowing', 'forcasting', 'foolproof', 'fool', 'focus', 'flowers', 'flexibility', 'flewn', 'flaws', 'flattery', 'flame', 'five', 'fitzpatrick', 'fitzgerald', 'fitting', 'finding', 'finch', 'finale', 'fig', 'fifty', 'fi', 'fey', 'ferocity', 'feminist', 'femininity', 'feet', 'feeling', 'feathers', 'fears', 'fearlessness', 'favourite', 'families', 'fall', 'fairytales', 'fairies', 'fair', 'failures', 'fahrenheit', 'f', 'exupery', 'extraterrestrials', 'explore', 'exploration', 'explain', 'expectation', 'exercise', 'excuses', 'excuse', 'evidence', 'everything', 'everyday', 'everdeen', 'essential', 'essay', 'escape', 'eragon', 'equations', 'entry', 'enthusiasm', 'enterprise', 'england', 'energy', 'enemy', 'enduring', 'emptiness', 'emerson', 'elizabethan', 'elitist', 'elitism', 'elite', 'eleven', 'elections', 'edison', 'ecology', 'eccentricity', 'ebay', 'eating', 'eastern', 'earnestness', 'dystopia', 'dust', 'durden', 'drunk', 'dreamers', 'dreamer', 'dramatist', 'dracula', 'draco', 'douglas', 'doubt', 'dorian', 'doctor', 'dna', 'dizziness', 'divorce', 'dives', 'diversity', 'distractions', 'dissent', 'dissapointment', 'dislike', 'dishonesty', 'disease', 'discworld', 'discussion', 'discipline', 'disappointed', 'dirty', 'dirt', 'diplomacy', 'dionysus', 'difficulty', 'difficult', 'difference', 'die', 'dictionary', 'dhampir', 'devotion', 'devil', 'detection', 'dessen', 'design', 'description', 'deprecation', 'denial', 'demon', 'demographics', 'delusion', 'defiant', 'defenses', 'defend', 'deeply', 'december', 'deceit', 'dear', 'dead', 'de', 'dave', 'dauntless', 'darcy', 'dangerous', 'danger', 'dancing', 'dan', 'cynicism', 'cynical', 'cynic', 'curtis', 'cruelty', 'crooked', 'criticize', 'crisis', 'craziness', 'cows', 'courtroom', 'cosmos', 'cosby', 'corruption', 'correct', 'conviction', 'conversations', 'contrast', 'consolation', 'consciousness', 'connecting', 'congreve', 'confused', 'conflict', 'confidences', 'confession', 'condition', 'concern', 'computers', 'completion', 'complaining', 'company', 'communication', 'commercial', 'commerce', 'coma', 'color', 'college', 'coldness', 'coelho', 'cobain', 'clouds', 'clothing', 'clothes', 'close', 'clock', 'clichés', 'cleverness', 'cleanliness', 'clean', 'clark', 'claire', 'civil', 'cinna', 'church', 'christopher', 'christians', 'christian', 'christ', 'choose', 'chesterton', 'chemistry', 'cheese', 'check', 'chbosky', 'charlie', 'characters', 'chaos', 'chaol', 'changes', 'chance', 'chalmers', 'challanges', 'caulfield', 'catatonia', 'castle', 'cartoonist', 'carolina', 'capability', 'canoodle', 'cancer', 'canadian', 'camus', 'calling', 'cade', 'c', 'button', 'busy', 'burdens', 'buddhism', 'brotherhood', 'brokenness', 'broccoli', 'broad', 'british', 'bright', 'bridge', 'breath', 'breakup', 'breakfast', 'brain', 'box', 'bower', 'bothered', 'bossypants', 'boredom', 'bookroom', 'bond', 'boggs', 'bodett', 'bob', 'blues', 'blood', 'blog', 'blackjack', 'black', 'biscuit', 'birthday', 'birth', 'birds', 'bilbo', 'bibliophiles', 'betty', 'bestseller', 'best', 'bereavement', 'benjamin', 'ben', 'belonging', 'believing', 'beliefs', 'behrendt', 'behind', 'beginnings', 'beckett', 'becca', 'bathing', 'barriers', 'barrie', 'bardugo', 'barbarity', 'baker', 'bachelorhood', 'baby', 'babies', 'awkward', 'awesomeness', 'autonomy', 'audrey', 'atticus', 'attention', 'atrocities', 'atoms', 'atlas', 'atheist', 'athe', 'astronomer', 'assumptions', 'assessment', 'assassin', 'aspirations', 'aspiration', 'asimov', 'arrogance', 'armstrong', 'aristotle', 'ardor', 'april', 'appeal', 'apothegm', 'apocryphal', 'apocalypse', 'apart', 'anxiety', 'antolini', 'antoine', 'antipathy', 'anti', 'annie', 'anarchy', 'amsterdam', 'amorality', 'amnesia', 'amity', 'americans', 'amelia', 'ambition', 'amazing', 'aloneness', 'allergies', 'allegory', 'alcott', 'alcohol', 'alchohol', 'agree', 'agnosticism', 'agency', 'agama', 'afternoon', 'afraid', 'aesthetics', 'advocacy', 'advertising', 'adventuring', 'adventures', 'adults', 'adrian', 'adoration', 'addison', 'adams', 'adam', 'acts', 'actions', 'act', 'acorns', 'aciman', 'ache', 'accomplishment', 'accept', 'abundance', 'absurdities', 'absence', 'abbey', '8', '451', '24', '2013', '2012', '2008', '1997', '1993', '1970', '1955', '1929']\n"
          ]
        }
      ]
    },
    {
      "cell_type": "code",
      "source": [
        "sample_label = train[\"stop_tags\"].iloc[0]\n",
        "print(f\"Original label: {sample_label}\")\n",
        "\n",
        "label_binarized = lookup([sample_label])\n",
        "print(f\"Label-binarized representation: {label_binarized}\")"
      ],
      "metadata": {
        "colab": {
          "base_uri": "https://localhost:8080/"
        },
        "id": "okXNZkrd5GII",
        "outputId": "e95c420c-f712-4c4b-c353-fb4801742fe8"
      },
      "id": "okXNZkrd5GII",
      "execution_count": null,
      "outputs": [
        {
          "output_type": "stream",
          "name": "stdout",
          "text": [
            "Original label: ['nietzsche']\n",
            "Label-binarized representation: [[0. 0. 0. ... 0. 0. 0.]]\n"
          ]
        }
      ]
    },
    {
      "cell_type": "code",
      "source": [
        "train[\"stop_quote\"].apply(lambda x: len(x.split(\" \"))).describe()"
      ],
      "metadata": {
        "colab": {
          "base_uri": "https://localhost:8080/"
        },
        "id": "nOxTfAAy5Uul",
        "outputId": "c74c175b-c284-4b2b-ea8f-9998b88df2d2"
      },
      "id": "nOxTfAAy5Uul",
      "execution_count": null,
      "outputs": [
        {
          "output_type": "execute_result",
          "data": {
            "text/plain": [
              "count    2003.000000\n",
              "mean       14.644533\n",
              "std        21.874984\n",
              "min         1.000000\n",
              "25%         6.000000\n",
              "50%         8.000000\n",
              "75%        15.000000\n",
              "max       348.000000\n",
              "Name: stop_quote, dtype: float64"
            ]
          },
          "metadata": {},
          "execution_count": 81
        }
      ]
    },
    {
      "cell_type": "code",
      "source": [
        "max_seqlen = 10\n",
        "batch_size = 6\n",
        "padding_token = \"<pad>\"\n",
        "\n",
        "from tensorflow.data import AUTOTUNE\n",
        "from tensorflow.data import Dataset\n",
        "\n",
        "auto = AUTOTUNE\n",
        "\n",
        "\n",
        "def make_dataset(dataframe, is_train=True):\n",
        "    labels = constant(dataframe[\"stop_tags\"].values)\n",
        "    label_binarized = lookup(labels).numpy()\n",
        "\n",
        "    dataset = Dataset.from_tensor_slices(\n",
        "        (dataframe[\"stop_quote\"].values, label_binarized)\n",
        "    )\n",
        "\n",
        "    dataset = dataset.shuffle(batch_size * 10) if is_train else dataset\n",
        "    return dataset.batch(batch_size)\n",
        "\n",
        "train_dataset = make_dataset(train, is_train=True)\n",
        "validation_dataset = make_dataset(val, is_train=False)\n",
        "test_dataset = make_dataset(test, is_train=False)"
      ],
      "metadata": {
        "id": "6NBCdZQp6HDo"
      },
      "id": "6NBCdZQp6HDo",
      "execution_count": null,
      "outputs": []
    },
    {
      "cell_type": "code",
      "source": [
        "vocabulary = set()\n",
        "train[\"stop_quote\"].str.lower().str.split().apply(vocabulary.update)\n",
        "vocabulary_size = len(vocabulary)\n",
        "print(vocabulary_size)"
      ],
      "metadata": {
        "colab": {
          "base_uri": "https://localhost:8080/"
        },
        "id": "NAUc4TeW6eW9",
        "outputId": "29c90def-3150-44f6-b8b6-230a088f09dd"
      },
      "id": "NAUc4TeW6eW9",
      "execution_count": null,
      "outputs": [
        {
          "output_type": "stream",
          "name": "stdout",
          "text": [
            "6914\n"
          ]
        }
      ]
    },
    {
      "cell_type": "code",
      "source": [
        "text_vectorizer = layers.TextVectorization(max_tokens=vocabulary_size, ngrams=2, output_mode=\"tf_idf\")\n",
        "\n",
        "import tensorflow as tf\n",
        "# `TextVectorization` layer needs to be adapted as per the vocabulary from our\n",
        "# training set.\n",
        "with tf.device(\"/CPU:0\"):\n",
        "    text_vectorizer.adapt(train_dataset.map(lambda text, label: text))\n",
        "\n",
        "train_dataset = train_dataset.map(lambda text, label: (text_vectorizer(text), label), num_parallel_calls=auto).prefetch(auto)\n",
        "validation_dataset = validation_dataset.map(lambda text, label: (text_vectorizer(text), label), num_parallel_calls=auto).prefetch(auto)\n",
        "test_dataset = test_dataset.map(lambda text, label: (text_vectorizer(text), label), num_parallel_calls=auto).prefetch(auto)"
      ],
      "metadata": {
        "id": "HCapfP8E60VO"
      },
      "id": "HCapfP8E60VO",
      "execution_count": null,
      "outputs": []
    },
    {
      "cell_type": "code",
      "source": [
        "keras_model = Sequential()\n",
        "keras_model.add(Dropout(0.2))\n",
        "keras_model.add(Dense(1000, activation = 'relu'))\n",
        "keras_model.add(Dense(500, activation = 'relu'))\n",
        "keras_model.add(Dense(lookup.vocabulary_size(), activation = 'sigmoid'))\n",
        "\n",
        "keras_model.compile(loss=\"binary_crossentropy\", optimizer = 'adam', metrics=['categorical_accuracy'])\n",
        "keras_model.build((None, vocabulary_size))\n",
        "keras_model.summary()"
      ],
      "metadata": {
        "colab": {
          "base_uri": "https://localhost:8080/"
        },
        "id": "G1Zq4ywP7GB9",
        "outputId": "87a409ad-22b2-4503-851b-9644f556898b"
      },
      "id": "G1Zq4ywP7GB9",
      "execution_count": null,
      "outputs": [
        {
          "output_type": "stream",
          "name": "stdout",
          "text": [
            "Model: \"sequential_14\"\n",
            "_________________________________________________________________\n",
            " Layer (type)                Output Shape              Param #   \n",
            "=================================================================\n",
            " dropout_10 (Dropout)        (None, 6914)              0         \n",
            "                                                                 \n",
            " dense_42 (Dense)            (None, 1000)              6915000   \n",
            "                                                                 \n",
            " dense_43 (Dense)            (None, 1000)              1001000   \n",
            "                                                                 \n",
            " dense_44 (Dense)            (None, 1824)              1825824   \n",
            "                                                                 \n",
            "=================================================================\n",
            "Total params: 9,741,824\n",
            "Trainable params: 9,741,824\n",
            "Non-trainable params: 0\n",
            "_________________________________________________________________\n"
          ]
        }
      ]
    },
    {
      "cell_type": "code",
      "source": [
        "history = keras_model.fit(train_dataset, \n",
        "                          validation_data = validation_dataset, \n",
        "                          epochs = 15,\n",
        "                          callbacks = [EarlyStopping(monitor = 'categorical_accuracy', patience = 3)])"
      ],
      "metadata": {
        "colab": {
          "base_uri": "https://localhost:8080/"
        },
        "id": "utdWTtwS7WXG",
        "outputId": "91745ca1-cfc7-421e-8215-af127a03c499"
      },
      "id": "utdWTtwS7WXG",
      "execution_count": null,
      "outputs": [
        {
          "output_type": "stream",
          "name": "stdout",
          "text": [
            "Epoch 1/15\n",
            "334/334 [==============================] - 30s 90ms/step - loss: 8.5799e-04 - categorical_accuracy: 0.5242 - val_loss: 0.0141 - val_categorical_accuracy: 0.1160\n",
            "Epoch 2/15\n",
            "334/334 [==============================] - 25s 74ms/step - loss: 8.3807e-04 - categorical_accuracy: 0.5282 - val_loss: 0.0145 - val_categorical_accuracy: 0.1400\n",
            "Epoch 3/15\n",
            "334/334 [==============================] - 23s 68ms/step - loss: 7.8311e-04 - categorical_accuracy: 0.5232 - val_loss: 0.0142 - val_categorical_accuracy: 0.1480\n",
            "Epoch 4/15\n",
            "334/334 [==============================] - 25s 74ms/step - loss: 6.9043e-04 - categorical_accuracy: 0.5362 - val_loss: 0.0144 - val_categorical_accuracy: 0.1480\n",
            "Epoch 5/15\n",
            "334/334 [==============================] - 25s 73ms/step - loss: 5.2425e-04 - categorical_accuracy: 0.5047 - val_loss: 0.0146 - val_categorical_accuracy: 0.1600\n",
            "Epoch 6/15\n",
            "334/334 [==============================] - 23s 69ms/step - loss: 6.2435e-04 - categorical_accuracy: 0.5047 - val_loss: 0.0140 - val_categorical_accuracy: 0.1480\n",
            "Epoch 7/15\n",
            "334/334 [==============================] - 26s 77ms/step - loss: 5.7312e-04 - categorical_accuracy: 0.4908 - val_loss: 0.0162 - val_categorical_accuracy: 0.1560\n"
          ]
        }
      ]
    },
    {
      "cell_type": "code",
      "source": [
        "info = keras_model.evaluate(test_dataset)"
      ],
      "metadata": {
        "colab": {
          "base_uri": "https://localhost:8080/"
        },
        "id": "yrAMk_t57Y7G",
        "outputId": "d41f6c53-4f49-4d2f-8934-c71f8407fa7b"
      },
      "id": "yrAMk_t57Y7G",
      "execution_count": null,
      "outputs": [
        {
          "output_type": "stream",
          "name": "stdout",
          "text": [
            "42/42 [==============================] - 1s 14ms/step - loss: 0.0174 - categorical_accuracy: 0.1275\n"
          ]
        }
      ]
    },
    {
      "cell_type": "code",
      "source": [
        "def plot_result(item):\n",
        "    plt.plot(history.history[item], label=item)\n",
        "    plt.plot(history.history[\"val_\" + item], label=\"val_\" + item)\n",
        "    plt.xlabel(\"Epochs\")\n",
        "    plt.ylabel(item)\n",
        "    plt.title(\"Train and Validation {} Over Epochs\".format(item), fontsize=14)\n",
        "    plt.legend()\n",
        "    plt.grid()\n",
        "    plt.show()\n",
        "\n",
        "\n",
        "plot_result(\"loss\")\n",
        "plot_result(\"categorical_accuracy\")"
      ],
      "metadata": {
        "colab": {
          "base_uri": "https://localhost:8080/",
          "height": 575
        },
        "id": "0G3y3g_U8Wvu",
        "outputId": "b782dd54-6e78-4a5d-8ff4-a67f152ba4b3"
      },
      "id": "0G3y3g_U8Wvu",
      "execution_count": null,
      "outputs": [
        {
          "output_type": "display_data",
          "data": {
            "image/png": "[encoded data removed]",
            "text/plain": [
              "<Figure size 432x288 with 1 Axes>"
            ]
          },
          "metadata": {
            "needs_background": "light"
          }
        },
        {
          "output_type": "display_data",
          "data": {
            "image/png": "[encoded data removed]",
            "text/plain": [
              "<Figure size 432x288 with 1 Axes>"
            ]
          },
          "metadata": {
            "needs_background": "light"
          }
        }
      ]
    },
    {
      "cell_type": "code",
      "source": [
        "subset = goodreads[['stop_quote', 'stop_tags']]\n",
        "subset['rand_tag'] = subset['stop_tags'].apply(lambda x: np.random.choice(x))\n",
        "subset.head()"
      ],
      "metadata": {
        "id": "JsfZfIjeiDqc",
        "colab": {
          "base_uri": "https://localhost:8080/",
          "height": 206
        },
        "outputId": "7bfa7534-e6bf-4e3f-b6ab-c59ec87a03f9"
      },
      "id": "JsfZfIjeiDqc",
      "execution_count": 10,
      "outputs": [
        {
          "output_type": "execute_result",
          "data": {
            "text/html": [
              "\n",
              "  <div id=\"df-c06d8607-4788-48bf-909d-90da024047e0\">\n",
              "    <div class=\"colab-df-container\">\n",
              "      <div>\n",
              "<style scoped>\n",
              "    .dataframe tbody tr th:only-of-type {\n",
              "        vertical-align: middle;\n",
              "    }\n",
              "\n",
              "    .dataframe tbody tr th {\n",
              "        vertical-align: top;\n",
              "    }\n",
              "\n",
              "    .dataframe thead th {\n",
              "        text-align: right;\n",
              "    }\n",
              "</style>\n",
              "<table border=\"1\" class=\"dataframe\">\n",
              "  <thead>\n",
              "    <tr style=\"text-align: right;\">\n",
              "      <th></th>\n",
              "      <th>stop_quote</th>\n",
              "      <th>stop_tags</th>\n",
              "      <th>rand_tag</th>\n",
              "    </tr>\n",
              "  </thead>\n",
              "  <tbody>\n",
              "    <tr>\n",
              "      <th>0</th>\n",
              "      <td>everyone else already taken</td>\n",
              "      <td>[attributed, source, gilbert, perreira, honest...</td>\n",
              "      <td>inspirational</td>\n",
              "    </tr>\n",
              "    <tr>\n",
              "      <th>1</th>\n",
              "      <td>im selfish impatient little insecure make mist...</td>\n",
              "      <td>[attributed, source, best, life, love, mistake...</td>\n",
              "      <td>attributed</td>\n",
              "    </tr>\n",
              "    <tr>\n",
              "      <th>2</th>\n",
              "      <td>two things infinite universe human stupidity i...</td>\n",
              "      <td>[attributed, source, human, nature, humor, inf...</td>\n",
              "      <td>human</td>\n",
              "    </tr>\n",
              "    <tr>\n",
              "      <th>3</th>\n",
              "      <td>many books little time</td>\n",
              "      <td>[books, humor]</td>\n",
              "      <td>books</td>\n",
              "    </tr>\n",
              "    <tr>\n",
              "      <th>4</th>\n",
              "      <td>room without books like body without soul</td>\n",
              "      <td>[attributed, source, books, simile, soul]</td>\n",
              "      <td>books</td>\n",
              "    </tr>\n",
              "  </tbody>\n",
              "</table>\n",
              "</div>\n",
              "      <button class=\"colab-df-convert\" onclick=\"convertToInteractive('df-c06d8607-4788-48bf-909d-90da024047e0')\"\n",
              "              title=\"Convert this dataframe to an interactive table.\"\n",
              "              style=\"display:none;\">\n",
              "        \n",
              "  <svg xmlns=\"http://www.w3.org/2000/svg\" height=\"24px\"viewBox=\"0 0 24 24\"\n",
              "       width=\"24px\">\n",
              "    <path d=\"M0 0h24v24H0V0z\" fill=\"none\"/>\n",
              "    <path d=\"M18.56 5.44l.94 2.06.94-2.06 2.06-.94-2.06-.94-.94-2.06-.94 2.06-2.06.94zm-11 1L8.5 8.5l.94-2.06 2.06-.94-2.06-.94L8.5 2.5l-.94 2.06-2.06.94zm10 10l.94 2.06.94-2.06 2.06-.94-2.06-.94-.94-2.06-.94 2.06-2.06.94z\"/><path d=\"M17.41 7.96l-1.37-1.37c-.4-.4-.92-.59-1.43-.59-.52 0-1.04.2-1.43.59L10.3 9.45l-7.72 7.72c-.78.78-.78 2.05 0 2.83L4 21.41c.39.39.9.59 1.41.59.51 0 1.02-.2 1.41-.59l7.78-7.78 2.81-2.81c.8-.78.8-2.07 0-2.86zM5.41 20L4 18.59l7.72-7.72 1.47 1.35L5.41 20z\"/>\n",
              "  </svg>\n",
              "      </button>\n",
              "      \n",
              "  <style>\n",
              "    .colab-df-container {\n",
              "      display:flex;\n",
              "      flex-wrap:wrap;\n",
              "      gap: 12px;\n",
              "    }\n",
              "\n",
              "    .colab-df-convert {\n",
              "      background-color: #E8F0FE;\n",
              "      border: none;\n",
              "      border-radius: 50%;\n",
              "      cursor: pointer;\n",
              "      display: none;\n",
              "      fill: #1967D2;\n",
              "      height: 32px;\n",
              "      padding: 0 0 0 0;\n",
              "      width: 32px;\n",
              "    }\n",
              "\n",
              "    .colab-df-convert:hover {\n",
              "      background-color: #E2EBFA;\n",
              "      box-shadow: 0px 1px 2px rgba(60, 64, 67, 0.3), 0px 1px 3px 1px rgba(60, 64, 67, 0.15);\n",
              "      fill: #174EA6;\n",
              "    }\n",
              "\n",
              "    [theme=dark] .colab-df-convert {\n",
              "      background-color: #3B4455;\n",
              "      fill: #D2E3FC;\n",
              "    }\n",
              "\n",
              "    [theme=dark] .colab-df-convert:hover {\n",
              "      background-color: #434B5C;\n",
              "      box-shadow: 0px 1px 3px 1px rgba(0, 0, 0, 0.15);\n",
              "      filter: drop-shadow(0px 1px 2px rgba(0, 0, 0, 0.3));\n",
              "      fill: #FFFFFF;\n",
              "    }\n",
              "  </style>\n",
              "\n",
              "      <script>\n",
              "        const buttonEl =\n",
              "          document.querySelector('#df-c06d8607-4788-48bf-909d-90da024047e0 button.colab-df-convert');\n",
              "        buttonEl.style.display =\n",
              "          google.colab.kernel.accessAllowed ? 'block' : 'none';\n",
              "\n",
              "        async function convertToInteractive(key) {\n",
              "          const element = document.querySelector('#df-c06d8607-4788-48bf-909d-90da024047e0');\n",
              "          const dataTable =\n",
              "            await google.colab.kernel.invokeFunction('convertToInteractive',\n",
              "                                                     [key], {});\n",
              "          if (!dataTable) return;\n",
              "\n",
              "          const docLinkHtml = 'Like what you see? Visit the ' +\n",
              "            '<a target=\"_blank\" href=https://colab.research.google.com/notebooks/data_table.ipynb>data table notebook</a>'\n",
              "            + ' to learn more about interactive tables.';\n",
              "          element.innerHTML = '';\n",
              "          dataTable['output_type'] = 'display_data';\n",
              "          await google.colab.output.renderOutput(dataTable, element);\n",
              "          const docLink = document.createElement('div');\n",
              "          docLink.innerHTML = docLinkHtml;\n",
              "          element.appendChild(docLink);\n",
              "        }\n",
              "      </script>\n",
              "    </div>\n",
              "  </div>\n",
              "  "
            ],
            "text/plain": [
              "                                          stop_quote  \\\n",
              "0                        everyone else already taken   \n",
              "1  im selfish impatient little insecure make mist...   \n",
              "2  two things infinite universe human stupidity i...   \n",
              "3                             many books little time   \n",
              "4          room without books like body without soul   \n",
              "\n",
              "                                           stop_tags       rand_tag  \n",
              "0  [attributed, source, gilbert, perreira, honest...  inspirational  \n",
              "1  [attributed, source, best, life, love, mistake...     attributed  \n",
              "2  [attributed, source, human, nature, humor, inf...          human  \n",
              "3                                     [books, humor]          books  \n",
              "4          [attributed, source, books, simile, soul]          books  "
            ]
          },
          "metadata": {},
          "execution_count": 10
        }
      ]
    },
    {
      "cell_type": "code",
      "source": [
        "encoded = {}\n",
        "\n",
        "for tag in subset.rand_tag:\n",
        "\n",
        "  if tag not in encoded.keys():\n",
        "\n",
        "    encoded[tag] = len(encoded)\n",
        "\n",
        "subset['encoded_tag'] = subset.rand_tag.map(encoded)"
      ],
      "metadata": {
        "id": "i5NwODewwuLu"
      },
      "id": "i5NwODewwuLu",
      "execution_count": 11,
      "outputs": []
    },
    {
      "cell_type": "code",
      "source": [
        "subset = subset.sample(frac = 1).reset_index(drop = True)\n",
        "subset.head()"
      ],
      "metadata": {
        "colab": {
          "base_uri": "https://localhost:8080/",
          "height": 206
        },
        "id": "Ipv_1qfWxdd-",
        "outputId": "2bc363d7-26ab-4c67-f2cb-7ee7999872d7"
      },
      "id": "Ipv_1qfWxdd-",
      "execution_count": 12,
      "outputs": [
        {
          "output_type": "execute_result",
          "data": {
            "text/html": [
              "\n",
              "  <div id=\"df-05db6aa1-2b72-4557-8299-25ff669826b3\">\n",
              "    <div class=\"colab-df-container\">\n",
              "      <div>\n",
              "<style scoped>\n",
              "    .dataframe tbody tr th:only-of-type {\n",
              "        vertical-align: middle;\n",
              "    }\n",
              "\n",
              "    .dataframe tbody tr th {\n",
              "        vertical-align: top;\n",
              "    }\n",
              "\n",
              "    .dataframe thead th {\n",
              "        text-align: right;\n",
              "    }\n",
              "</style>\n",
              "<table border=\"1\" class=\"dataframe\">\n",
              "  <thead>\n",
              "    <tr style=\"text-align: right;\">\n",
              "      <th></th>\n",
              "      <th>stop_quote</th>\n",
              "      <th>stop_tags</th>\n",
              "      <th>rand_tag</th>\n",
              "      <th>encoded_tag</th>\n",
              "    </tr>\n",
              "  </thead>\n",
              "  <tbody>\n",
              "    <tr>\n",
              "      <th>0</th>\n",
              "      <td>two basic motivating forces fear love afraid p...</td>\n",
              "      <td>[beatles, fear, life, love]</td>\n",
              "      <td>fear</td>\n",
              "      <td>59</td>\n",
              "    </tr>\n",
              "    <tr>\n",
              "      <th>1</th>\n",
              "      <td>mountains calling must go</td>\n",
              "      <td>[nature]</td>\n",
              "      <td>nature</td>\n",
              "      <td>187</td>\n",
              "    </tr>\n",
              "    <tr>\n",
              "      <th>2</th>\n",
              "      <td>feeling completeness needed feeling empty</td>\n",
              "      <td>[emptiness, life]</td>\n",
              "      <td>emptiness</td>\n",
              "      <td>483</td>\n",
              "    </tr>\n",
              "    <tr>\n",
              "      <th>3</th>\n",
              "      <td>man cruelest animal</td>\n",
              "      <td>[animals, cruelty, evil, man]</td>\n",
              "      <td>animals</td>\n",
              "      <td>768</td>\n",
              "    </tr>\n",
              "    <tr>\n",
              "      <th>4</th>\n",
              "      <td>id rather die way live</td>\n",
              "      <td>[independence, lena, holoway, self, determinat...</td>\n",
              "      <td>reliance</td>\n",
              "      <td>690</td>\n",
              "    </tr>\n",
              "  </tbody>\n",
              "</table>\n",
              "</div>\n",
              "      <button class=\"colab-df-convert\" onclick=\"convertToInteractive('df-05db6aa1-2b72-4557-8299-25ff669826b3')\"\n",
              "              title=\"Convert this dataframe to an interactive table.\"\n",
              "              style=\"display:none;\">\n",
              "        \n",
              "  <svg xmlns=\"http://www.w3.org/2000/svg\" height=\"24px\"viewBox=\"0 0 24 24\"\n",
              "       width=\"24px\">\n",
              "    <path d=\"M0 0h24v24H0V0z\" fill=\"none\"/>\n",
              "    <path d=\"M18.56 5.44l.94 2.06.94-2.06 2.06-.94-2.06-.94-.94-2.06-.94 2.06-2.06.94zm-11 1L8.5 8.5l.94-2.06 2.06-.94-2.06-.94L8.5 2.5l-.94 2.06-2.06.94zm10 10l.94 2.06.94-2.06 2.06-.94-2.06-.94-.94-2.06-.94 2.06-2.06.94z\"/><path d=\"M17.41 7.96l-1.37-1.37c-.4-.4-.92-.59-1.43-.59-.52 0-1.04.2-1.43.59L10.3 9.45l-7.72 7.72c-.78.78-.78 2.05 0 2.83L4 21.41c.39.39.9.59 1.41.59.51 0 1.02-.2 1.41-.59l7.78-7.78 2.81-2.81c.8-.78.8-2.07 0-2.86zM5.41 20L4 18.59l7.72-7.72 1.47 1.35L5.41 20z\"/>\n",
              "  </svg>\n",
              "      </button>\n",
              "      \n",
              "  <style>\n",
              "    .colab-df-container {\n",
              "      display:flex;\n",
              "      flex-wrap:wrap;\n",
              "      gap: 12px;\n",
              "    }\n",
              "\n",
              "    .colab-df-convert {\n",
              "      background-color: #E8F0FE;\n",
              "      border: none;\n",
              "      border-radius: 50%;\n",
              "      cursor: pointer;\n",
              "      display: none;\n",
              "      fill: #1967D2;\n",
              "      height: 32px;\n",
              "      padding: 0 0 0 0;\n",
              "      width: 32px;\n",
              "    }\n",
              "\n",
              "    .colab-df-convert:hover {\n",
              "      background-color: #E2EBFA;\n",
              "      box-shadow: 0px 1px 2px rgba(60, 64, 67, 0.3), 0px 1px 3px 1px rgba(60, 64, 67, 0.15);\n",
              "      fill: #174EA6;\n",
              "    }\n",
              "\n",
              "    [theme=dark] .colab-df-convert {\n",
              "      background-color: #3B4455;\n",
              "      fill: #D2E3FC;\n",
              "    }\n",
              "\n",
              "    [theme=dark] .colab-df-convert:hover {\n",
              "      background-color: #434B5C;\n",
              "      box-shadow: 0px 1px 3px 1px rgba(0, 0, 0, 0.15);\n",
              "      filter: drop-shadow(0px 1px 2px rgba(0, 0, 0, 0.3));\n",
              "      fill: #FFFFFF;\n",
              "    }\n",
              "  </style>\n",
              "\n",
              "      <script>\n",
              "        const buttonEl =\n",
              "          document.querySelector('#df-05db6aa1-2b72-4557-8299-25ff669826b3 button.colab-df-convert');\n",
              "        buttonEl.style.display =\n",
              "          google.colab.kernel.accessAllowed ? 'block' : 'none';\n",
              "\n",
              "        async function convertToInteractive(key) {\n",
              "          const element = document.querySelector('#df-05db6aa1-2b72-4557-8299-25ff669826b3');\n",
              "          const dataTable =\n",
              "            await google.colab.kernel.invokeFunction('convertToInteractive',\n",
              "                                                     [key], {});\n",
              "          if (!dataTable) return;\n",
              "\n",
              "          const docLinkHtml = 'Like what you see? Visit the ' +\n",
              "            '<a target=\"_blank\" href=https://colab.research.google.com/notebooks/data_table.ipynb>data table notebook</a>'\n",
              "            + ' to learn more about interactive tables.';\n",
              "          element.innerHTML = '';\n",
              "          dataTable['output_type'] = 'display_data';\n",
              "          await google.colab.output.renderOutput(dataTable, element);\n",
              "          const docLink = document.createElement('div');\n",
              "          docLink.innerHTML = docLinkHtml;\n",
              "          element.appendChild(docLink);\n",
              "        }\n",
              "      </script>\n",
              "    </div>\n",
              "  </div>\n",
              "  "
            ],
            "text/plain": [
              "                                          stop_quote  \\\n",
              "0  two basic motivating forces fear love afraid p...   \n",
              "1                          mountains calling must go   \n",
              "2          feeling completeness needed feeling empty   \n",
              "3                                man cruelest animal   \n",
              "4                             id rather die way live   \n",
              "\n",
              "                                           stop_tags   rand_tag  encoded_tag  \n",
              "0                        [beatles, fear, life, love]       fear           59  \n",
              "1                                           [nature]     nature          187  \n",
              "2                                  [emptiness, life]  emptiness          483  \n",
              "3                      [animals, cruelty, evil, man]    animals          768  \n",
              "4  [independence, lena, holoway, self, determinat...   reliance          690  "
            ]
          },
          "metadata": {},
          "execution_count": 12
        }
      ]
    },
    {
      "cell_type": "code",
      "source": [
        "from tensorflow.keras.utils import to_categorical\n"
      ],
      "metadata": {
        "id": "oCPuME83ygYC"
      },
      "id": "oCPuME83ygYC",
      "execution_count": 13,
      "outputs": []
    },
    {
      "cell_type": "code",
      "source": [
        "onehot_encoded = to_categorical(subset.encoded_tag)\n",
        "onehot_encoded"
      ],
      "metadata": {
        "colab": {
          "base_uri": "https://localhost:8080/"
        },
        "id": "u48yW0cTynLu",
        "outputId": "9a517157-3092-4e3d-f4de-f4dd245db5b8"
      },
      "id": "u48yW0cTynLu",
      "execution_count": 14,
      "outputs": [
        {
          "output_type": "execute_result",
          "data": {
            "text/plain": [
              "array([[0., 0., 0., ..., 0., 0., 0.],\n",
              "       [0., 0., 0., ..., 0., 0., 0.],\n",
              "       [0., 0., 0., ..., 0., 0., 0.],\n",
              "       ...,\n",
              "       [0., 0., 0., ..., 0., 0., 0.],\n",
              "       [0., 0., 0., ..., 0., 0., 0.],\n",
              "       [0., 0., 0., ..., 0., 0., 0.]], dtype=float32)"
            ]
          },
          "metadata": {},
          "execution_count": 14
        }
      ]
    },
    {
      "cell_type": "code",
      "source": [
        "import transformers\n",
        "from transformers import AutoTokenizer,TFBertModel"
      ],
      "metadata": {
        "id": "QaKmt0ScywHQ"
      },
      "id": "QaKmt0ScywHQ",
      "execution_count": 15,
      "outputs": []
    },
    {
      "cell_type": "code",
      "source": [
        "tokenizer = AutoTokenizer.from_pretrained('bert-base-cased')\n",
        "bert = TFBertModel.from_pretrained('bert-base-cased')"
      ],
      "metadata": {
        "colab": {
          "base_uri": "https://localhost:8080/"
        },
        "id": "hIDgRG5rzT6q",
        "outputId": "f3a5cb8d-2660-445a-9a63-4977fa007f5d"
      },
      "id": "hIDgRG5rzT6q",
      "execution_count": 16,
      "outputs": [
        {
          "output_type": "stream",
          "name": "stderr",
          "text": [
            "Some layers from the model checkpoint at bert-base-cased were not used when initializing TFBertModel: ['nsp___cls', 'mlm___cls']\n",
            "- This IS expected if you are initializing TFBertModel from the checkpoint of a model trained on another task or with another architecture (e.g. initializing a BertForSequenceClassification model from a BertForPreTraining model).\n",
            "- This IS NOT expected if you are initializing TFBertModel from the checkpoint of a model that you expect to be exactly identical (initializing a BertForSequenceClassification model from a BertForSequenceClassification model).\n",
            "All the layers of TFBertModel were initialized from the model checkpoint at bert-base-cased.\n",
            "If your task is similar to the task the model of the checkpoint was trained on, you can already use TFBertModel for predictions without further training.\n"
          ]
        }
      ]
    },
    {
      "cell_type": "code",
      "source": [
        "data = subset[['stop_quote', 'encoded_tag']]\n",
        "train, test = train_test_split(data, test_size = 0.2, random_state = 42)"
      ],
      "metadata": {
        "id": "ulYA-F6xz0a8"
      },
      "id": "ulYA-F6xz0a8",
      "execution_count": 17,
      "outputs": []
    },
    {
      "cell_type": "code",
      "source": [
        "subset[\"stop_quote\"].apply(lambda x: len(x.split(\" \"))).describe()"
      ],
      "metadata": {
        "colab": {
          "base_uri": "https://localhost:8080/"
        },
        "id": "jvftf0Xg0iSG",
        "outputId": "4b48ead0-3c66-4d43-d58c-77e4fcb8a048"
      },
      "id": "jvftf0Xg0iSG",
      "execution_count": 20,
      "outputs": [
        {
          "output_type": "execute_result",
          "data": {
            "text/plain": [
              "count    2504.000000\n",
              "mean       14.510783\n",
              "std        21.904413\n",
              "min         1.000000\n",
              "25%         6.000000\n",
              "50%         9.000000\n",
              "75%        15.000000\n",
              "max       348.000000\n",
              "Name: stop_quote, dtype: float64"
            ]
          },
          "metadata": {},
          "execution_count": 20
        }
      ]
    },
    {
      "cell_type": "code",
      "source": [
        "x_train = tokenizer(\n",
        "    text=train['stop_quote'].tolist(),\n",
        "    add_special_tokens=True,\n",
        "    max_length=9,\n",
        "    truncation=True,\n",
        "    padding=True, \n",
        "    return_tensors='tf',\n",
        "    return_token_type_ids = False,\n",
        "    return_attention_mask = True,\n",
        "    verbose = True)\n",
        "x_test = tokenizer(\n",
        "    text=test['stop_quote'].tolist(),\n",
        "    add_special_tokens=True,\n",
        "    max_length=9,\n",
        "    truncation=True,\n",
        "    padding=True, \n",
        "    return_tensors='tf',\n",
        "    return_token_type_ids = False,\n",
        "    return_attention_mask = True,\n",
        "    verbose = True)"
      ],
      "metadata": {
        "id": "y2QI43-m0LlZ"
      },
      "id": "y2QI43-m0LlZ",
      "execution_count": 21,
      "outputs": []
    },
    {
      "cell_type": "code",
      "source": [
        "y_train = train['encoded_tag']\n",
        "y_test = test['encoded_tag']"
      ],
      "metadata": {
        "id": "Ws5Rbsnv0nhX"
      },
      "id": "Ws5Rbsnv0nhX",
      "execution_count": 22,
      "outputs": []
    },
    {
      "cell_type": "code",
      "source": [
        "input_ids = x_train['input_ids']\n",
        "attention_mask = x_train['attention_mask']"
      ],
      "metadata": {
        "id": "ycq90snG0sy4"
      },
      "id": "ycq90snG0sy4",
      "execution_count": 24,
      "outputs": []
    },
    {
      "cell_type": "code",
      "source": [
        "import tensorflow as tf\n",
        "from tensorflow.keras.optimizers import Adam\n",
        "from tensorflow.keras.callbacks import EarlyStopping\n",
        "from tensorflow.keras.initializers import TruncatedNormal\n",
        "from tensorflow.keras.losses import CategoricalCrossentropy\n",
        "from tensorflow.keras.metrics import CategoricalAccuracy\n",
        "from tensorflow.keras.utils import to_categorical\n",
        "from tensorflow.keras.layers import Input, Dense"
      ],
      "metadata": {
        "id": "wyHLK0vK0wER"
      },
      "id": "wyHLK0vK0wER",
      "execution_count": 31,
      "outputs": []
    },
    {
      "cell_type": "code",
      "source": [
        "max_len = 9\n",
        "input_ids = Input(shape=(max_len,), dtype=tf.int32, name=\"input_ids\")\n",
        "input_mask = Input(shape=(max_len,), dtype=tf.int32, name=\"attention_mask\")\n",
        "embeddings = bert(input_ids,attention_mask = input_mask)[0] \n",
        "out = tf.keras.layers.GlobalMaxPool1D()(embeddings)\n",
        "out = Dense(256, activation='relu')(out)\n",
        "out = tf.keras.layers.Dropout(0.1)(out)\n",
        "out = Dense(64, activation = 'relu')(out)\n",
        "y = Dense(1, activation = 'sigmoid')(out)\n",
        "model = tf.keras.Model(inputs=[input_ids, input_mask], outputs=y)\n",
        "model.layers[2].trainable = True"
      ],
      "metadata": {
        "id": "pC4f2C0909QP"
      },
      "id": "pC4f2C0909QP",
      "execution_count": 53,
      "outputs": []
    },
    {
      "cell_type": "code",
      "source": [
        "model.summary()"
      ],
      "metadata": {
        "colab": {
          "base_uri": "https://localhost:8080/"
        },
        "id": "tHo5G6OV6OXb",
        "outputId": "51e9b28f-2c9b-4b6f-98e7-7804517c6e06"
      },
      "id": "tHo5G6OV6OXb",
      "execution_count": 54,
      "outputs": [
        {
          "output_type": "stream",
          "name": "stdout",
          "text": [
            "Model: \"model_2\"\n",
            "__________________________________________________________________________________________________\n",
            " Layer (type)                   Output Shape         Param #     Connected to                     \n",
            "==================================================================================================\n",
            " input_ids (InputLayer)         [(None, 9)]          0           []                               \n",
            "                                                                                                  \n",
            " attention_mask (InputLayer)    [(None, 9)]          0           []                               \n",
            "                                                                                                  \n",
            " tf_bert_model (TFBertModel)    TFBaseModelOutputWi  108310272   ['input_ids[0][0]',              \n",
            "                                thPoolingAndCrossAt               'attention_mask[0][0]']         \n",
            "                                tentions(last_hidde                                               \n",
            "                                n_state=(None, 9, 7                                               \n",
            "                                68),                                                              \n",
            "                                 pooler_output=(Non                                               \n",
            "                                e, 768),                                                          \n",
            "                                 past_key_values=No                                               \n",
            "                                ne, hidden_states=N                                               \n",
            "                                one, attentions=Non                                               \n",
            "                                e, cross_attentions                                               \n",
            "                                =None)                                                            \n",
            "                                                                                                  \n",
            " global_max_pooling1d_2 (Global  (None, 768)         0           ['tf_bert_model[2][0]']          \n",
            " MaxPooling1D)                                                                                    \n",
            "                                                                                                  \n",
            " dense_6 (Dense)                (None, 256)          196864      ['global_max_pooling1d_2[0][0]'] \n",
            "                                                                                                  \n",
            " dropout_39 (Dropout)           (None, 256)          0           ['dense_6[0][0]']                \n",
            "                                                                                                  \n",
            " dense_7 (Dense)                (None, 64)           16448       ['dropout_39[0][0]']             \n",
            "                                                                                                  \n",
            " dense_8 (Dense)                (None, 1)            65          ['dense_7[0][0]']                \n",
            "                                                                                                  \n",
            "==================================================================================================\n",
            "Total params: 108,523,649\n",
            "Trainable params: 108,523,649\n",
            "Non-trainable params: 0\n",
            "__________________________________________________________________________________________________\n"
          ]
        }
      ]
    },
    {
      "cell_type": "code",
      "source": [
        "optimizer = Adam(\n",
        "    learning_rate=5e-05, # this learning rate is for bert model , taken from huggingface website \n",
        "    epsilon=1e-08,\n",
        "    decay=0.01,\n",
        "    clipnorm=1.0)\n",
        "# Set loss and metrics\n",
        "loss = CategoricalCrossentropy(from_logits = True)\n",
        "metric = CategoricalAccuracy('balanced_accuracy'),\n",
        "# Compile the model\n",
        "model.compile(\n",
        "    optimizer = optimizer,\n",
        "    loss = loss, \n",
        "    metrics = [Precision(), Recall()])#metric)"
      ],
      "metadata": {
        "id": "RTY_BW6g1MaN"
      },
      "id": "RTY_BW6g1MaN",
      "execution_count": 55,
      "outputs": []
    },
    {
      "cell_type": "code",
      "source": [
        "train_history = model.fit(\n",
        "    x = {'input_ids': x_train['input_ids'],'attention_mask': x_train['attention_mask']} ,\n",
        "    y = y_train,\n",
        "    validation_data = (\n",
        "    {'input_ids':x_test['input_ids'],'attention_mask':x_test['attention_mask']}, y_test\n",
        "    ), epochs=1, batch_size=32\n",
        ")"
      ],
      "metadata": {
        "colab": {
          "base_uri": "https://localhost:8080/"
        },
        "id": "ouUZpySm1QbH",
        "outputId": "ae42327b-7b01-47d6-defb-c4e9b3929726"
      },
      "id": "ouUZpySm1QbH",
      "execution_count": 56,
      "outputs": [
        {
          "output_type": "stream",
          "name": "stdout",
          "text": [
            "WARNING:tensorflow:Gradients do not exist for variables ['tf_bert_model/bert/pooler/dense/kernel:0', 'tf_bert_model/bert/pooler/dense/bias:0'] when minimizing the loss. If you're using `model.compile()`, did you forget to provide a `loss`argument?\n",
            "WARNING:tensorflow:Gradients do not exist for variables ['tf_bert_model/bert/pooler/dense/kernel:0', 'tf_bert_model/bert/pooler/dense/bias:0'] when minimizing the loss. If you're using `model.compile()`, did you forget to provide a `loss`argument?\n",
            "63/63 [==============================] - 331s 5s/step - loss: 0.0000e+00 - precision_2: 0.9458 - recall_2: 0.9842 - val_loss: 0.0000e+00 - val_precision_2: 0.9461 - val_recall_2: 1.0000\n"
          ]
        }
      ]
    },
    {
      "cell_type": "code",
      "source": [
        "model.evaluate(\n",
        "    {'input_ids':x_test['input_ids'],'attention_mask':x_test['attention_mask']},\n",
        "    y_test\n",
        ")"
      ],
      "metadata": {
        "colab": {
          "base_uri": "https://localhost:8080/"
        },
        "id": "6BRdnWkC9j_I",
        "outputId": "210a89c0-a3e0-44d8-d04c-22b8b17ab608"
      },
      "id": "6BRdnWkC9j_I",
      "execution_count": 58,
      "outputs": [
        {
          "output_type": "stream",
          "name": "stdout",
          "text": [
            "16/16 [==============================] - 17s 1s/step - loss: 0.0000e+00 - precision_2: 0.9461 - recall_2: 1.0000\n"
          ]
        },
        {
          "output_type": "execute_result",
          "data": {
            "text/plain": [
              "[0.0, 0.946107804775238, 1.0]"
            ]
          },
          "metadata": {},
          "execution_count": 58
        }
      ]
    },
    {
      "cell_type": "code",
      "source": [
        "train_history.history"
      ],
      "metadata": {
        "colab": {
          "base_uri": "https://localhost:8080/"
        },
        "id": "NNa-UdCF9Nm5",
        "outputId": "73f8d277-f852-4b9b-da50-c734b5d3ddcd"
      },
      "id": "NNa-UdCF9Nm5",
      "execution_count": 61,
      "outputs": [
        {
          "output_type": "execute_result",
          "data": {
            "text/plain": [
              "{'loss': [0.0],\n",
              " 'precision_2': [0.945767879486084],\n",
              " 'recall_2': [0.9841772317886353],\n",
              " 'val_loss': [0.0],\n",
              " 'val_precision_2': [0.946107804775238],\n",
              " 'val_recall_2': [1.0]}"
            ]
          },
          "metadata": {},
          "execution_count": 61
        }
      ]
    },
    {
      "cell_type": "code",
      "source": [
        "f1_score = (2 * 1 * 0.9461) / (1 + 0.9461)\n",
        "f1_score"
      ],
      "metadata": {
        "colab": {
          "base_uri": "https://localhost:8080/"
        },
        "id": "4JUI0XCV1TWW",
        "outputId": "38ebb76e-d93b-4de9-b9ba-98197f4c16b4"
      },
      "id": "4JUI0XCV1TWW",
      "execution_count": 64,
      "outputs": [
        {
          "output_type": "execute_result",
          "data": {
            "text/plain": [
              "0.9723035815220185"
            ]
          },
          "metadata": {},
          "execution_count": 64
        }
      ]
    },
    {
      "cell_type": "code",
      "source": [
        ""
      ],
      "metadata": {
        "id": "Sd8mbxZ6EvYM"
      },
      "id": "Sd8mbxZ6EvYM",
      "execution_count": null,
      "outputs": []
    }
  ],
  "metadata": {
    "kernelspec": {
      "display_name": "Python 3",
      "language": "python",
      "name": "python3"
    },
    "language_info": {
      "codemirror_mode": {
        "name": "ipython",
        "version": 3
      },
      "file_extension": ".py",
      "mimetype": "text/x-python",
      "name": "python",
      "nbconvert_exporter": "python",
      "pygments_lexer": "ipython3",
      "version": "3.8.8"
    },
    "colab": {
      "name": "Copy of Project Tester.ipynb",
      "provenance": [],
      "collapsed_sections": [],
      "include_colab_link": true
    }
  },
  "nbformat": 4,
  "nbformat_minor": 5
}