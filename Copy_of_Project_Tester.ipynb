{
  "cells": [
    {
      "cell_type": "markdown",
      "metadata": {
        "id": "view-in-github",
        "colab_type": "text"
      },
      "source": [
        "<a href=\"https://colab.research.google.com/github/gprasad125/lign167_finalproject/blob/main/Copy_of_Project_Tester.ipynb\" target=\"_parent\"><img src=\"https://colab.research.google.com/assets/colab-badge.svg\" alt=\"Open In Colab\"/></a>"
      ]
    },
    {
      "cell_type": "markdown",
      "id": "5f7ef64e",
      "metadata": {
        "id": "5f7ef64e"
      },
      "source": [
        "# Using Multiclass Text Classification to Analyze Famous Quotes \n",
        "\n",
        "#### Gokul Prasad & Hoang Nguyen \n",
        "#### LIGN 167, Winter 2022"
      ]
    },
    {
      "cell_type": "markdown",
      "id": "8998fd17",
      "metadata": {
        "id": "8998fd17"
      },
      "source": [
        "In this project, we'll aim to classify a variety of quotes with tags that refer to certain themes or elements specific to that particular quote. \n",
        "\n",
        "For example, Albert Einstein's quote “Life is like riding a bicycle. To keep your balance, you must keep moving.” would have tags like \"life\" or \"simile\" because it contains thematic elements about life, and contains a simile. "
      ]
    },
    {
      "cell_type": "code",
      "execution_count": 3,
      "id": "1773b1c2",
      "metadata": {
        "id": "1773b1c2",
        "colab": {
          "base_uri": "https://localhost:8080/"
        },
        "outputId": "e23cbeb3-690b-472a-fa21-97a37ac63498"
      },
      "outputs": [
        {
          "output_type": "stream",
          "name": "stdout",
          "text": [
            "[nltk_data] Downloading package stopwords to /root/nltk_data...\n",
            "[nltk_data]   Package stopwords is already up-to-date!\n"
          ]
        }
      ],
      "source": [
        "# Scraping\n",
        "import requests\n",
        "from bs4 import BeautifulSoup\n",
        "import time \n",
        "\n",
        "# Data manipulation / cleaning / visualization\n",
        "import pandas as pd\n",
        "import numpy as np\n",
        "import gensim as gm\n",
        "import nltk\n",
        "from nltk.corpus import stopwords\n",
        "nltk.download('stopwords')\n",
        "stop_words = stopwords.words('english')\n",
        "\n",
        "import re \n",
        "import matplotlib.pyplot as plt\n",
        "from gensim.models.doc2vec import Doc2Vec, TaggedDocument\n",
        "\n",
        "# Sklearn modeling\n",
        "from sklearn.pipeline import Pipeline\n",
        "from sklearn.model_selection import train_test_split\n",
        "from sklearn.tree import DecisionTreeClassifier\n",
        "from sklearn.feature_extraction.text import TfidfVectorizer\n",
        "from sklearn.multiclass import OneVsRestClassifier\n",
        "from sklearn.metrics import precision_recall_fscore_support\n",
        "from sklearn.model_selection import GridSearchCV\n",
        "\n",
        "from keras.preprocessing.text import Tokenizer\n",
        "from keras.preprocessing.sequence import pad_sequences\n",
        "from keras.models import Sequential\n",
        "from keras.layers import Dense, Embedding, LSTM, SpatialDropout1D\n",
        "from sklearn.model_selection import train_test_split\n",
        "from keras.utils.np_utils import to_categorical\n",
        "from keras.callbacks import EarlyStopping\n",
        "from keras.layers import Dropout\n",
        "from keras.metrics import Precision, Recall\n",
        "\n",
        "from tensorflow.keras.optimizers import SGD\n",
        "\n",
        "import warnings\n",
        "warnings.filterwarnings('ignore')"
      ]
    },
    {
      "cell_type": "markdown",
      "id": "f2b1c8b6",
      "metadata": {
        "id": "f2b1c8b6"
      },
      "source": [
        "# Scraping and Cleaning the Data "
      ]
    },
    {
      "cell_type": "markdown",
      "id": "f5efa41f",
      "metadata": {
        "id": "f5efa41f"
      },
      "source": [
        "We'll be sourcing our data from http://quotes.toscrape.com. This is a website containing 11 pages worth of quotes, each of them classified with a few tags. \n",
        "\n",
        "Firstly, we'll loop through the pages, and scrape the website HTML data with BeautifulSoup. Then, we'll use lambda functions to pull author data, quote data, and tag data. We'll put each of these into lists, and then create a pandas DataFrame to hold all our data. "
      ]
    },
    {
      "cell_type": "code",
      "execution_count": 4,
      "id": "9738cafb",
      "metadata": {
        "id": "9738cafb"
      },
      "outputs": [],
      "source": [
        "goodreads_quotes = []\n",
        "goodreads_tags = []\n",
        "\n",
        "for i in range(1, 101):\n",
        "\n",
        "  url = 'https://www.goodreads.com/quotes?page={}'.format(i)\n",
        "\n",
        "  time.sleep(5)\n",
        "  scrape = requests.get(url)\n",
        "  parsed = BeautifulSoup(scrape.content, 'html.parser')\n",
        "\n",
        "  elements_quotes = parsed.find_all('div', class_ = \"quoteText\")\n",
        "  \n",
        "  quotes = [x.text.strip() for x in elements_quotes]\n",
        "  tags = parsed.find_all(class_ = 'quoteFooter')\n",
        "\n",
        "  goodreads_quotes += quotes\n",
        "  goodreads_tags += tags"
      ]
    },
    {
      "cell_type": "code",
      "source": [
        "data = {'quote':goodreads_quotes, 'tags':goodreads_tags}\n",
        "goodreads = pd.DataFrame(data)\n",
        "goodreads.head()"
      ],
      "metadata": {
        "colab": {
          "base_uri": "https://localhost:8080/",
          "height": 206
        },
        "id": "jZMT3V2z8r-u",
        "outputId": "d8b24db6-57b1-4894-cdfc-8d6a2139e6ef"
      },
      "id": "jZMT3V2z8r-u",
      "execution_count": 5,
      "outputs": [
        {
          "output_type": "execute_result",
          "data": {
            "text/html": [
              "\n",
              "  <div id=\"df-a6fd3722-d27f-4ed4-903a-a60109ade9d8\">\n",
              "    <div class=\"colab-df-container\">\n",
              "      <div>\n",
              "<style scoped>\n",
              "    .dataframe tbody tr th:only-of-type {\n",
              "        vertical-align: middle;\n",
              "    }\n",
              "\n",
              "    .dataframe tbody tr th {\n",
              "        vertical-align: top;\n",
              "    }\n",
              "\n",
              "    .dataframe thead th {\n",
              "        text-align: right;\n",
              "    }\n",
              "</style>\n",
              "<table border=\"1\" class=\"dataframe\">\n",
              "  <thead>\n",
              "    <tr style=\"text-align: right;\">\n",
              "      <th></th>\n",
              "      <th>quote</th>\n",
              "      <th>tags</th>\n",
              "    </tr>\n",
              "  </thead>\n",
              "  <tbody>\n",
              "    <tr>\n",
              "      <th>0</th>\n",
              "      <td>“Be yourself; everyone else is already taken.”...</td>\n",
              "      <td>[\\n, [\\n     tags:\\n       , [attributed-no-so...</td>\n",
              "    </tr>\n",
              "    <tr>\n",
              "      <th>1</th>\n",
              "      <td>“I'm selfish, impatient and a little insecure....</td>\n",
              "      <td>[\\n, [\\n     tags:\\n       , [attributed-no-so...</td>\n",
              "    </tr>\n",
              "    <tr>\n",
              "      <th>2</th>\n",
              "      <td>“Two things are infinite: the universe and hum...</td>\n",
              "      <td>[\\n, [\\n     tags:\\n       , [attributed-no-so...</td>\n",
              "    </tr>\n",
              "    <tr>\n",
              "      <th>3</th>\n",
              "      <td>“So many books, so little time.”\\n    ―\\n  \\n ...</td>\n",
              "      <td>[\\n, [\\n     tags:\\n       , [books], ,\\n     ...</td>\n",
              "    </tr>\n",
              "    <tr>\n",
              "      <th>4</th>\n",
              "      <td>“A room without books is like a body without a...</td>\n",
              "      <td>[\\n, [\\n     tags:\\n       , [attributed-no-so...</td>\n",
              "    </tr>\n",
              "  </tbody>\n",
              "</table>\n",
              "</div>\n",
              "      <button class=\"colab-df-convert\" onclick=\"convertToInteractive('df-a6fd3722-d27f-4ed4-903a-a60109ade9d8')\"\n",
              "              title=\"Convert this dataframe to an interactive table.\"\n",
              "              style=\"display:none;\">\n",
              "        \n",
              "  <svg xmlns=\"http://www.w3.org/2000/svg\" height=\"24px\"viewBox=\"0 0 24 24\"\n",
              "       width=\"24px\">\n",
              "    <path d=\"M0 0h24v24H0V0z\" fill=\"none\"/>\n",
              "    <path d=\"M18.56 5.44l.94 2.06.94-2.06 2.06-.94-2.06-.94-.94-2.06-.94 2.06-2.06.94zm-11 1L8.5 8.5l.94-2.06 2.06-.94-2.06-.94L8.5 2.5l-.94 2.06-2.06.94zm10 10l.94 2.06.94-2.06 2.06-.94-2.06-.94-.94-2.06-.94 2.06-2.06.94z\"/><path d=\"M17.41 7.96l-1.37-1.37c-.4-.4-.92-.59-1.43-.59-.52 0-1.04.2-1.43.59L10.3 9.45l-7.72 7.72c-.78.78-.78 2.05 0 2.83L4 21.41c.39.39.9.59 1.41.59.51 0 1.02-.2 1.41-.59l7.78-7.78 2.81-2.81c.8-.78.8-2.07 0-2.86zM5.41 20L4 18.59l7.72-7.72 1.47 1.35L5.41 20z\"/>\n",
              "  </svg>\n",
              "      </button>\n",
              "      \n",
              "  <style>\n",
              "    .colab-df-container {\n",
              "      display:flex;\n",
              "      flex-wrap:wrap;\n",
              "      gap: 12px;\n",
              "    }\n",
              "\n",
              "    .colab-df-convert {\n",
              "      background-color: #E8F0FE;\n",
              "      border: none;\n",
              "      border-radius: 50%;\n",
              "      cursor: pointer;\n",
              "      display: none;\n",
              "      fill: #1967D2;\n",
              "      height: 32px;\n",
              "      padding: 0 0 0 0;\n",
              "      width: 32px;\n",
              "    }\n",
              "\n",
              "    .colab-df-convert:hover {\n",
              "      background-color: #E2EBFA;\n",
              "      box-shadow: 0px 1px 2px rgba(60, 64, 67, 0.3), 0px 1px 3px 1px rgba(60, 64, 67, 0.15);\n",
              "      fill: #174EA6;\n",
              "    }\n",
              "\n",
              "    [theme=dark] .colab-df-convert {\n",
              "      background-color: #3B4455;\n",
              "      fill: #D2E3FC;\n",
              "    }\n",
              "\n",
              "    [theme=dark] .colab-df-convert:hover {\n",
              "      background-color: #434B5C;\n",
              "      box-shadow: 0px 1px 3px 1px rgba(0, 0, 0, 0.15);\n",
              "      filter: drop-shadow(0px 1px 2px rgba(0, 0, 0, 0.3));\n",
              "      fill: #FFFFFF;\n",
              "    }\n",
              "  </style>\n",
              "\n",
              "      <script>\n",
              "        const buttonEl =\n",
              "          document.querySelector('#df-a6fd3722-d27f-4ed4-903a-a60109ade9d8 button.colab-df-convert');\n",
              "        buttonEl.style.display =\n",
              "          google.colab.kernel.accessAllowed ? 'block' : 'none';\n",
              "\n",
              "        async function convertToInteractive(key) {\n",
              "          const element = document.querySelector('#df-a6fd3722-d27f-4ed4-903a-a60109ade9d8');\n",
              "          const dataTable =\n",
              "            await google.colab.kernel.invokeFunction('convertToInteractive',\n",
              "                                                     [key], {});\n",
              "          if (!dataTable) return;\n",
              "\n",
              "          const docLinkHtml = 'Like what you see? Visit the ' +\n",
              "            '<a target=\"_blank\" href=https://colab.research.google.com/notebooks/data_table.ipynb>data table notebook</a>'\n",
              "            + ' to learn more about interactive tables.';\n",
              "          element.innerHTML = '';\n",
              "          dataTable['output_type'] = 'display_data';\n",
              "          await google.colab.output.renderOutput(dataTable, element);\n",
              "          const docLink = document.createElement('div');\n",
              "          docLink.innerHTML = docLinkHtml;\n",
              "          element.appendChild(docLink);\n",
              "        }\n",
              "      </script>\n",
              "    </div>\n",
              "  </div>\n",
              "  "
            ],
            "text/plain": [
              "                                               quote  \\\n",
              "0  “Be yourself; everyone else is already taken.”...   \n",
              "1  “I'm selfish, impatient and a little insecure....   \n",
              "2  “Two things are infinite: the universe and hum...   \n",
              "3  “So many books, so little time.”\\n    ―\\n  \\n ...   \n",
              "4  “A room without books is like a body without a...   \n",
              "\n",
              "                                                tags  \n",
              "0  [\\n, [\\n     tags:\\n       , [attributed-no-so...  \n",
              "1  [\\n, [\\n     tags:\\n       , [attributed-no-so...  \n",
              "2  [\\n, [\\n     tags:\\n       , [attributed-no-so...  \n",
              "3  [\\n, [\\n     tags:\\n       , [books], ,\\n     ...  \n",
              "4  [\\n, [\\n     tags:\\n       , [attributed-no-so...  "
            ]
          },
          "metadata": {},
          "execution_count": 5
        }
      ]
    },
    {
      "cell_type": "markdown",
      "id": "289aba52",
      "metadata": {
        "id": "289aba52"
      },
      "source": [
        "As we can see, our dataset contains some pretty messy strings in all 3 columns. We'll need to process the data to make sure it's usable for our modeling later on. \n",
        "\n",
        "For quotes, we'll first make all characters lowercase, and then use regex functionality to substitute any non alphanumeric / whitespace character with a blank string. \n",
        "\n",
        "For example, if we input a quote like \"I love. LIGN 167!!?\" we would receive an output of \"i love lign 167\". We'll apply this to our Author and Quote columns to clean them up and make them much more simplified strings. "
      ]
    },
    {
      "cell_type": "code",
      "execution_count": 7,
      "id": "6bbad6f0",
      "metadata": {
        "id": "6bbad6f0"
      },
      "outputs": [],
      "source": [
        "def quotes_cleaning(text):\n",
        "    \n",
        "    text = text.lower()\n",
        "    \n",
        "    text = re.sub('[^A-Za-z0-9\\s]', '', text)\n",
        "    \n",
        "    return text\n",
        "\n",
        "def tags_cleaning(text):\n",
        "    \n",
        "    text = re.sub('[\\[ \\]]', ' ', str(text))\n",
        "    text = re.sub('[^\\w]', ' ', text)\n",
        "    text = re.sub('[\\s]', ' ', text)\n",
        "    \n",
        "    text = ' '.join(text.split())\n",
        "    \n",
        "    return text.split(' ')\n",
        "\n",
        "def remove_author(quote):\n",
        "\n",
        "  if quote[0] == '“':\n",
        "\n",
        "    end_of_quote = quote.index('”')\n",
        "    quote = quote[1:end_of_quote]\n",
        "\n",
        "  return quote\n",
        "\n",
        "def bs_to_list(tags):\n",
        "\n",
        "  if type(tags) != list:\n",
        "\n",
        "    tags = tags.find_all('a')\n",
        "  \n",
        "    tag_strs = []\n",
        "    for tag in tags[:-1]:\n",
        "\n",
        "      tag = str(tag)\n",
        "      start_idx = tag.index('\">')\n",
        "      end_idx = tag.index('</')\n",
        "      tag = tag[start_idx + 2:end_idx]\n",
        "      tag_strs.append(tag)\n",
        "\n",
        "    tags = tag_strs\n",
        "\n",
        "  return tags"
      ]
    },
    {
      "cell_type": "markdown",
      "id": "86a10b2c",
      "metadata": {
        "id": "86a10b2c"
      },
      "source": [
        "For the tags, we have to a slightly more complicated function since the data is tucked into lists. Firstly, we'll make it a string, and use regex to remove the surrounding brackets, remove non-word characters, and replace all multi-whitespaces with a single space. We'll then render the string as a list again, and return the list. \n",
        "\n",
        "For example, if we input a list like [deep?, wonderous.., love-happy], we would get an output of [deep, wonderous, love, happy]"
      ]
    },
    {
      "cell_type": "code",
      "execution_count": 10,
      "id": "7baedccc",
      "metadata": {
        "id": "7baedccc"
      },
      "outputs": [],
      "source": [
        "goodreads['quote'] = goodreads['quote'].apply(remove_author)\n",
        "goodreads['quote'] = goodreads['quote'].apply(quotes_cleaning)\n",
        "goodreads['tags'] = goodreads['tags'].apply(bs_to_list)\n",
        "goodreads['tags'] = goodreads['tags'].apply(tags_cleaning)\n",
        "\n",
        "isEmpty = goodreads['tags'].apply(lambda x: '' in x)\n",
        "goodreads['isEmpty'] = isEmpty"
      ]
    },
    {
      "cell_type": "markdown",
      "id": "55f4e5cf",
      "metadata": {
        "id": "55f4e5cf"
      },
      "source": [
        "Now, having cleaned the dataset more fully, we can see the impact on our data. "
      ]
    },
    {
      "cell_type": "code",
      "execution_count": 11,
      "id": "21f6be24",
      "metadata": {
        "id": "21f6be24",
        "outputId": "a5a73dde-e84a-4a09-f57a-5588f7c14b74",
        "colab": {
          "base_uri": "https://localhost:8080/",
          "height": 175
        }
      },
      "outputs": [
        {
          "output_type": "execute_result",
          "data": {
            "text/html": [
              "\n",
              "  <div id=\"df-ac2060a0-483d-4764-865c-092db92faa3c\">\n",
              "    <div class=\"colab-df-container\">\n",
              "      <div>\n",
              "<style scoped>\n",
              "    .dataframe tbody tr th:only-of-type {\n",
              "        vertical-align: middle;\n",
              "    }\n",
              "\n",
              "    .dataframe tbody tr th {\n",
              "        vertical-align: top;\n",
              "    }\n",
              "\n",
              "    .dataframe thead th {\n",
              "        text-align: right;\n",
              "    }\n",
              "</style>\n",
              "<table border=\"1\" class=\"dataframe\">\n",
              "  <thead>\n",
              "    <tr style=\"text-align: right;\">\n",
              "      <th></th>\n",
              "      <th>quote</th>\n",
              "      <th>tags</th>\n",
              "      <th>isEmpty</th>\n",
              "    </tr>\n",
              "  </thead>\n",
              "  <tbody>\n",
              "    <tr>\n",
              "      <th>0</th>\n",
              "      <td>be yourself everyone else is already taken</td>\n",
              "      <td>[attributed, no, source, be, yourself, gilbert...</td>\n",
              "      <td>False</td>\n",
              "    </tr>\n",
              "    <tr>\n",
              "      <th>1</th>\n",
              "      <td>im selfish impatient and a little insecure i m...</td>\n",
              "      <td>[attributed, no, source, best, life, love, mis...</td>\n",
              "      <td>False</td>\n",
              "    </tr>\n",
              "    <tr>\n",
              "      <th>2</th>\n",
              "      <td>two things are infinite the universe and human...</td>\n",
              "      <td>[attributed, no, source, human, nature, humor,...</td>\n",
              "      <td>False</td>\n",
              "    </tr>\n",
              "    <tr>\n",
              "      <th>3</th>\n",
              "      <td>so many books so little time</td>\n",
              "      <td>[books, humor]</td>\n",
              "      <td>False</td>\n",
              "    </tr>\n",
              "  </tbody>\n",
              "</table>\n",
              "</div>\n",
              "      <button class=\"colab-df-convert\" onclick=\"convertToInteractive('df-ac2060a0-483d-4764-865c-092db92faa3c')\"\n",
              "              title=\"Convert this dataframe to an interactive table.\"\n",
              "              style=\"display:none;\">\n",
              "        \n",
              "  <svg xmlns=\"http://www.w3.org/2000/svg\" height=\"24px\"viewBox=\"0 0 24 24\"\n",
              "       width=\"24px\">\n",
              "    <path d=\"M0 0h24v24H0V0z\" fill=\"none\"/>\n",
              "    <path d=\"M18.56 5.44l.94 2.06.94-2.06 2.06-.94-2.06-.94-.94-2.06-.94 2.06-2.06.94zm-11 1L8.5 8.5l.94-2.06 2.06-.94-2.06-.94L8.5 2.5l-.94 2.06-2.06.94zm10 10l.94 2.06.94-2.06 2.06-.94-2.06-.94-.94-2.06-.94 2.06-2.06.94z\"/><path d=\"M17.41 7.96l-1.37-1.37c-.4-.4-.92-.59-1.43-.59-.52 0-1.04.2-1.43.59L10.3 9.45l-7.72 7.72c-.78.78-.78 2.05 0 2.83L4 21.41c.39.39.9.59 1.41.59.51 0 1.02-.2 1.41-.59l7.78-7.78 2.81-2.81c.8-.78.8-2.07 0-2.86zM5.41 20L4 18.59l7.72-7.72 1.47 1.35L5.41 20z\"/>\n",
              "  </svg>\n",
              "      </button>\n",
              "      \n",
              "  <style>\n",
              "    .colab-df-container {\n",
              "      display:flex;\n",
              "      flex-wrap:wrap;\n",
              "      gap: 12px;\n",
              "    }\n",
              "\n",
              "    .colab-df-convert {\n",
              "      background-color: #E8F0FE;\n",
              "      border: none;\n",
              "      border-radius: 50%;\n",
              "      cursor: pointer;\n",
              "      display: none;\n",
              "      fill: #1967D2;\n",
              "      height: 32px;\n",
              "      padding: 0 0 0 0;\n",
              "      width: 32px;\n",
              "    }\n",
              "\n",
              "    .colab-df-convert:hover {\n",
              "      background-color: #E2EBFA;\n",
              "      box-shadow: 0px 1px 2px rgba(60, 64, 67, 0.3), 0px 1px 3px 1px rgba(60, 64, 67, 0.15);\n",
              "      fill: #174EA6;\n",
              "    }\n",
              "\n",
              "    [theme=dark] .colab-df-convert {\n",
              "      background-color: #3B4455;\n",
              "      fill: #D2E3FC;\n",
              "    }\n",
              "\n",
              "    [theme=dark] .colab-df-convert:hover {\n",
              "      background-color: #434B5C;\n",
              "      box-shadow: 0px 1px 3px 1px rgba(0, 0, 0, 0.15);\n",
              "      filter: drop-shadow(0px 1px 2px rgba(0, 0, 0, 0.3));\n",
              "      fill: #FFFFFF;\n",
              "    }\n",
              "  </style>\n",
              "\n",
              "      <script>\n",
              "        const buttonEl =\n",
              "          document.querySelector('#df-ac2060a0-483d-4764-865c-092db92faa3c button.colab-df-convert');\n",
              "        buttonEl.style.display =\n",
              "          google.colab.kernel.accessAllowed ? 'block' : 'none';\n",
              "\n",
              "        async function convertToInteractive(key) {\n",
              "          const element = document.querySelector('#df-ac2060a0-483d-4764-865c-092db92faa3c');\n",
              "          const dataTable =\n",
              "            await google.colab.kernel.invokeFunction('convertToInteractive',\n",
              "                                                     [key], {});\n",
              "          if (!dataTable) return;\n",
              "\n",
              "          const docLinkHtml = 'Like what you see? Visit the ' +\n",
              "            '<a target=\"_blank\" href=https://colab.research.google.com/notebooks/data_table.ipynb>data table notebook</a>'\n",
              "            + ' to learn more about interactive tables.';\n",
              "          element.innerHTML = '';\n",
              "          dataTable['output_type'] = 'display_data';\n",
              "          await google.colab.output.renderOutput(dataTable, element);\n",
              "          const docLink = document.createElement('div');\n",
              "          docLink.innerHTML = docLinkHtml;\n",
              "          element.appendChild(docLink);\n",
              "        }\n",
              "      </script>\n",
              "    </div>\n",
              "  </div>\n",
              "  "
            ],
            "text/plain": [
              "                                               quote  \\\n",
              "0         be yourself everyone else is already taken   \n",
              "1  im selfish impatient and a little insecure i m...   \n",
              "2  two things are infinite the universe and human...   \n",
              "3                       so many books so little time   \n",
              "\n",
              "                                                tags  isEmpty  \n",
              "0  [attributed, no, source, be, yourself, gilbert...    False  \n",
              "1  [attributed, no, source, best, life, love, mis...    False  \n",
              "2  [attributed, no, source, human, nature, humor,...    False  \n",
              "3                                     [books, humor]    False  "
            ]
          },
          "metadata": {},
          "execution_count": 11
        }
      ],
      "source": [
        "goodreads.head(4)"
      ]
    },
    {
      "cell_type": "markdown",
      "id": "982252e6",
      "metadata": {
        "id": "982252e6"
      },
      "source": [
        "# Reshaping Data for Modeling "
      ]
    },
    {
      "cell_type": "markdown",
      "id": "ce5b9174",
      "metadata": {
        "id": "ce5b9174"
      },
      "source": [
        "Now, while the data is cleaned, we can't really model accurately when our tags are all in a list. Inputting them into our sklearn Pipelines later would not work as we would want, so we have to find a way to reshape the dataframe. Firstly, we'll need to collect the minimum and maximum amount of tags, which we do as follows. "
      ]
    },
    {
      "cell_type": "code",
      "execution_count": 12,
      "id": "708238d7",
      "metadata": {
        "scrolled": true,
        "id": "708238d7",
        "outputId": "fd4d72e3-580f-4a0b-e548-e789756a5536",
        "colab": {
          "base_uri": "https://localhost:8080/"
        }
      },
      "outputs": [
        {
          "output_type": "execute_result",
          "data": {
            "text/plain": [
              "48"
            ]
          },
          "metadata": {},
          "execution_count": 12
        }
      ],
      "source": [
        "max_tags = goodreads['tags'].apply(lambda x: len(x)).max()\n",
        "max_tags"
      ]
    },
    {
      "cell_type": "markdown",
      "id": "12fc3047",
      "metadata": {
        "id": "12fc3047"
      },
      "source": [
        "So we see that the maximum amount of tags a quote could have would be 11 tags. So, let's generate a function that will make each list of tags equivalent by adding the necessary number of None values to make it to a list of length 11. \n",
        "\n",
        "For example, an input of [life, duck, nature] would yield [life, duck, nature, None, None, None, None, None, None, None, None]. "
      ]
    },
    {
      "cell_type": "code",
      "execution_count": 14,
      "id": "7cf95757",
      "metadata": {
        "id": "7cf95757"
      },
      "outputs": [],
      "source": [
        "def pad(tags):\n",
        "\n",
        "  needed = 48 - len(tags)\n",
        "  tags = tags + ([None] * needed)\n",
        "\n",
        "  return tags"
      ]
    },
    {
      "cell_type": "markdown",
      "id": "f200c1a6",
      "metadata": {
        "id": "f200c1a6"
      },
      "source": [
        "Now we can apply that function to our Tags column, and use pandas get_dummies() functionality to reshape our dataframe to where each tag is a column, and the column contains 1s or 0s, reflecting whether or not a particular tag is in the quote belonging to that row. \n",
        "\n",
        "Unfortunately, pd.get_dummies() will create some duplicates so we'll groupby and sum to combine the duplicate tag columns. \n",
        "\n",
        "We then combine this dataframe with our original dataframe, and drop our tags columns. We can see the finished result"
      ]
    },
    {
      "cell_type": "code",
      "execution_count": 15,
      "id": "aa43dfb7",
      "metadata": {
        "scrolled": true,
        "id": "aa43dfb7",
        "outputId": "cf3026f5-7115-4f39-b23d-14e9cc27c357",
        "colab": {
          "base_uri": "https://localhost:8080/",
          "height": 768
        }
      },
      "outputs": [
        {
          "output_type": "execute_result",
          "data": {
            "text/html": [
              "\n",
              "  <div id=\"df-da84fe82-112f-47fa-9d4c-217f8d329611\">\n",
              "    <div class=\"colab-df-container\">\n",
              "      <div>\n",
              "<style scoped>\n",
              "    .dataframe tbody tr th:only-of-type {\n",
              "        vertical-align: middle;\n",
              "    }\n",
              "\n",
              "    .dataframe tbody tr th {\n",
              "        vertical-align: top;\n",
              "    }\n",
              "\n",
              "    .dataframe thead th {\n",
              "        text-align: right;\n",
              "    }\n",
              "</style>\n",
              "<table border=\"1\" class=\"dataframe\">\n",
              "  <thead>\n",
              "    <tr style=\"text-align: right;\">\n",
              "      <th></th>\n",
              "      <th>quote</th>\n",
              "      <th>tags_</th>\n",
              "      <th>tags_1</th>\n",
              "      <th>tags_13</th>\n",
              "      <th>tags_1929</th>\n",
              "      <th>tags_1931</th>\n",
              "      <th>tags_1955</th>\n",
              "      <th>tags_1970</th>\n",
              "      <th>tags_1993</th>\n",
              "      <th>tags_1997</th>\n",
              "      <th>...</th>\n",
              "      <th>tags_youth</th>\n",
              "      <th>tags_youthfulness</th>\n",
              "      <th>tags_zarek</th>\n",
              "      <th>tags_zen</th>\n",
              "      <th>tags_zeus</th>\n",
              "      <th>tags_zoe</th>\n",
              "      <th>tags_zombies</th>\n",
              "      <th>tags_zone</th>\n",
              "      <th>tags_zsadist</th>\n",
              "      <th>tags_حب</th>\n",
              "    </tr>\n",
              "  </thead>\n",
              "  <tbody>\n",
              "    <tr>\n",
              "      <th>0</th>\n",
              "      <td>be yourself everyone else is already taken</td>\n",
              "      <td>0</td>\n",
              "      <td>0</td>\n",
              "      <td>0</td>\n",
              "      <td>0</td>\n",
              "      <td>0</td>\n",
              "      <td>0</td>\n",
              "      <td>0</td>\n",
              "      <td>0</td>\n",
              "      <td>0</td>\n",
              "      <td>...</td>\n",
              "      <td>0</td>\n",
              "      <td>0</td>\n",
              "      <td>0</td>\n",
              "      <td>0</td>\n",
              "      <td>0</td>\n",
              "      <td>0</td>\n",
              "      <td>0</td>\n",
              "      <td>0</td>\n",
              "      <td>0</td>\n",
              "      <td>0</td>\n",
              "    </tr>\n",
              "    <tr>\n",
              "      <th>1</th>\n",
              "      <td>im selfish impatient and a little insecure i m...</td>\n",
              "      <td>0</td>\n",
              "      <td>0</td>\n",
              "      <td>0</td>\n",
              "      <td>0</td>\n",
              "      <td>0</td>\n",
              "      <td>0</td>\n",
              "      <td>0</td>\n",
              "      <td>0</td>\n",
              "      <td>0</td>\n",
              "      <td>...</td>\n",
              "      <td>0</td>\n",
              "      <td>0</td>\n",
              "      <td>0</td>\n",
              "      <td>0</td>\n",
              "      <td>0</td>\n",
              "      <td>0</td>\n",
              "      <td>0</td>\n",
              "      <td>0</td>\n",
              "      <td>0</td>\n",
              "      <td>0</td>\n",
              "    </tr>\n",
              "    <tr>\n",
              "      <th>2</th>\n",
              "      <td>two things are infinite the universe and human...</td>\n",
              "      <td>0</td>\n",
              "      <td>0</td>\n",
              "      <td>0</td>\n",
              "      <td>0</td>\n",
              "      <td>0</td>\n",
              "      <td>0</td>\n",
              "      <td>0</td>\n",
              "      <td>0</td>\n",
              "      <td>0</td>\n",
              "      <td>...</td>\n",
              "      <td>0</td>\n",
              "      <td>0</td>\n",
              "      <td>0</td>\n",
              "      <td>0</td>\n",
              "      <td>0</td>\n",
              "      <td>0</td>\n",
              "      <td>0</td>\n",
              "      <td>0</td>\n",
              "      <td>0</td>\n",
              "      <td>0</td>\n",
              "    </tr>\n",
              "    <tr>\n",
              "      <th>3</th>\n",
              "      <td>so many books so little time</td>\n",
              "      <td>0</td>\n",
              "      <td>0</td>\n",
              "      <td>0</td>\n",
              "      <td>0</td>\n",
              "      <td>0</td>\n",
              "      <td>0</td>\n",
              "      <td>0</td>\n",
              "      <td>0</td>\n",
              "      <td>0</td>\n",
              "      <td>...</td>\n",
              "      <td>0</td>\n",
              "      <td>0</td>\n",
              "      <td>0</td>\n",
              "      <td>0</td>\n",
              "      <td>0</td>\n",
              "      <td>0</td>\n",
              "      <td>0</td>\n",
              "      <td>0</td>\n",
              "      <td>0</td>\n",
              "      <td>0</td>\n",
              "    </tr>\n",
              "    <tr>\n",
              "      <th>4</th>\n",
              "      <td>a room without books is like a body without a ...</td>\n",
              "      <td>0</td>\n",
              "      <td>0</td>\n",
              "      <td>0</td>\n",
              "      <td>0</td>\n",
              "      <td>0</td>\n",
              "      <td>0</td>\n",
              "      <td>0</td>\n",
              "      <td>0</td>\n",
              "      <td>0</td>\n",
              "      <td>...</td>\n",
              "      <td>0</td>\n",
              "      <td>0</td>\n",
              "      <td>0</td>\n",
              "      <td>0</td>\n",
              "      <td>0</td>\n",
              "      <td>0</td>\n",
              "      <td>0</td>\n",
              "      <td>0</td>\n",
              "      <td>0</td>\n",
              "      <td>0</td>\n",
              "    </tr>\n",
              "  </tbody>\n",
              "</table>\n",
              "<p>5 rows × 2129 columns</p>\n",
              "</div>\n",
              "      <button class=\"colab-df-convert\" onclick=\"convertToInteractive('df-da84fe82-112f-47fa-9d4c-217f8d329611')\"\n",
              "              title=\"Convert this dataframe to an interactive table.\"\n",
              "              style=\"display:none;\">\n",
              "        \n",
              "  <svg xmlns=\"http://www.w3.org/2000/svg\" height=\"24px\"viewBox=\"0 0 24 24\"\n",
              "       width=\"24px\">\n",
              "    <path d=\"M0 0h24v24H0V0z\" fill=\"none\"/>\n",
              "    <path d=\"M18.56 5.44l.94 2.06.94-2.06 2.06-.94-2.06-.94-.94-2.06-.94 2.06-2.06.94zm-11 1L8.5 8.5l.94-2.06 2.06-.94-2.06-.94L8.5 2.5l-.94 2.06-2.06.94zm10 10l.94 2.06.94-2.06 2.06-.94-2.06-.94-.94-2.06-.94 2.06-2.06.94z\"/><path d=\"M17.41 7.96l-1.37-1.37c-.4-.4-.92-.59-1.43-.59-.52 0-1.04.2-1.43.59L10.3 9.45l-7.72 7.72c-.78.78-.78 2.05 0 2.83L4 21.41c.39.39.9.59 1.41.59.51 0 1.02-.2 1.41-.59l7.78-7.78 2.81-2.81c.8-.78.8-2.07 0-2.86zM5.41 20L4 18.59l7.72-7.72 1.47 1.35L5.41 20z\"/>\n",
              "  </svg>\n",
              "      </button>\n",
              "      \n",
              "  <style>\n",
              "    .colab-df-container {\n",
              "      display:flex;\n",
              "      flex-wrap:wrap;\n",
              "      gap: 12px;\n",
              "    }\n",
              "\n",
              "    .colab-df-convert {\n",
              "      background-color: #E8F0FE;\n",
              "      border: none;\n",
              "      border-radius: 50%;\n",
              "      cursor: pointer;\n",
              "      display: none;\n",
              "      fill: #1967D2;\n",
              "      height: 32px;\n",
              "      padding: 0 0 0 0;\n",
              "      width: 32px;\n",
              "    }\n",
              "\n",
              "    .colab-df-convert:hover {\n",
              "      background-color: #E2EBFA;\n",
              "      box-shadow: 0px 1px 2px rgba(60, 64, 67, 0.3), 0px 1px 3px 1px rgba(60, 64, 67, 0.15);\n",
              "      fill: #174EA6;\n",
              "    }\n",
              "\n",
              "    [theme=dark] .colab-df-convert {\n",
              "      background-color: #3B4455;\n",
              "      fill: #D2E3FC;\n",
              "    }\n",
              "\n",
              "    [theme=dark] .colab-df-convert:hover {\n",
              "      background-color: #434B5C;\n",
              "      box-shadow: 0px 1px 3px 1px rgba(0, 0, 0, 0.15);\n",
              "      filter: drop-shadow(0px 1px 2px rgba(0, 0, 0, 0.3));\n",
              "      fill: #FFFFFF;\n",
              "    }\n",
              "  </style>\n",
              "\n",
              "      <script>\n",
              "        const buttonEl =\n",
              "          document.querySelector('#df-da84fe82-112f-47fa-9d4c-217f8d329611 button.colab-df-convert');\n",
              "        buttonEl.style.display =\n",
              "          google.colab.kernel.accessAllowed ? 'block' : 'none';\n",
              "\n",
              "        async function convertToInteractive(key) {\n",
              "          const element = document.querySelector('#df-da84fe82-112f-47fa-9d4c-217f8d329611');\n",
              "          const dataTable =\n",
              "            await google.colab.kernel.invokeFunction('convertToInteractive',\n",
              "                                                     [key], {});\n",
              "          if (!dataTable) return;\n",
              "\n",
              "          const docLinkHtml = 'Like what you see? Visit the ' +\n",
              "            '<a target=\"_blank\" href=https://colab.research.google.com/notebooks/data_table.ipynb>data table notebook</a>'\n",
              "            + ' to learn more about interactive tables.';\n",
              "          element.innerHTML = '';\n",
              "          dataTable['output_type'] = 'display_data';\n",
              "          await google.colab.output.renderOutput(dataTable, element);\n",
              "          const docLink = document.createElement('div');\n",
              "          docLink.innerHTML = docLinkHtml;\n",
              "          element.appendChild(docLink);\n",
              "        }\n",
              "      </script>\n",
              "    </div>\n",
              "  </div>\n",
              "  "
            ],
            "text/plain": [
              "                                               quote  tags_  tags_1  tags_13  \\\n",
              "0         be yourself everyone else is already taken      0       0        0   \n",
              "1  im selfish impatient and a little insecure i m...      0       0        0   \n",
              "2  two things are infinite the universe and human...      0       0        0   \n",
              "3                       so many books so little time      0       0        0   \n",
              "4  a room without books is like a body without a ...      0       0        0   \n",
              "\n",
              "   tags_1929  tags_1931  tags_1955  tags_1970  tags_1993  tags_1997  ...  \\\n",
              "0          0          0          0          0          0          0  ...   \n",
              "1          0          0          0          0          0          0  ...   \n",
              "2          0          0          0          0          0          0  ...   \n",
              "3          0          0          0          0          0          0  ...   \n",
              "4          0          0          0          0          0          0  ...   \n",
              "\n",
              "   tags_youth  tags_youthfulness  tags_zarek  tags_zen  tags_zeus  tags_zoe  \\\n",
              "0           0                  0           0         0          0         0   \n",
              "1           0                  0           0         0          0         0   \n",
              "2           0                  0           0         0          0         0   \n",
              "3           0                  0           0         0          0         0   \n",
              "4           0                  0           0         0          0         0   \n",
              "\n",
              "   tags_zombies  tags_zone  tags_zsadist  tags_حب  \n",
              "0             0          0             0        0  \n",
              "1             0          0             0        0  \n",
              "2             0          0             0        0  \n",
              "3             0          0             0        0  \n",
              "4             0          0             0        0  \n",
              "\n",
              "[5 rows x 2129 columns]"
            ]
          },
          "metadata": {},
          "execution_count": 15
        }
      ],
      "source": [
        "gr_tags = pd.DataFrame(goodreads['tags'].apply(pad).tolist())\n",
        "gr_tags_oh = pd.get_dummies(gr_tags, prefix = 'tags')\n",
        "gr_tags_oh = gr_tags_oh.groupby(gr_tags_oh.columns, axis = 1).sum()\n",
        "reshaped_gr = pd.concat([goodreads, gr_tags_oh], axis = 1).drop(columns = ['isEmpty', 'tags'])\n",
        "reshaped_gr.head()"
      ]
    },
    {
      "cell_type": "markdown",
      "id": "45b11d4a",
      "metadata": {
        "id": "45b11d4a"
      },
      "source": [
        "We can see the distribution of tags as below. 31% of our quotes only have 1 tag, while only 1% have the maximum tags possible. "
      ]
    },
    {
      "cell_type": "code",
      "execution_count": 17,
      "id": "b538dc55",
      "metadata": {
        "id": "b538dc55",
        "outputId": "2c6e34aa-a554-435a-c8b5-4c36d69cc099",
        "colab": {
          "base_uri": "https://localhost:8080/",
          "height": 485
        }
      },
      "outputs": [
        {
          "output_type": "execute_result",
          "data": {
            "text/plain": [
              "0       0.001314\n",
              "1       0.001126\n",
              "2       0.001032\n",
              "3       0.000188\n",
              "4       0.000563\n",
              "          ...   \n",
              "2995    0.000375\n",
              "2996    0.000563\n",
              "2997    0.000094\n",
              "2998    0.000469\n",
              "2999    0.000375\n",
              "Length: 3000, dtype: float64"
            ]
          },
          "metadata": {},
          "execution_count": 17
        },
        {
          "output_type": "display_data",
          "data": {
            "image/png": "[encoded data removed]",
            "text/plain": [
              "<Figure size 432x288 with 1 Axes>"
            ]
          },
          "metadata": {
            "needs_background": "light"
          }
        }
      ],
      "source": [
        "cnts = reshaped_gr.iloc[:, 1:].sum(axis = 1)\n",
        "cnts.hist()\n",
        "cnts / cnts.sum()"
      ]
    },
    {
      "cell_type": "markdown",
      "id": "cbd0454d",
      "metadata": {
        "id": "cbd0454d"
      },
      "source": [
        "# Modeling"
      ]
    },
    {
      "cell_type": "markdown",
      "id": "6f709dcc",
      "metadata": {
        "id": "6f709dcc"
      },
      "source": [
        "Now, we can begin our modeling. \n",
        "\n",
        "Firstly, we'll get a list of all of our tags. We'll do this by taking all columns besides \"Author\" and \"Quote\"\n",
        "\n",
        "Next, we'll use sklearn's train_test_split() function to split our dataset into a training and testing set. We'll split so that our test set is 33% of our dataset size. As we have 100 rows into our data, then we'll have a training set of 67 rows and testing size of 33 rows. "
      ]
    },
    {
      "cell_type": "code",
      "execution_count": 18,
      "id": "a2adcc28",
      "metadata": {
        "id": "a2adcc28",
        "outputId": "368836e0-13a8-43e1-8bfc-638f9a300157",
        "colab": {
          "base_uri": "https://localhost:8080/"
        }
      },
      "outputs": [
        {
          "output_type": "stream",
          "name": "stdout",
          "text": [
            "(2250,)\n",
            "(750,)\n"
          ]
        }
      ],
      "source": [
        "gr_tags = reshaped_gr.columns[1:]\n",
        "\n",
        "train, test = train_test_split(reshaped_gr, test_size = 0.25, random_state = 42)\n",
        "\n",
        "x_tr = train.quote\n",
        "x_te = test.quote\n",
        "\n",
        "print(x_tr.shape)\n",
        "print(x_te.shape)"
      ]
    },
    {
      "cell_type": "markdown",
      "id": "42696382",
      "metadata": {
        "id": "42696382"
      },
      "source": [
        "### Model 1: Decision Tree Classifier\n",
        "\n",
        "Our first model will be using scikit-learn Pipelines. \n",
        "\n",
        "Inside our pipeline, we'll firstly vectorize the input data by converting the quote to their TFIDF formation. This will convert our string Quotes to becoming numerical values for input. Then, we have to consider how we will be handling multiple classes. We'll try with a OneVsRest classifier, because this will allow us to pass in each tag and use an single-class estimator on each tag's train and test data. \n",
        "\n",
        "However, we need to wrap the OneVsRest classifier around an estimator that makes sense for what we are trying to achieve here. We'll use a Decision tree classifier, because the sklearn functionality is pretty simplistic, doesnt require much shaping of the data, and should hopefully set a good basis for our first try. "
      ]
    },
    {
      "cell_type": "code",
      "execution_count": 19,
      "id": "f6d3b9cf",
      "metadata": {
        "id": "f6d3b9cf"
      },
      "outputs": [],
      "source": [
        "dt_classifier = Pipeline([('tfidf', TfidfVectorizer()), ('clf', OneVsRestClassifier(DecisionTreeClassifier()))])"
      ]
    },
    {
      "cell_type": "markdown",
      "id": "dcfc7702",
      "metadata": {
        "id": "dcfc7702"
      },
      "source": [
        "Now, we'll loop through each of the tags in our dataset, train our model on that particular tag, and then append it to a dictionary containg each tag and that tag's associated evaluation score. \n",
        "\n",
        "For our evaluating metric, we'll choose to use f1 scores over accuracy, because if we look at our data, we have an imbalance of tags. Some quotes have several tags, while others only have one or two. As such, using accuracy would likely not work well for this scenario. \n",
        "\n",
        "However, we have multiple classes, so it would not make much sense to get a bunch of f1 scores since each tag would give different results. We can instead collect each tag's precision and recall from when the model's predictions are compared to the actual test data. "
      ]
    },
    {
      "cell_type": "code",
      "execution_count": 20,
      "id": "29223acb",
      "metadata": {
        "id": "29223acb"
      },
      "outputs": [],
      "source": [
        "prec_recs = {}\n",
        "for tag in gr_tags:\n",
        "    \n",
        "    dt_classifier.fit(x_tr, train[tag])\n",
        "    prediction = dt_classifier.predict(x_te)\n",
        "    \n",
        "    precision_recall = precision_recall_fscore_support(test[tag], prediction, average = 'macro')\n",
        "    prec_recs[tag] = precision_recall"
      ]
    },
    {
      "cell_type": "markdown",
      "id": "42c71ad3",
      "metadata": {
        "id": "42c71ad3"
      },
      "source": [
        "So now we can calculate the average precision and recall for our tags by looping through our dictionary, summing up the total of both metrics, and dividing by the number of tags."
      ]
    },
    {
      "cell_type": "code",
      "execution_count": 21,
      "id": "5590eb64",
      "metadata": {
        "id": "5590eb64"
      },
      "outputs": [],
      "source": [
        "sum_precision = 0\n",
        "sum_recall = 0\n",
        "\n",
        "for key in prec_recs.keys():\n",
        "    \n",
        "    sum_precision += prec_recs[key][0]\n",
        "    sum_recall += prec_recs[key][1]\n",
        "    \n",
        "mean_precision = sum_precision / len(prec_recs.keys())\n",
        "mean_recall = sum_recall / len(prec_recs.keys())"
      ]
    },
    {
      "cell_type": "markdown",
      "id": "d8f60216",
      "metadata": {
        "id": "d8f60216"
      },
      "source": [
        "Now we apply the formula of finding an f1 score which is (2 * p * r) / (p + r)"
      ]
    },
    {
      "cell_type": "code",
      "execution_count": 22,
      "id": "d942fa49",
      "metadata": {
        "id": "d942fa49",
        "outputId": "303ac15d-87ea-4a57-a446-df0f912efacf",
        "colab": {
          "base_uri": "https://localhost:8080/"
        }
      },
      "outputs": [
        {
          "output_type": "execute_result",
          "data": {
            "text/plain": [
              "0.7169826541146564"
            ]
          },
          "metadata": {},
          "execution_count": 22
        }
      ],
      "source": [
        "average_f1 = (2 * mean_precision * mean_recall) / (mean_precision + mean_recall)\n",
        "average_f1"
      ]
    },
    {
      "cell_type": "markdown",
      "id": "c6039cf1",
      "metadata": {
        "id": "c6039cf1"
      },
      "source": [
        "So we have an f1 score of about 0.708. F1 scores range from 0 to 1, and the closer they are to 1, the better the model, so we have set up a good baseline for ourselves. But we want to improve on this and make our model better classify our quotes. "
      ]
    },
    {
      "cell_type": "markdown",
      "id": "b93fd599",
      "metadata": {
        "id": "b93fd599"
      },
      "source": [
        "#### Optimizing Model 1  "
      ]
    },
    {
      "cell_type": "markdown",
      "id": "68c5ea4e",
      "metadata": {
        "id": "68c5ea4e"
      },
      "source": [
        "Now that we have our baseline model, how can we optimize it? \n",
        "\n",
        "There are many concepts we can implement into our Pipeline, both from a text classification standpoint, as well as a sklearn standpoint. \n",
        "\n",
        "The first method we'll implement is getting rid of stop-words. These are words that appear extremely frequently in human language, and give very little value to our model. Removing them can allow our model to focus more strongly on the more important data. "
      ]
    },
    {
      "cell_type": "code",
      "execution_count": 23,
      "id": "41bbe4f3",
      "metadata": {
        "id": "41bbe4f3"
      },
      "outputs": [],
      "source": [
        "stop_words = set(stopwords.words('english'))"
      ]
    },
    {
      "cell_type": "markdown",
      "id": "919b4ad4",
      "metadata": {
        "id": "919b4ad4"
      },
      "source": [
        "Now that we have defined the words to remove, we can try and optimize our other parameters with GridSearchCV. First, we'll need to select what parameters we can optimize. "
      ]
    },
    {
      "cell_type": "code",
      "execution_count": 24,
      "id": "07867f2b",
      "metadata": {
        "id": "07867f2b"
      },
      "outputs": [],
      "source": [
        "parameters = {\n",
        "    'clf':(DecisionTreeClassifier(),),\n",
        "    'clf__max_depth': [2, 3, 4, 5, 7, 10, 13, 15, 18, None],\n",
        "    'clf__min_samples_split': [2, 3, 5, 7, 10, 15, 20],\n",
        "    'clf__min_samples_leaf': [2, 3, 5, 7, 10, 15, 20]\n",
        "}"
      ]
    },
    {
      "cell_type": "markdown",
      "id": "7342d553",
      "metadata": {
        "id": "7342d553"
      },
      "source": [
        "Now we have created the parameters, we can place that into a GridSearchCV and train it on our data. \n",
        "Let's print out the best parameters we get. "
      ]
    },
    {
      "cell_type": "code",
      "execution_count": 26,
      "id": "5b22152f",
      "metadata": {
        "id": "5b22152f",
        "outputId": "11cd87ee-4201-497a-d0ce-1169a79c4449",
        "colab": {
          "base_uri": "https://localhost:8080/",
          "height": 399
        }
      },
      "outputs": [
        {
          "output_type": "error",
          "ename": "KeyboardInterrupt",
          "evalue": "ignored",
          "traceback": [
            "\u001b[0;31m---------------------------------------------------------------------------\u001b[0m",
            "\u001b[0;31mKeyboardInterrupt\u001b[0m                         Traceback (most recent call last)",
            "\u001b[0;32m<ipython-input-26-affc76dac527>\u001b[0m in \u001b[0;36m<module>\u001b[0;34m()\u001b[0m\n\u001b[1;32m      1\u001b[0m \u001b[0mgrids\u001b[0m \u001b[0;34m=\u001b[0m \u001b[0mGridSearchCV\u001b[0m\u001b[0;34m(\u001b[0m\u001b[0mdt_classifier\u001b[0m\u001b[0;34m,\u001b[0m \u001b[0mparam_grid\u001b[0m \u001b[0;34m=\u001b[0m \u001b[0mparameters\u001b[0m\u001b[0;34m,\u001b[0m \u001b[0mcv\u001b[0m \u001b[0;34m=\u001b[0m \u001b[0;36m3\u001b[0m\u001b[0;34m,\u001b[0m \u001b[0mreturn_train_score\u001b[0m \u001b[0;34m=\u001b[0m \u001b[0;32mTrue\u001b[0m\u001b[0;34m)\u001b[0m\u001b[0;34m\u001b[0m\u001b[0;34m\u001b[0m\u001b[0m\n\u001b[1;32m      2\u001b[0m \u001b[0;32mfor\u001b[0m \u001b[0mtag\u001b[0m \u001b[0;32min\u001b[0m \u001b[0mgr_tags\u001b[0m\u001b[0;34m:\u001b[0m\u001b[0;34m\u001b[0m\u001b[0;34m\u001b[0m\u001b[0m\n\u001b[0;32m----> 3\u001b[0;31m     \u001b[0mgrids\u001b[0m\u001b[0;34m.\u001b[0m\u001b[0mfit\u001b[0m\u001b[0;34m(\u001b[0m\u001b[0mx_tr\u001b[0m\u001b[0;34m,\u001b[0m \u001b[0mtrain\u001b[0m\u001b[0;34m[\u001b[0m\u001b[0mtag\u001b[0m\u001b[0;34m]\u001b[0m\u001b[0;34m)\u001b[0m\u001b[0;34m\u001b[0m\u001b[0;34m\u001b[0m\u001b[0m\n\u001b[0m\u001b[1;32m      4\u001b[0m \u001b[0;34m\u001b[0m\u001b[0m\n\u001b[1;32m      5\u001b[0m \u001b[0mgrids\u001b[0m\u001b[0;34m.\u001b[0m\u001b[0mbest_params_\u001b[0m\u001b[0;34m\u001b[0m\u001b[0;34m\u001b[0m\u001b[0m\n",
            "\u001b[0;32m/usr/local/lib/python3.7/dist-packages/sklearn/model_selection/_search.py\u001b[0m in \u001b[0;36mfit\u001b[0;34m(self, X, y, groups, **fit_params)\u001b[0m\n\u001b[1;32m    889\u001b[0m                 \u001b[0;32mreturn\u001b[0m \u001b[0mresults\u001b[0m\u001b[0;34m\u001b[0m\u001b[0;34m\u001b[0m\u001b[0m\n\u001b[1;32m    890\u001b[0m \u001b[0;34m\u001b[0m\u001b[0m\n\u001b[0;32m--> 891\u001b[0;31m             \u001b[0mself\u001b[0m\u001b[0;34m.\u001b[0m\u001b[0m_run_search\u001b[0m\u001b[0;34m(\u001b[0m\u001b[0mevaluate_candidates\u001b[0m\u001b[0;34m)\u001b[0m\u001b[0;34m\u001b[0m\u001b[0;34m\u001b[0m\u001b[0m\n\u001b[0m\u001b[1;32m    892\u001b[0m \u001b[0;34m\u001b[0m\u001b[0m\n\u001b[1;32m    893\u001b[0m             \u001b[0;31m# multimetric is determined here because in the case of a callable\u001b[0m\u001b[0;34m\u001b[0m\u001b[0;34m\u001b[0m\u001b[0;34m\u001b[0m\u001b[0m\n",
            "\u001b[0;32m/usr/local/lib/python3.7/dist-packages/sklearn/model_selection/_search.py\u001b[0m in \u001b[0;36m_run_search\u001b[0;34m(self, evaluate_candidates)\u001b[0m\n\u001b[1;32m   1390\u001b[0m     \u001b[0;32mdef\u001b[0m \u001b[0m_run_search\u001b[0m\u001b[0;34m(\u001b[0m\u001b[0mself\u001b[0m\u001b[0;34m,\u001b[0m \u001b[0mevaluate_candidates\u001b[0m\u001b[0;34m)\u001b[0m\u001b[0;34m:\u001b[0m\u001b[0;34m\u001b[0m\u001b[0;34m\u001b[0m\u001b[0m\n\u001b[1;32m   1391\u001b[0m         \u001b[0;34m\"\"\"Search all candidates in param_grid\"\"\"\u001b[0m\u001b[0;34m\u001b[0m\u001b[0;34m\u001b[0m\u001b[0m\n\u001b[0;32m-> 1392\u001b[0;31m         \u001b[0mevaluate_candidates\u001b[0m\u001b[0;34m(\u001b[0m\u001b[0mParameterGrid\u001b[0m\u001b[0;34m(\u001b[0m\u001b[0mself\u001b[0m\u001b[0;34m.\u001b[0m\u001b[0mparam_grid\u001b[0m\u001b[0;34m)\u001b[0m\u001b[0;34m)\u001b[0m\u001b[0;34m\u001b[0m\u001b[0;34m\u001b[0m\u001b[0m\n\u001b[0m\u001b[1;32m   1393\u001b[0m \u001b[0;34m\u001b[0m\u001b[0m\n\u001b[1;32m   1394\u001b[0m \u001b[0;34m\u001b[0m\u001b[0m\n",
            "\u001b[0;32m/usr/local/lib/python3.7/dist-packages/sklearn/model_selection/_search.py\u001b[0m in \u001b[0;36mevaluate_candidates\u001b[0;34m(candidate_params, cv, more_results)\u001b[0m\n\u001b[1;32m    849\u001b[0m                     )\n\u001b[1;32m    850\u001b[0m                     for (cand_idx, parameters), (split_idx, (train, test)) in product(\n\u001b[0;32m--> 851\u001b[0;31m                         \u001b[0menumerate\u001b[0m\u001b[0;34m(\u001b[0m\u001b[0mcandidate_params\u001b[0m\u001b[0;34m)\u001b[0m\u001b[0;34m,\u001b[0m \u001b[0menumerate\u001b[0m\u001b[0;34m(\u001b[0m\u001b[0mcv\u001b[0m\u001b[0;34m.\u001b[0m\u001b[0msplit\u001b[0m\u001b[0;34m(\u001b[0m\u001b[0mX\u001b[0m\u001b[0;34m,\u001b[0m \u001b[0my\u001b[0m\u001b[0;34m,\u001b[0m \u001b[0mgroups\u001b[0m\u001b[0;34m)\u001b[0m\u001b[0;34m)\u001b[0m\u001b[0;34m\u001b[0m\u001b[0;34m\u001b[0m\u001b[0m\n\u001b[0m\u001b[1;32m    852\u001b[0m                     )\n\u001b[1;32m    853\u001b[0m                 )\n",
            "\u001b[0;32m/usr/local/lib/python3.7/dist-packages/joblib/parallel.py\u001b[0m in \u001b[0;36m__call__\u001b[0;34m(self, iterable)\u001b[0m\n\u001b[1;32m   1044\u001b[0m                 \u001b[0mself\u001b[0m\u001b[0;34m.\u001b[0m\u001b[0m_iterating\u001b[0m \u001b[0;34m=\u001b[0m \u001b[0mself\u001b[0m\u001b[0;34m.\u001b[0m\u001b[0m_original_iterator\u001b[0m \u001b[0;32mis\u001b[0m \u001b[0;32mnot\u001b[0m \u001b[0;32mNone\u001b[0m\u001b[0;34m\u001b[0m\u001b[0;34m\u001b[0m\u001b[0m\n\u001b[1;32m   1045\u001b[0m \u001b[0;34m\u001b[0m\u001b[0m\n\u001b[0;32m-> 1046\u001b[0;31m             \u001b[0;32mwhile\u001b[0m \u001b[0mself\u001b[0m\u001b[0;34m.\u001b[0m\u001b[0mdispatch_one_batch\u001b[0m\u001b[0;34m(\u001b[0m\u001b[0miterator\u001b[0m\u001b[0;34m)\u001b[0m\u001b[0;34m:\u001b[0m\u001b[0;34m\u001b[0m\u001b[0;34m\u001b[0m\u001b[0m\n\u001b[0m\u001b[1;32m   1047\u001b[0m                 \u001b[0;32mpass\u001b[0m\u001b[0;34m\u001b[0m\u001b[0;34m\u001b[0m\u001b[0m\n\u001b[1;32m   1048\u001b[0m \u001b[0;34m\u001b[0m\u001b[0m\n",
            "\u001b[0;32m/usr/local/lib/python3.7/dist-packages/joblib/parallel.py\u001b[0m in \u001b[0;36mdispatch_one_batch\u001b[0;34m(self, iterator)\u001b[0m\n\u001b[1;32m    859\u001b[0m                 \u001b[0;32mreturn\u001b[0m \u001b[0;32mFalse\u001b[0m\u001b[0;34m\u001b[0m\u001b[0;34m\u001b[0m\u001b[0m\n\u001b[1;32m    860\u001b[0m             \u001b[0;32melse\u001b[0m\u001b[0;34m:\u001b[0m\u001b[0;34m\u001b[0m\u001b[0;34m\u001b[0m\u001b[0m\n\u001b[0;32m--> 861\u001b[0;31m                 \u001b[0mself\u001b[0m\u001b[0;34m.\u001b[0m\u001b[0m_dispatch\u001b[0m\u001b[0;34m(\u001b[0m\u001b[0mtasks\u001b[0m\u001b[0;34m)\u001b[0m\u001b[0;34m\u001b[0m\u001b[0;34m\u001b[0m\u001b[0m\n\u001b[0m\u001b[1;32m    862\u001b[0m                 \u001b[0;32mreturn\u001b[0m \u001b[0;32mTrue\u001b[0m\u001b[0;34m\u001b[0m\u001b[0;34m\u001b[0m\u001b[0m\n\u001b[1;32m    863\u001b[0m \u001b[0;34m\u001b[0m\u001b[0m\n",
            "\u001b[0;32m/usr/local/lib/python3.7/dist-packages/joblib/parallel.py\u001b[0m in \u001b[0;36m_dispatch\u001b[0;34m(self, batch)\u001b[0m\n\u001b[1;32m    777\u001b[0m         \u001b[0;32mwith\u001b[0m \u001b[0mself\u001b[0m\u001b[0;34m.\u001b[0m\u001b[0m_lock\u001b[0m\u001b[0;34m:\u001b[0m\u001b[0;34m\u001b[0m\u001b[0;34m\u001b[0m\u001b[0m\n\u001b[1;32m    778\u001b[0m             \u001b[0mjob_idx\u001b[0m \u001b[0;34m=\u001b[0m \u001b[0mlen\u001b[0m\u001b[0;34m(\u001b[0m\u001b[0mself\u001b[0m\u001b[0;34m.\u001b[0m\u001b[0m_jobs\u001b[0m\u001b[0;34m)\u001b[0m\u001b[0;34m\u001b[0m\u001b[0;34m\u001b[0m\u001b[0m\n\u001b[0;32m--> 779\u001b[0;31m             \u001b[0mjob\u001b[0m \u001b[0;34m=\u001b[0m \u001b[0mself\u001b[0m\u001b[0;34m.\u001b[0m\u001b[0m_backend\u001b[0m\u001b[0;34m.\u001b[0m\u001b[0mapply_async\u001b[0m\u001b[0;34m(\u001b[0m\u001b[0mbatch\u001b[0m\u001b[0;34m,\u001b[0m \u001b[0mcallback\u001b[0m\u001b[0;34m=\u001b[0m\u001b[0mcb\u001b[0m\u001b[0;34m)\u001b[0m\u001b[0;34m\u001b[0m\u001b[0;34m\u001b[0m\u001b[0m\n\u001b[0m\u001b[1;32m    780\u001b[0m             \u001b[0;31m# A job can complete so quickly than its callback is\u001b[0m\u001b[0;34m\u001b[0m\u001b[0;34m\u001b[0m\u001b[0;34m\u001b[0m\u001b[0m\n\u001b[1;32m    781\u001b[0m             \u001b[0;31m# called before we get here, causing self._jobs to\u001b[0m\u001b[0;34m\u001b[0m\u001b[0;34m\u001b[0m\u001b[0;34m\u001b[0m\u001b[0m\n",
            "\u001b[0;32m/usr/local/lib/python3.7/dist-packages/joblib/_parallel_backends.py\u001b[0m in \u001b[0;36mapply_async\u001b[0;34m(self, func, callback)\u001b[0m\n\u001b[1;32m    206\u001b[0m     \u001b[0;32mdef\u001b[0m \u001b[0mapply_async\u001b[0m\u001b[0;34m(\u001b[0m\u001b[0mself\u001b[0m\u001b[0;34m,\u001b[0m \u001b[0mfunc\u001b[0m\u001b[0;34m,\u001b[0m \u001b[0mcallback\u001b[0m\u001b[0;34m=\u001b[0m\u001b[0;32mNone\u001b[0m\u001b[0;34m)\u001b[0m\u001b[0;34m:\u001b[0m\u001b[0;34m\u001b[0m\u001b[0;34m\u001b[0m\u001b[0m\n\u001b[1;32m    207\u001b[0m         \u001b[0;34m\"\"\"Schedule a func to be run\"\"\"\u001b[0m\u001b[0;34m\u001b[0m\u001b[0;34m\u001b[0m\u001b[0m\n\u001b[0;32m--> 208\u001b[0;31m         \u001b[0mresult\u001b[0m \u001b[0;34m=\u001b[0m \u001b[0mImmediateResult\u001b[0m\u001b[0;34m(\u001b[0m\u001b[0mfunc\u001b[0m\u001b[0;34m)\u001b[0m\u001b[0;34m\u001b[0m\u001b[0;34m\u001b[0m\u001b[0m\n\u001b[0m\u001b[1;32m    209\u001b[0m         \u001b[0;32mif\u001b[0m \u001b[0mcallback\u001b[0m\u001b[0;34m:\u001b[0m\u001b[0;34m\u001b[0m\u001b[0;34m\u001b[0m\u001b[0m\n\u001b[1;32m    210\u001b[0m             \u001b[0mcallback\u001b[0m\u001b[0;34m(\u001b[0m\u001b[0mresult\u001b[0m\u001b[0;34m)\u001b[0m\u001b[0;34m\u001b[0m\u001b[0;34m\u001b[0m\u001b[0m\n",
            "\u001b[0;32m/usr/local/lib/python3.7/dist-packages/joblib/_parallel_backends.py\u001b[0m in \u001b[0;36m__init__\u001b[0;34m(self, batch)\u001b[0m\n\u001b[1;32m    570\u001b[0m         \u001b[0;31m# Don't delay the application, to avoid keeping the input\u001b[0m\u001b[0;34m\u001b[0m\u001b[0;34m\u001b[0m\u001b[0;34m\u001b[0m\u001b[0m\n\u001b[1;32m    571\u001b[0m         \u001b[0;31m# arguments in memory\u001b[0m\u001b[0;34m\u001b[0m\u001b[0;34m\u001b[0m\u001b[0;34m\u001b[0m\u001b[0m\n\u001b[0;32m--> 572\u001b[0;31m         \u001b[0mself\u001b[0m\u001b[0;34m.\u001b[0m\u001b[0mresults\u001b[0m \u001b[0;34m=\u001b[0m \u001b[0mbatch\u001b[0m\u001b[0;34m(\u001b[0m\u001b[0;34m)\u001b[0m\u001b[0;34m\u001b[0m\u001b[0;34m\u001b[0m\u001b[0m\n\u001b[0m\u001b[1;32m    573\u001b[0m \u001b[0;34m\u001b[0m\u001b[0m\n\u001b[1;32m    574\u001b[0m     \u001b[0;32mdef\u001b[0m \u001b[0mget\u001b[0m\u001b[0;34m(\u001b[0m\u001b[0mself\u001b[0m\u001b[0;34m)\u001b[0m\u001b[0;34m:\u001b[0m\u001b[0;34m\u001b[0m\u001b[0;34m\u001b[0m\u001b[0m\n",
            "\u001b[0;32m/usr/local/lib/python3.7/dist-packages/joblib/parallel.py\u001b[0m in \u001b[0;36m__call__\u001b[0;34m(self)\u001b[0m\n\u001b[1;32m    261\u001b[0m         \u001b[0;32mwith\u001b[0m \u001b[0mparallel_backend\u001b[0m\u001b[0;34m(\u001b[0m\u001b[0mself\u001b[0m\u001b[0;34m.\u001b[0m\u001b[0m_backend\u001b[0m\u001b[0;34m,\u001b[0m \u001b[0mn_jobs\u001b[0m\u001b[0;34m=\u001b[0m\u001b[0mself\u001b[0m\u001b[0;34m.\u001b[0m\u001b[0m_n_jobs\u001b[0m\u001b[0;34m)\u001b[0m\u001b[0;34m:\u001b[0m\u001b[0;34m\u001b[0m\u001b[0;34m\u001b[0m\u001b[0m\n\u001b[1;32m    262\u001b[0m             return [func(*args, **kwargs)\n\u001b[0;32m--> 263\u001b[0;31m                     for func, args, kwargs in self.items]\n\u001b[0m\u001b[1;32m    264\u001b[0m \u001b[0;34m\u001b[0m\u001b[0m\n\u001b[1;32m    265\u001b[0m     \u001b[0;32mdef\u001b[0m \u001b[0m__reduce__\u001b[0m\u001b[0;34m(\u001b[0m\u001b[0mself\u001b[0m\u001b[0;34m)\u001b[0m\u001b[0;34m:\u001b[0m\u001b[0;34m\u001b[0m\u001b[0;34m\u001b[0m\u001b[0m\n",
            "\u001b[0;32m/usr/local/lib/python3.7/dist-packages/joblib/parallel.py\u001b[0m in \u001b[0;36m<listcomp>\u001b[0;34m(.0)\u001b[0m\n\u001b[1;32m    261\u001b[0m         \u001b[0;32mwith\u001b[0m \u001b[0mparallel_backend\u001b[0m\u001b[0;34m(\u001b[0m\u001b[0mself\u001b[0m\u001b[0;34m.\u001b[0m\u001b[0m_backend\u001b[0m\u001b[0;34m,\u001b[0m \u001b[0mn_jobs\u001b[0m\u001b[0;34m=\u001b[0m\u001b[0mself\u001b[0m\u001b[0;34m.\u001b[0m\u001b[0m_n_jobs\u001b[0m\u001b[0;34m)\u001b[0m\u001b[0;34m:\u001b[0m\u001b[0;34m\u001b[0m\u001b[0;34m\u001b[0m\u001b[0m\n\u001b[1;32m    262\u001b[0m             return [func(*args, **kwargs)\n\u001b[0;32m--> 263\u001b[0;31m                     for func, args, kwargs in self.items]\n\u001b[0m\u001b[1;32m    264\u001b[0m \u001b[0;34m\u001b[0m\u001b[0m\n\u001b[1;32m    265\u001b[0m     \u001b[0;32mdef\u001b[0m \u001b[0m__reduce__\u001b[0m\u001b[0;34m(\u001b[0m\u001b[0mself\u001b[0m\u001b[0;34m)\u001b[0m\u001b[0;34m:\u001b[0m\u001b[0;34m\u001b[0m\u001b[0;34m\u001b[0m\u001b[0m\n",
            "\u001b[0;32m/usr/local/lib/python3.7/dist-packages/sklearn/utils/fixes.py\u001b[0m in \u001b[0;36m__call__\u001b[0;34m(self, *args, **kwargs)\u001b[0m\n\u001b[1;32m    214\u001b[0m     \u001b[0;32mdef\u001b[0m \u001b[0m__call__\u001b[0m\u001b[0;34m(\u001b[0m\u001b[0mself\u001b[0m\u001b[0;34m,\u001b[0m \u001b[0;34m*\u001b[0m\u001b[0margs\u001b[0m\u001b[0;34m,\u001b[0m \u001b[0;34m**\u001b[0m\u001b[0mkwargs\u001b[0m\u001b[0;34m)\u001b[0m\u001b[0;34m:\u001b[0m\u001b[0;34m\u001b[0m\u001b[0;34m\u001b[0m\u001b[0m\n\u001b[1;32m    215\u001b[0m         \u001b[0;32mwith\u001b[0m \u001b[0mconfig_context\u001b[0m\u001b[0;34m(\u001b[0m\u001b[0;34m**\u001b[0m\u001b[0mself\u001b[0m\u001b[0;34m.\u001b[0m\u001b[0mconfig\u001b[0m\u001b[0;34m)\u001b[0m\u001b[0;34m:\u001b[0m\u001b[0;34m\u001b[0m\u001b[0;34m\u001b[0m\u001b[0m\n\u001b[0;32m--> 216\u001b[0;31m             \u001b[0;32mreturn\u001b[0m \u001b[0mself\u001b[0m\u001b[0;34m.\u001b[0m\u001b[0mfunction\u001b[0m\u001b[0;34m(\u001b[0m\u001b[0;34m*\u001b[0m\u001b[0margs\u001b[0m\u001b[0;34m,\u001b[0m \u001b[0;34m**\u001b[0m\u001b[0mkwargs\u001b[0m\u001b[0;34m)\u001b[0m\u001b[0;34m\u001b[0m\u001b[0;34m\u001b[0m\u001b[0m\n\u001b[0m\u001b[1;32m    217\u001b[0m \u001b[0;34m\u001b[0m\u001b[0m\n\u001b[1;32m    218\u001b[0m \u001b[0;34m\u001b[0m\u001b[0m\n",
            "\u001b[0;32m/usr/local/lib/python3.7/dist-packages/sklearn/model_selection/_validation.py\u001b[0m in \u001b[0;36m_fit_and_score\u001b[0;34m(estimator, X, y, scorer, train, test, verbose, parameters, fit_params, return_train_score, return_parameters, return_n_test_samples, return_times, return_estimator, split_progress, candidate_progress, error_score)\u001b[0m\n\u001b[1;32m    678\u001b[0m             \u001b[0mestimator\u001b[0m\u001b[0;34m.\u001b[0m\u001b[0mfit\u001b[0m\u001b[0;34m(\u001b[0m\u001b[0mX_train\u001b[0m\u001b[0;34m,\u001b[0m \u001b[0;34m**\u001b[0m\u001b[0mfit_params\u001b[0m\u001b[0;34m)\u001b[0m\u001b[0;34m\u001b[0m\u001b[0;34m\u001b[0m\u001b[0m\n\u001b[1;32m    679\u001b[0m         \u001b[0;32melse\u001b[0m\u001b[0;34m:\u001b[0m\u001b[0;34m\u001b[0m\u001b[0;34m\u001b[0m\u001b[0m\n\u001b[0;32m--> 680\u001b[0;31m             \u001b[0mestimator\u001b[0m\u001b[0;34m.\u001b[0m\u001b[0mfit\u001b[0m\u001b[0;34m(\u001b[0m\u001b[0mX_train\u001b[0m\u001b[0;34m,\u001b[0m \u001b[0my_train\u001b[0m\u001b[0;34m,\u001b[0m \u001b[0;34m**\u001b[0m\u001b[0mfit_params\u001b[0m\u001b[0;34m)\u001b[0m\u001b[0;34m\u001b[0m\u001b[0;34m\u001b[0m\u001b[0m\n\u001b[0m\u001b[1;32m    681\u001b[0m \u001b[0;34m\u001b[0m\u001b[0m\n\u001b[1;32m    682\u001b[0m     \u001b[0;32mexcept\u001b[0m \u001b[0mException\u001b[0m\u001b[0;34m:\u001b[0m\u001b[0;34m\u001b[0m\u001b[0;34m\u001b[0m\u001b[0m\n",
            "\u001b[0;32m/usr/local/lib/python3.7/dist-packages/sklearn/pipeline.py\u001b[0m in \u001b[0;36mfit\u001b[0;34m(self, X, y, **fit_params)\u001b[0m\n\u001b[1;32m    388\u001b[0m         \"\"\"\n\u001b[1;32m    389\u001b[0m         \u001b[0mfit_params_steps\u001b[0m \u001b[0;34m=\u001b[0m \u001b[0mself\u001b[0m\u001b[0;34m.\u001b[0m\u001b[0m_check_fit_params\u001b[0m\u001b[0;34m(\u001b[0m\u001b[0;34m**\u001b[0m\u001b[0mfit_params\u001b[0m\u001b[0;34m)\u001b[0m\u001b[0;34m\u001b[0m\u001b[0;34m\u001b[0m\u001b[0m\n\u001b[0;32m--> 390\u001b[0;31m         \u001b[0mXt\u001b[0m \u001b[0;34m=\u001b[0m \u001b[0mself\u001b[0m\u001b[0;34m.\u001b[0m\u001b[0m_fit\u001b[0m\u001b[0;34m(\u001b[0m\u001b[0mX\u001b[0m\u001b[0;34m,\u001b[0m \u001b[0my\u001b[0m\u001b[0;34m,\u001b[0m \u001b[0;34m**\u001b[0m\u001b[0mfit_params_steps\u001b[0m\u001b[0;34m)\u001b[0m\u001b[0;34m\u001b[0m\u001b[0;34m\u001b[0m\u001b[0m\n\u001b[0m\u001b[1;32m    391\u001b[0m         \u001b[0;32mwith\u001b[0m \u001b[0m_print_elapsed_time\u001b[0m\u001b[0;34m(\u001b[0m\u001b[0;34m\"Pipeline\"\u001b[0m\u001b[0;34m,\u001b[0m \u001b[0mself\u001b[0m\u001b[0;34m.\u001b[0m\u001b[0m_log_message\u001b[0m\u001b[0;34m(\u001b[0m\u001b[0mlen\u001b[0m\u001b[0;34m(\u001b[0m\u001b[0mself\u001b[0m\u001b[0;34m.\u001b[0m\u001b[0msteps\u001b[0m\u001b[0;34m)\u001b[0m \u001b[0;34m-\u001b[0m \u001b[0;36m1\u001b[0m\u001b[0;34m)\u001b[0m\u001b[0;34m)\u001b[0m\u001b[0;34m:\u001b[0m\u001b[0;34m\u001b[0m\u001b[0;34m\u001b[0m\u001b[0m\n\u001b[1;32m    392\u001b[0m             \u001b[0;32mif\u001b[0m \u001b[0mself\u001b[0m\u001b[0;34m.\u001b[0m\u001b[0m_final_estimator\u001b[0m \u001b[0;34m!=\u001b[0m \u001b[0;34m\"passthrough\"\u001b[0m\u001b[0;34m:\u001b[0m\u001b[0;34m\u001b[0m\u001b[0;34m\u001b[0m\u001b[0m\n",
            "\u001b[0;32m/usr/local/lib/python3.7/dist-packages/sklearn/pipeline.py\u001b[0m in \u001b[0;36m_fit\u001b[0;34m(self, X, y, **fit_params_steps)\u001b[0m\n\u001b[1;32m    353\u001b[0m                 \u001b[0mmessage_clsname\u001b[0m\u001b[0;34m=\u001b[0m\u001b[0;34m\"Pipeline\"\u001b[0m\u001b[0;34m,\u001b[0m\u001b[0;34m\u001b[0m\u001b[0;34m\u001b[0m\u001b[0m\n\u001b[1;32m    354\u001b[0m                 \u001b[0mmessage\u001b[0m\u001b[0;34m=\u001b[0m\u001b[0mself\u001b[0m\u001b[0;34m.\u001b[0m\u001b[0m_log_message\u001b[0m\u001b[0;34m(\u001b[0m\u001b[0mstep_idx\u001b[0m\u001b[0;34m)\u001b[0m\u001b[0;34m,\u001b[0m\u001b[0;34m\u001b[0m\u001b[0;34m\u001b[0m\u001b[0m\n\u001b[0;32m--> 355\u001b[0;31m                 \u001b[0;34m**\u001b[0m\u001b[0mfit_params_steps\u001b[0m\u001b[0;34m[\u001b[0m\u001b[0mname\u001b[0m\u001b[0;34m]\u001b[0m\u001b[0;34m,\u001b[0m\u001b[0;34m\u001b[0m\u001b[0;34m\u001b[0m\u001b[0m\n\u001b[0m\u001b[1;32m    356\u001b[0m             )\n\u001b[1;32m    357\u001b[0m             \u001b[0;31m# Replace the transformer of the step with the fitted\u001b[0m\u001b[0;34m\u001b[0m\u001b[0;34m\u001b[0m\u001b[0;34m\u001b[0m\u001b[0m\n",
            "\u001b[0;32m/usr/local/lib/python3.7/dist-packages/joblib/memory.py\u001b[0m in \u001b[0;36m__call__\u001b[0;34m(self, *args, **kwargs)\u001b[0m\n\u001b[1;32m    347\u001b[0m \u001b[0;34m\u001b[0m\u001b[0m\n\u001b[1;32m    348\u001b[0m     \u001b[0;32mdef\u001b[0m \u001b[0m__call__\u001b[0m\u001b[0;34m(\u001b[0m\u001b[0mself\u001b[0m\u001b[0;34m,\u001b[0m \u001b[0;34m*\u001b[0m\u001b[0margs\u001b[0m\u001b[0;34m,\u001b[0m \u001b[0;34m**\u001b[0m\u001b[0mkwargs\u001b[0m\u001b[0;34m)\u001b[0m\u001b[0;34m:\u001b[0m\u001b[0;34m\u001b[0m\u001b[0;34m\u001b[0m\u001b[0m\n\u001b[0;32m--> 349\u001b[0;31m         \u001b[0;32mreturn\u001b[0m \u001b[0mself\u001b[0m\u001b[0;34m.\u001b[0m\u001b[0mfunc\u001b[0m\u001b[0;34m(\u001b[0m\u001b[0;34m*\u001b[0m\u001b[0margs\u001b[0m\u001b[0;34m,\u001b[0m \u001b[0;34m**\u001b[0m\u001b[0mkwargs\u001b[0m\u001b[0;34m)\u001b[0m\u001b[0;34m\u001b[0m\u001b[0;34m\u001b[0m\u001b[0m\n\u001b[0m\u001b[1;32m    350\u001b[0m \u001b[0;34m\u001b[0m\u001b[0m\n\u001b[1;32m    351\u001b[0m     \u001b[0;32mdef\u001b[0m \u001b[0mcall_and_shelve\u001b[0m\u001b[0;34m(\u001b[0m\u001b[0mself\u001b[0m\u001b[0;34m,\u001b[0m \u001b[0;34m*\u001b[0m\u001b[0margs\u001b[0m\u001b[0;34m,\u001b[0m \u001b[0;34m**\u001b[0m\u001b[0mkwargs\u001b[0m\u001b[0;34m)\u001b[0m\u001b[0;34m:\u001b[0m\u001b[0;34m\u001b[0m\u001b[0;34m\u001b[0m\u001b[0m\n",
            "\u001b[0;32m/usr/local/lib/python3.7/dist-packages/sklearn/pipeline.py\u001b[0m in \u001b[0;36m_fit_transform_one\u001b[0;34m(transformer, X, y, weight, message_clsname, message, **fit_params)\u001b[0m\n\u001b[1;32m    891\u001b[0m     \u001b[0;32mwith\u001b[0m \u001b[0m_print_elapsed_time\u001b[0m\u001b[0;34m(\u001b[0m\u001b[0mmessage_clsname\u001b[0m\u001b[0;34m,\u001b[0m \u001b[0mmessage\u001b[0m\u001b[0;34m)\u001b[0m\u001b[0;34m:\u001b[0m\u001b[0;34m\u001b[0m\u001b[0;34m\u001b[0m\u001b[0m\n\u001b[1;32m    892\u001b[0m         \u001b[0;32mif\u001b[0m \u001b[0mhasattr\u001b[0m\u001b[0;34m(\u001b[0m\u001b[0mtransformer\u001b[0m\u001b[0;34m,\u001b[0m \u001b[0;34m\"fit_transform\"\u001b[0m\u001b[0;34m)\u001b[0m\u001b[0;34m:\u001b[0m\u001b[0;34m\u001b[0m\u001b[0;34m\u001b[0m\u001b[0m\n\u001b[0;32m--> 893\u001b[0;31m             \u001b[0mres\u001b[0m \u001b[0;34m=\u001b[0m \u001b[0mtransformer\u001b[0m\u001b[0;34m.\u001b[0m\u001b[0mfit_transform\u001b[0m\u001b[0;34m(\u001b[0m\u001b[0mX\u001b[0m\u001b[0;34m,\u001b[0m \u001b[0my\u001b[0m\u001b[0;34m,\u001b[0m \u001b[0;34m**\u001b[0m\u001b[0mfit_params\u001b[0m\u001b[0;34m)\u001b[0m\u001b[0;34m\u001b[0m\u001b[0;34m\u001b[0m\u001b[0m\n\u001b[0m\u001b[1;32m    894\u001b[0m         \u001b[0;32melse\u001b[0m\u001b[0;34m:\u001b[0m\u001b[0;34m\u001b[0m\u001b[0;34m\u001b[0m\u001b[0m\n\u001b[1;32m    895\u001b[0m             \u001b[0mres\u001b[0m \u001b[0;34m=\u001b[0m \u001b[0mtransformer\u001b[0m\u001b[0;34m.\u001b[0m\u001b[0mfit\u001b[0m\u001b[0;34m(\u001b[0m\u001b[0mX\u001b[0m\u001b[0;34m,\u001b[0m \u001b[0my\u001b[0m\u001b[0;34m,\u001b[0m \u001b[0;34m**\u001b[0m\u001b[0mfit_params\u001b[0m\u001b[0;34m)\u001b[0m\u001b[0;34m.\u001b[0m\u001b[0mtransform\u001b[0m\u001b[0;34m(\u001b[0m\u001b[0mX\u001b[0m\u001b[0;34m)\u001b[0m\u001b[0;34m\u001b[0m\u001b[0;34m\u001b[0m\u001b[0m\n",
            "\u001b[0;32m/usr/local/lib/python3.7/dist-packages/sklearn/feature_extraction/text.py\u001b[0m in \u001b[0;36mfit_transform\u001b[0;34m(self, raw_documents, y)\u001b[0m\n\u001b[1;32m   2075\u001b[0m         \"\"\"\n\u001b[1;32m   2076\u001b[0m         \u001b[0mself\u001b[0m\u001b[0;34m.\u001b[0m\u001b[0m_check_params\u001b[0m\u001b[0;34m(\u001b[0m\u001b[0;34m)\u001b[0m\u001b[0;34m\u001b[0m\u001b[0;34m\u001b[0m\u001b[0m\n\u001b[0;32m-> 2077\u001b[0;31m         \u001b[0mX\u001b[0m \u001b[0;34m=\u001b[0m \u001b[0msuper\u001b[0m\u001b[0;34m(\u001b[0m\u001b[0;34m)\u001b[0m\u001b[0;34m.\u001b[0m\u001b[0mfit_transform\u001b[0m\u001b[0;34m(\u001b[0m\u001b[0mraw_documents\u001b[0m\u001b[0;34m)\u001b[0m\u001b[0;34m\u001b[0m\u001b[0;34m\u001b[0m\u001b[0m\n\u001b[0m\u001b[1;32m   2078\u001b[0m         \u001b[0mself\u001b[0m\u001b[0;34m.\u001b[0m\u001b[0m_tfidf\u001b[0m\u001b[0;34m.\u001b[0m\u001b[0mfit\u001b[0m\u001b[0;34m(\u001b[0m\u001b[0mX\u001b[0m\u001b[0;34m)\u001b[0m\u001b[0;34m\u001b[0m\u001b[0;34m\u001b[0m\u001b[0m\n\u001b[1;32m   2079\u001b[0m         \u001b[0;31m# X is already a transformed view of raw_documents so\u001b[0m\u001b[0;34m\u001b[0m\u001b[0;34m\u001b[0m\u001b[0;34m\u001b[0m\u001b[0m\n",
            "\u001b[0;32m/usr/local/lib/python3.7/dist-packages/sklearn/feature_extraction/text.py\u001b[0m in \u001b[0;36mfit_transform\u001b[0;34m(self, raw_documents, y)\u001b[0m\n\u001b[1;32m   1328\u001b[0m                     \u001b[0;32mbreak\u001b[0m\u001b[0;34m\u001b[0m\u001b[0;34m\u001b[0m\u001b[0m\n\u001b[1;32m   1329\u001b[0m \u001b[0;34m\u001b[0m\u001b[0m\n\u001b[0;32m-> 1330\u001b[0;31m         \u001b[0mvocabulary\u001b[0m\u001b[0;34m,\u001b[0m \u001b[0mX\u001b[0m \u001b[0;34m=\u001b[0m \u001b[0mself\u001b[0m\u001b[0;34m.\u001b[0m\u001b[0m_count_vocab\u001b[0m\u001b[0;34m(\u001b[0m\u001b[0mraw_documents\u001b[0m\u001b[0;34m,\u001b[0m \u001b[0mself\u001b[0m\u001b[0;34m.\u001b[0m\u001b[0mfixed_vocabulary_\u001b[0m\u001b[0;34m)\u001b[0m\u001b[0;34m\u001b[0m\u001b[0;34m\u001b[0m\u001b[0m\n\u001b[0m\u001b[1;32m   1331\u001b[0m \u001b[0;34m\u001b[0m\u001b[0m\n\u001b[1;32m   1332\u001b[0m         \u001b[0;32mif\u001b[0m \u001b[0mself\u001b[0m\u001b[0;34m.\u001b[0m\u001b[0mbinary\u001b[0m\u001b[0;34m:\u001b[0m\u001b[0;34m\u001b[0m\u001b[0;34m\u001b[0m\u001b[0m\n",
            "\u001b[0;32m/usr/local/lib/python3.7/dist-packages/sklearn/feature_extraction/text.py\u001b[0m in \u001b[0;36m_count_vocab\u001b[0;34m(self, raw_documents, fixed_vocab)\u001b[0m\n\u001b[1;32m   1203\u001b[0m                     \u001b[0mfeature_idx\u001b[0m \u001b[0;34m=\u001b[0m \u001b[0mvocabulary\u001b[0m\u001b[0;34m[\u001b[0m\u001b[0mfeature\u001b[0m\u001b[0;34m]\u001b[0m\u001b[0;34m\u001b[0m\u001b[0;34m\u001b[0m\u001b[0m\n\u001b[1;32m   1204\u001b[0m                     \u001b[0;32mif\u001b[0m \u001b[0mfeature_idx\u001b[0m \u001b[0;32mnot\u001b[0m \u001b[0;32min\u001b[0m \u001b[0mfeature_counter\u001b[0m\u001b[0;34m:\u001b[0m\u001b[0;34m\u001b[0m\u001b[0;34m\u001b[0m\u001b[0m\n\u001b[0;32m-> 1205\u001b[0;31m                         \u001b[0mfeature_counter\u001b[0m\u001b[0;34m[\u001b[0m\u001b[0mfeature_idx\u001b[0m\u001b[0;34m]\u001b[0m \u001b[0;34m=\u001b[0m \u001b[0;36m1\u001b[0m\u001b[0;34m\u001b[0m\u001b[0;34m\u001b[0m\u001b[0m\n\u001b[0m\u001b[1;32m   1206\u001b[0m                     \u001b[0;32melse\u001b[0m\u001b[0;34m:\u001b[0m\u001b[0;34m\u001b[0m\u001b[0;34m\u001b[0m\u001b[0m\n\u001b[1;32m   1207\u001b[0m                         \u001b[0mfeature_counter\u001b[0m\u001b[0;34m[\u001b[0m\u001b[0mfeature_idx\u001b[0m\u001b[0;34m]\u001b[0m \u001b[0;34m+=\u001b[0m \u001b[0;36m1\u001b[0m\u001b[0;34m\u001b[0m\u001b[0;34m\u001b[0m\u001b[0m\n",
            "\u001b[0;31mKeyboardInterrupt\u001b[0m: "
          ]
        }
      ],
      "source": [
        "grids = GridSearchCV(dt_classifier, param_grid = parameters, cv = 3, return_train_score = True)\n",
        "for tag in gr_tags:\n",
        "    grids.fit(x_tr, train[tag])\n",
        "\n",
        "grids.best_params_"
      ]
    },
    {
      "cell_type": "markdown",
      "id": "9e25b700",
      "metadata": {
        "id": "9e25b700"
      },
      "source": [
        "Let's now re-run our training, testing, and calculating of precision and recall to calculate a new and hopefully improved average f1 score. "
      ]
    },
    {
      "cell_type": "code",
      "execution_count": 27,
      "id": "eeb2a078",
      "metadata": {
        "id": "eeb2a078",
        "outputId": "e0613ef9-74c8-42ee-d0bb-21116dc94deb",
        "colab": {
          "base_uri": "https://localhost:8080/"
        }
      },
      "outputs": [
        {
          "output_type": "execute_result",
          "data": {
            "text/plain": [
              "0.781000574625376"
            ]
          },
          "metadata": {},
          "execution_count": 27
        }
      ],
      "source": [
        "dt_classifier = Pipeline([('tdidf', TfidfVectorizer(stop_words = stop_words)), ('dtc', DecisionTreeClassifier(max_depth = 2, min_samples_leaf = 2))])\n",
        "\n",
        "prec_recs = {}\n",
        "for tag in gr_tags:\n",
        "    \n",
        "    dt_classifier.fit(x_tr, train[tag])\n",
        "    prediction = dt_classifier.predict(x_te)\n",
        "    \n",
        "    precision_recall = precision_recall_fscore_support(test[tag], prediction, average = 'macro')\n",
        "    prec_recs[tag] = precision_recall\n",
        "\n",
        "sum_precision = 0\n",
        "sum_recall = 0\n",
        "\n",
        "for key in prec_recs.keys():\n",
        "    \n",
        "    sum_precision += prec_recs[key][0]\n",
        "    sum_recall += prec_recs[key][1]\n",
        "    \n",
        "mean_precision = sum_precision / len(prec_recs.keys())\n",
        "mean_recall = sum_recall / len(prec_recs.keys())\n",
        "\n",
        "average_f1 = (2 * mean_precision * mean_recall) / (mean_precision + mean_recall)\n",
        "average_f1"
      ]
    },
    {
      "cell_type": "markdown",
      "id": "e679a6a3",
      "metadata": {
        "id": "e679a6a3"
      },
      "source": [
        "So we see a decent improvement from 0.7 --> 0.77, achieved with GridSearchCV and stop_word inclusion to optimize our model. However, we'll take a look at other models / optimizations to see if we can get a heightened score. "
      ]
    },
    {
      "cell_type": "markdown",
      "id": "84a537a2",
      "metadata": {
        "id": "84a537a2"
      },
      "source": [
        "### Model 2: "
      ]
    },
    {
      "cell_type": "code",
      "source": [
        "goodreads = goodreads[goodreads['isEmpty'] == False]\n",
        "goodreads_sample = goodreads.sample(frac = 1)\n",
        "train, test = train_test_split(goodreads_sample, test_size = 0.1, shuffle = True)\n",
        "val = test.sample(frac=0.5)\n",
        "test.drop(val.index, inplace=True)\n",
        "train.shape, test.shape, val.shape"
      ],
      "metadata": {
        "colab": {
          "base_uri": "https://localhost:8080/"
        },
        "id": "USBExS3qxJmd",
        "outputId": "c80ce441-706c-49be-a986-d100f61f3ad5"
      },
      "id": "USBExS3qxJmd",
      "execution_count": 28,
      "outputs": [
        {
          "output_type": "execute_result",
          "data": {
            "text/plain": [
              "((2253, 3), (125, 3), (126, 3))"
            ]
          },
          "metadata": {},
          "execution_count": 28
        }
      ]
    },
    {
      "cell_type": "code",
      "source": [
        "from ast import literal_eval\n",
        "from tensorflow.ragged import constant\n",
        "from tensorflow.keras import layers\n",
        "\n",
        "terms = constant(train[\"tags\"].values)\n",
        "lookup = layers.StringLookup(output_mode=\"multi_hot\")\n",
        "lookup.adapt(terms)\n",
        "vocab = lookup.get_vocabulary()\n",
        "\n",
        "\n",
        "def invert_multi_hot(encoded_labels):\n",
        "    \"\"\"Reverse a single multi-hot encoded label to a tuple of vocab terms.\"\"\"\n",
        "    hot_indices = np.argwhere(encoded_labels == 1.0)[..., 0]\n",
        "    return np.take(vocab, hot_indices)\n",
        "\n",
        "\n",
        "print(\"Vocabulary:\\n\")\n",
        "print(vocab)"
      ],
      "metadata": {
        "colab": {
          "base_uri": "https://localhost:8080/"
        },
        "id": "ejX6_BOAy4AL",
        "outputId": "cb28a44d-51ff-42f9-f7ce-74c0f0e99c16"
      },
      "id": "ejX6_BOAy4AL",
      "execution_count": 29,
      "outputs": [
        {
          "output_type": "stream",
          "name": "stdout",
          "text": [
            "Vocabulary:\n",
            "\n",
            "['[UNK]', 'life', 'inspirational', 'love', 'humor', 'positive', 'books', 'quotes', 'self', 'living', 'reading', 'inspiration', 'of', 'misattributed', 'writing', 'happiness', 'friendship', 'philosophy', 'truth', 'wisdom', 'attributed', 'the', 'source', 'no', 'and', 'death', 'thinking', 'romance', 'jace', 'women', 'poetry', 'optimism', 'hope', 'lessons', 'affirmation', 'pain', 'optimistic', 'courage', 'inspiring', 'inspire', 'to', 'religion', 'funny', 'attitude', 'fear', 'music', 'change', 'strength', 'relationships', 'dreams', 'time', 'loneliness', 'god', 'friends', 'beauty', 'wayland', 'science', 'motivational', 'freedom', 'yourself', 'clary', 'in', 'heart', 'motivation', 'men', 'education', 'art', 'words', 'success', 'sadness', 'on', 'faith', 'determination', 'city', 'trust', 'individuality', 'be', 'reality', 'nature', 'humour', 'fray', 'potter', 'knowledge', 'kindness', 'humanity', 'go', 'empowerment', 'stars', 'peace', 'imagination', 'harry', 'grief', 'future', 'will', 'people', 'literature', 'letting', 'fantasy', 'family', 'confidence', 'a', 'weasley', 'loss', 'learning', 'herondale', 'dumbledore', 'world', 'war', 'stories', 'soul', 'mortal', 'marriage', 'katniss', 'john', 'instruments', 'hunger', 'bravery', 'travel', 'suffering', 's', 'peeta', 'past', 'moving', 'mind', 'live', 'lies', 'intelligence', 'identity', 'human', 'games', 'failure', 'depression', 'children', 'up', 'understanding', 'solitude', 'power', 'magic', 'independence', 'growth', 'fiction', 'feminism', 'experience', 'einstein', 'belief', 'age', 'true', 'sparks', 'respect', 'percy', 'nicholas', 'memory', 'man', 'light', 'jackson', 'honesty', 'gratitude', 'glass', 'discovery', 'compassion', 'character', 'acceptance', 'work', 'wonder', 'simon', 'sarcasm', 'paraphrased', 'our', 'mistakes', 'lightwood', 'growing', 'green', 'fault', 'believe', 'being', 'animals', 'anger', 'twain', 'suicide', 'spirituality', 'smile', 'simile', 'sex', 'sense', 'politics', 'others', 'new', 'mark', 'magnus', 'lewis', 'insanity', 'inner', 'ignorance', 'history', 'hell', 'heartbreak', 'healing', 'hate', 'good', 'forgiveness', 'clockwork', 'beatles', 'bane', 'atheism', 'adventure', 'you', 'what', 'stupidity', 'sad', 'roosevelt', 'responsibility', 'perseverance', 'memories', 'laughter', 'integrity', 'hurt', 'gender', 'food', 'evil', 'empathy', 'eleanor', 'disappointment', 'day', 'choices', 'bones', 'worry', 'way', 'voice', 'vampire', 'universe', 'tfios', 'tales', 'sleep', 'silence', 'seuss', 'secrets', 'ron', 'reason', 'purpose', 'prince', 'persistence', 'perception', 'patience', 'open', 'morality', 'mankind', 'lying', 'loved', 'libraries', 'kiss', 'joy', 'isabelle', 'happy', 'gray', 'goodness', 'george', 'for', 'flying', 'fighting', 'fate', 'fairy', 'crying', 'classic', 'clare', 'cats', 'awareness', 'angel', 'alice', 'advice', 'adversity', 'activism', 'young', 'writers', 'wonderland', 'wit', 'wise', 'wallflower', 'thoughts', 'tessa', 'tears', 'spiritual', 'society', 'six', 'school', 'scars', 'sacrifice', 'rights', 'right', 'reliance', 'regret', 'quote', 'present', 'poem', 'perspective', 'patch', 'passion', 'parents', 'out', 'night', 'monroe', 'mellark', 'meaning', 'marilyn', 'justice', 'joke', 'irony', 'hobbes', 'greatness', 'goodbye', 'girls', 'fallen', 'esteem', 'enjoy', 'elizabeth', 'edward', 'dreaming', 'dream', 'dogs', 'diem', 'darkness', 'dance', 'crows', 'creativity', 'comfort', 'comedy', 'childhood', 'cassandra', 'carpe', 'calvin', 'book', 'are', 'appreciation', 'angels', 'action', 'youth', 'widely', 'who', 'we', 'value', 'trial', 'trees', 't', 'stereotypes', 'sorrow', 'song', 'social', 'romantic', 'read', 'pooh', 'parenting', 'opinions', 'olympians', 'notebook', 'nora', 'nin', 'never', 'mother', 'morals', 'money', 'mockingjay', 'mercy', 'lost', 'longing', 'language', 'james', 'innocence', 'infinity', 'hypocrisy', 'hush', 'helping', 'hatred', 'giving', 'give', 'fred', 'forgetting', 'fire', 'fearless', 'fashion', 'expression', 'existence', 'ethics', 'equality', 'enemies', 'encouragement', 'emotion', 'dr', 'divergent', 'destiny', 'desire', 'cry', 'common', 'collins', 'christianity', 'choice', 'chocolate', 'chase', 'carstairs', 'brave', 'bible', 'benediction', 'beautiful', 'ataraxy', 'ashes', 'annabeth', 'anais', 'alone', 'albert', 'alaska', 'your', 'yearning', 'year', 'woman', 'william', 'wealth', 'virtue', 'unrequited', 'unhappiness', 'thought', 'teresa', 'temptation', 'teen', 'talent', 'sweet', 'suzanne', 'survival', 'sun', 'strategy', 'storytelling', 'stop', 'standards', 'spirit', 'snape', 'sin', 'service', 'secret', 'seasons', 'sarah', 'sanity', 'rose', 'risk', 'quip', 'qotd', 'psychology', 'problems', 'pride', 'prayer', 'possibilities', 'perks', 'perfection', 'obsession', 'nerdfighters', 'name', 'mythology', 'mothers', 'moment', 'mist', 'milne', 'metaphor', 'malfoy', 'madness', 'lovers', 'looking', 'little', 'literacy', 'lincoln', 'library', 'leadership', 'last', 'knowing', 'journey', 'jesus', 'jem', 'insult', 'infatuation', 'inej', 'improvement', 'image', 'humorous', 'how', 'heaven', 'grey', 'goals', 'gandhi', 'fury', 'friend', 'forward', 'focus', 'flight', 'first', 'finnick', 'fight', 'feelings', 'fame', 'expectations', 'everdeen', 'emotions', 'eat', 'dying', 'drinking', 'dreamers', 'double', 'dimitri', 'depressing', 'deep', 'deception', 'dare', 'creative', 'creation', 'court', 'corruption', 'control', 'contentment', 'conscience', 'conformity', 'challenges', 'censorship', 'catching', 'carroll', 'bennet', 'bella', 'bad', 'awesome', 'authors', 'authentic', 'attraction', 'at', 'assurance', 'alec', 'albus', 'affection', 'adult', 'zen', 'wrong', 'write', 'wounds', 'worth', 'wizard', 'wishes', 'wish', 'winter', 'winnie', 'wings', 'winds', 'wind', 'wilde', 'weakness', 'waters', 'water', 'victory', 'values', 'uplifting', 'unknown', 'unique', 'unhappy', 'unbreakable', 'twilight', 'trying', 'trouble', 'tris', 'trials', 'transform', 'tragedy', 'towns', 'tobias', 'ties', 'throne', 'those', 'think', 'things', 'thief', 'thankfulness', 'thankful', 'telling', 'television', 'teachers', 'tea', 'taking', 'summer', 'sufficiency', 'storms', 'stone', 'stephen', 'steinem', 'start', 'speaking', 'souls', 'sonnet', 'snow', 'smiling', 'smart', 'sirius', 'sing', 'simplicity', 'sight', 'sharing', 'serenity', 'selfishness', 'seeds', 'scout', 'scott', 'scotland', 'scifi', 'sardothien', 'sandman', 'saint', 'run', 'ruby', 'rothfuss', 'roses', 'romeo', 'road', 'rich', 'rhysand', 'revolution', 'religious', 'relationship', 'real', 'readers', 'reader', 'rationality', 'questions', 'propaganda', 'progress', 'profound', 'procrastination', 'process', 'pretty', 'prank', 'poverty', 'potential', 'positivity', 'pleasure', 'places', 'piglet', 'personal', 'patrick', 'parks', 'paraphrase', 'paranormal', 'paradox', 'paradise', 'originality', 'organized', 'opportunity', 'old', 'now', 'novelist', 'nonsense', 'nietzsche', 'myth', 'mortality', 'moon', 'monsters', 'molly', 'misogyny', 'mischief', 'mirror', 'miracles', 'minds', 'mindfulness', 'mindedness', 'metaphysics', 'mermaids', 'mentoring', 'maturity', 'manners', 'make', 'mad', 'lupin', 'luck', 'lover', 'lonely', 'logic', 'listening', 'limits', 'liberty', 'letter', 'let', 'lennon', 'leigh', 'lecture', 'learn', 'leaders', 'leader', 'laugh', 'lack', 'kissing', 'kingdom', 'kind', 'kill', 'keep', 'just', 'juliet', 'judgement', 'judge', 'jordan', 'jealousy', 'jane', 'it', 'introspection', 'initiative', 'infidelity', 'inertia', 'incredibly', 'impossible', 'importance', 'imperfections', 'ideas', 'humility', 'humbert', 'humans', 'horror', 'hopelessness', 'home', 'holden', 'hidden', 'hg2g', 'heroes', 'hepburn', 'henry', 'heathcliff', 'heartache', 'health', 'hazel', 'haunting', 'haiku', 'great', 'gossip', 'gloria', 'gift', 'ghafa', 'genius', 'from', 'fresh', 'free', 'franklin', 'four', 'forests', 'flaws', 'fitzpatrick', 'fitzgerald', 'feyre', 'ferret', 'famous', 'fairytales', 'fact', 'f', 'eyes', 'exercise', 'enemy', 'endings', 'ego', 'earth', 'e', 'dursley', 'do', 'distance', 'direction', 'dignity', 'die', 'diary', 'destruction', 'dessen', 'despair', 'desires', 'demons', 'democracy', 'decisions', 'dear', 'deadlines', 'dead', 'dark', 'dancing', 'daily', 'cynical', 'crooked', 'crime', 'crazy', 'couples', 'connection', 'conflict', 'companionship', 'communication', 'commentary', 'close', 'clichés', 'classics', 'class', 'civil', 'christmas', 'christina', 'chivalry', 'chinese', 'charming', 'charity', 'chapter', 'chances', 'challenge', 'celaena', 'catherine', 'carlin', 'caring', 'care', 'cancer', 'camus', 'c', 'brown', 'broken', 'body', 'blood', 'birth', 'birds', 'bill', 'betrayal', 'ben', 'beginnings', 'becca', 'beatrice', 'beatitudes', 'bardugo', 'awe', 'authenticity', 'austen', 'augustus', 'athena', 'arts', 'appreciate', 'apollo', 'apathy', 'answers', 'anne', 'ambition', 'aliteracy', 'adulthood', 'addiction', 'actions', 'acomaf', 'achievement', 'academy', 'abraham', 'abilities', 'abe', 'حب', 'zsadist', 'zone', 'zombies', 'zoe', 'zeus', 'zarek', 'youthfulness', 'yesterday', 'ya', 'xxiii', 'xvii', 'x', 'writer', 'wring', 'wotton', 'worst', 'worship', 'worrying', 'wormtail', 'woods', 'won', 'witty', 'without', 'witches', 'witchcraft', 'witch', 'wishing', 'wisher', 'wisedom', 'wine', 'windows', 'wilhelm', 'wilderness', 'wife', 'why', 'whole', 'white', 'westfall', 'westerfeld', 'werewolf', 'well', 'weirdness', 'weight', 'wayne', 'wayfinding', 'watch', 'waste', 'warriors', 'warrior', 'want', 'wander', 'wanda', 'walking', 'waking', 'waiting', 'vulnerability', 'vow', 'voting', 'voter', 'vorkosigan', 'volunteerism', 'vlog', 'vision', 'virtues', 'violence', 'viereck', 'veronica', 'vegetarianism', 'vanity', 'van', 'valour', 'valentine', 'vacation', 'us', 'urban', 'ups', 'unsourced', 'unpredictability', 'unlikely', 'unity', 'unfairness', 'understand', 'uncle', 'uncertainty', 'unburdening', 'umbridge', 'ugly', 'uglies', 'tyson', 'tyler', 'twirl', 'try', 'truthful', 'troubles', 'triumph', 'treasure', 'trauma', 'trap', 'transcendentalism', 'towel', 'tough', 'touchstones', 'touching', 'top', 'tomorrow', 'tom', 'toltec', 'tolstoy', 'tolkien', 'toilet', 'together', 'tmi', 'tired', 'tintern', 'tina', 'timidity', 'times', 'timelessness', 'ticking', 'thumb', 'thoughtful', 'thorns', 'this', 'thirst', 'thing', 'thievery', 'theresa', 'theology', 'thanksgiving', 'thank', 'thalia', 'tell', 'telekinetics', 'teens', 'teenagers', 'teenager', 'teenage', 'tedious', 'teasing', 'teaching', 'teacher', 'teach', 'taylor', 'taste', 'tanner', 'talking', 'talk', 'talents', 'systems', 'swings', 'swift', 'sweetness', 'swan', 'suspicion', 'superiority', 'sunset', 'suli', 'sufi', 'suess', 'submission', 'style', 'stupid', 'stubbornness', 'struggle', 'strigoi', 'strenth', 'story', 'stoicism', 'steppenwolf', 'stephenie', 'step', 'stele', 'stekel', 'stay', 'statistics', 'starts', 'star', 'stand', 'stake', 'spinsterhood', 'spinning', 'sphinx', 'speed', 'speech', 'space', 'sow', 'soulmates', 'sorry', 'sorcerers', 'sophie', 'soon', 'songs', 'socks', 'slaughterhouse', 'slammed', 'sky', 'skills', 'skepticism', 'skeptic', 'sisters', 'sins', 'sinners', 'sinner', 'sinister', 'singles', 'single', 'singer', 'simple', 'simon_bolivar', 'silverman', 'silly', 'silent', 'side', 'shrugged', 'show', 'shouldn', 'shore', 'shock', 'ship', 'shine', 'shelves', 'shelter', 'share', 'shampoo', 'shame', 'shakespeare', 'shadowhunters', 'shades', 'sexuality', 'separation', 'sentimentality', 'sentence', 'semantics', 'selfish', 'selection', 'seize', 'seeing', 'seed', 'seduction', 'security', 'searching', 'sea', 'sci', 'scholars', 'scared', 'scar', 'save', 'sausage', 'satisfaction', 'satirical', 'satan', 'santiago', 'santayana', 'samwise', 'samuel', 'salinger', 'sal', 'sail', 'saga', 'safran', 'safe', 's_labyrinth', 'rythmic', 'running', 'runner', 'rumi', 'rulers', 'rue', 'rowling', 'roth', 'rosemarie', 'rosa', 'roots', 'roles', 'role', 'rocks', 'robin', 'robert', 'richness', 'richelle', 'rice', 'rewriting', 'rewind', 'revenge', 'restlessness', 'resolve', 'resilience', 'rescuing', 'requirements', 'reputation', 'renewal', 'rena', 'remus', 'reminding', 'remembrance', 'remember', 'remaining', 'relaxation', 'reinvention', 'reincarnation', 'regrets', 'refuge', 'reflection', 'reflect', 'redemption', 'recovery', 'records', 'recollection', 'recognition', 'reciprocity', 'receptivity', 'rebellion', 'reassurance', 'reap', 'really', 'realization', 'realist', 'realism', 'reads', 'reach', 're', 'ralph', 'radiance', 'rachel', 'rabelais', 'quotation', 'quitting', 'quiet', 'questioning', 'quest', 'qoutes', 'purity', 'puppies', 'punishment', 'public', 'psychological', 'proverb', 'protest', 'protection', 'promise', 'profanity', 'procrastinate', 'proactivity', 'privilege', 'principles', 'principle', 'pretend', 'pressure', 'presidential', 'prejudice', 'pray', 'pox', 'poverb', 'possiblity', 'possibility', 'posiedon', 'poseidon', 'popularity', 'ponyboy', 'ponder', 'poets', 'poet', 'pleasures', 'plays', 'play', 'plants', 'plant', 'plans', 'planning', 'plague', 'pixie', 'pigs', 'pig', 'physics', 'philosphy', 'philosophical', 'philosophers', 'phenomenal', 'pets', 'peter', 'pessimism', 'personality', 'person', 'permission', 'perfect', 'peeves', 'peer', 'pedophilia', 'pedophile', 'peanut', 'pause', 'paulo', 'patriotism', 'passage', 'parting', 'parties', 'park', 'paraphrasing', 'paramore', 'paper', 'paolini', 'panic', 'pandora', 'pan', 'pamuk', 'painting', 'pacifism', 'own', 'owen', 'over', 'oscar', 'orhan', 'ordinary', 'or', 'options', 'oprah', 'oppression', 'opposition', 'opposite', 'opinion', 'openness', 'opening', 'only', 'ones', 'one', 'odair', 'october', 'ocean', 'obvious', 'observational', 'oblivion', 'obedience', 'oaths', 'novelty', 'novels', 'novella', 'novel', 'nothing', 'not', 'nostalgia', 'north', 'norms', 'nonfiction', 'noel', 'nightshade', 'nico', 'newspapers', 'news', 'neverland', 'neurosis', 'nervosa', 'nerds', 'nerdfighter', 'nerd', 'nephlim', 'neighborhoods', 'needs', 'need', 'navigation', 'nations', 'nationalism', 'narrator', 'names', 'mythological', 'myself', 'my', 'mutuality', 'mustache', 'musn', 'musical', 'museums', 'murder', 'mummies', 'muggles', 'much', 'mr', 'move', 'mouth', 'mourning', 'mountains', 'mottos', 'most', 'mortification', 'morrison', 'morning', 'morgenstern', 'morganvillevampires', 'moonshine', 'mood', 'monte', 'moi', 'models', 'mitchell', 'mistake', 'missed', 'misquote', 'misprints', 'misery', 'misanthropy', 'miracle', 'minutes', 'minority', 'minister', 'mindful', 'mina', 'miller', 'middlemarch', 'meyer', 'memoir', 'melanie', 'melancholy', 'meir', 'mead', 'me', 'mazur', 'may', 'max', 'matthias', 'matters', 'matter', 'matrimony', 'mask', 'marx', 'martyrdom', 'martyr', 'marley', 'mara', 'many', 'malediction', 'malcolm', 'makeup', 'majority', 'mail', 'maia', 'magnificent', 'machines', 'macchio', 'macbeth', 'maas', 'lullaby', 'luke', 'loyalty', 'louisa', 'loud', 'lotr', 'losing', 'lord', 'lookingforalaska', 'longings', 'loner', 'london', 'logo', 'lock', 'loathing', 'litsen', 'litany', 'lines', 'limitations', 'limit', 'like', 'lightning', 'liar', 'letters', 'lesson', 'lena', 'lemons', 'legacy', 'leaving', 'laziness', 'layken', 'law', 'late', 'lamp', 'lady', 'labels', 'l', 'kyle', 'kvothe', 'kurt', 'kite', 'kindle', 'killing', 'key', 'kensington', 'kaz', 'katherines', 'katharine', 'kant', 'kafka', 'k', 'june', 'joseph', 'jonathan', 'jokes', 'johnny', 'johngreen', 'joh', 'jk', 'jim', 'jesper', 'jeb', 'jared', 'jamie', 'jail', 'j', 'italy', 'isolation', 'islam', 'isaac', 'is', 'invincible', 'investigation', 'invention', 'inventing', 'intimidation', 'interview', 'internet', 'intent', 'intelligent', 'intellectuals', 'intellect', 'insincerity', 'inkheart', 'injustice', 'injury', 'injuries', 'inevitable', 'inequality', 'indulgence', 'individuals', 'individualism', 'indifference', 'independent', 'incrementalism', 'inconvenient', 'imposters', 'imperfect', 'impact', 'immortals', 'immature', 'illusions', 'illiteracy', 'idleness', 'idiots', 'idiocy', 'ideals', 'ian', 'i', 'hutchins', 'husband', 'humanities', 'humanism', 'house', 'hot', 'host', 'hopeless', 'honor', 'homicide', 'holoway', 'holiness', 'hobbit', 'hmmm', 'hitchhiker', 'historical', 'hippy', 'hindsight', 'high', 'hermione', 'helsing', 'heartwarming', 'heartfelt', 'heartbreaking', 'heal', 'haymitch', 'hawking', 'haunt', 'hatter', 'hathaway', 'hamlet', 'hagrid', 'habits', 'h2g2', 'gullibility', 'guide', 'grudges', 'grudge', 'grown', 'grow', 'ground', 'groucho', 'grisha', 'grieving', 'greek', 'greedy', 'grandparents', 'grandmothers', 'grammar', 'grace', 'governments', 'government', 'goodwill', 'goodfellow', 'goodbyes', 'gonzo', 'gondor', 'golda', 'gold', 'going', 'gods', 'goal', 'glittering', 'gladstone', 'girl', 'ginny', 'gilbert', 'ghosts', 'ghost', 'gesserit', 'generations', 'gatsby', 'gates', 'gardens', 'gandalf', 'gamgee', 'game', 'gaiman', 'gaga', 'g', 'funeral', 'fun', 'fullest', 'fudge', 'fuck', 'frolick', 'frodo', 'frienship', 'freethinker', 'fraser', 'franz', 'frank', 'francois', 'fountainhead', 'foster', 'fortitude', 'forgiving', 'forgive', 'forgetfulness', 'forever', 'foreshadowing', 'force', 'forcasting', 'foolishness', 'fool', 'foer', 'focused', 'flowers', 'flirting', 'flewn', 'flattery', 'five', 'fitting', 'finding', 'finch', 'finale', 'final', 'films', 'fig', 'fifty', 'fi', 'fey', 'ferocity', 'femininity', 'fellowship', 'feet', 'feeling', 'feathers', 'fears', 'fearlessness', 'favourite', 'farm', 'families', 'falling', 'fall', 'failures', 'facts', 'exupery', 'extremely', 'extraterrestrials', 'explore', 'exploration', 'explain', 'expectation', 'excuses', 'excuse', 'everything', 'everyday', 'evermore', 'ethos', 'eternity', 'essential', 'essence', 'essay', 'esist', 'eragon', 'equations', 'entry', 'enterprise', 'england', 'energy', 'enduring', 'emptiness', 'emerson', 'elizabethan', 'elitist', 'elitism', 'elite', 'eleven', 'elections', 'ecstasy', 'ecology', 'eccentricity', 'eccentric', 'ebay', 'eating', 'eastern', 'earnestness', 'dystopia', 'dyer', 'dust', 'durden', 'drunk', 'drugs', 'drug', 'drive', 'dreamer', 'dramatist', 'drama', 'dragons', 'draco', 'douglas', 'doubt', 'dorian', 'doomed', 'don', 'doing', 'dog', 'doctor', 'dna', 'dizziness', 'divorce', 'dives', 'diversity', 'distractions', 'dissent', 'dissatisfaction', 'dissapointment', 'dislike', 'disease', 'discworld', 'discussion', 'discipline', 'disappointed', 'dirty', 'dirt', 'diplomacy', 'dionysus', 'difficulty', 'difficult', 'difference', 'dictionary', 'dharma', 'dhampir', 'devotion', 'devil', 'desperate', 'description', 'deprecation', 'denial', 'demon', 'demographics', 'deliria', 'defiant', 'defiance', 'defenses', 'defend', 'deeply', 'december', 'deceit', 'de', 'david', 'dauntless', 'dating', 'darcy', 'dangerous', 'danger', 'dandy', 'dan', 'cynicism', 'cynic', 'curtis', 'curiosity', 'culture', 'cruelty', 'criticize', 'criticism', 'cristo', 'crisis', 'crescendo', 'craziness', 'cracks', 'cows', 'count', 'cosmos', 'cosby', 'correct', 'corinthians', 'convictions', 'conviction', 'conversations', 'contrast', 'containment', 'consul', 'consolation', 'consistency', 'consciousness', 'connections', 'congreve', 'congratulations', 'confused', 'confidences', 'confession', 'condition', 'concern', 'completion', 'company', 'commerce', 'coma', 'color', 'coldness', 'coffee', 'coelho', 'cobain', 'clouds', 'clothing', 'clothes', 'clock', 'cleverness', 'cleanliness', 'clean', 'clark', 'claire', 'cinna', 'christopher', 'christians', 'christian', 'christ', 'choose', 'chesterton', 'cheese', 'chbosky', 'charlie', 'charles', 'characters', 'chaos', 'chaol', 'changes', 'chance', 'chalmers', 'challanges', 'celia', 'caulfield', 'catatonia', 'castle', 'cartoonist', 'carolina', 'car', 'capability', 'canoodle', 'canadian', 'can', 'calling', 'call', 'cade', 'by', 'button', 'butter', 'burdens', 'buddism', 'buddhism', 'brotherhood', 'brokenness', 'broccoli', 'british', 'bright', 'bridge', 'brekker', 'breath', 'breakup', 'breaking', 'breakfast', 'brain', 'boys', 'box', 'bower', 'bothered', 'bossypants', 'boredom', 'bookstore', 'bookroom', 'bond', 'boldness', 'boggs', 'bodett', 'bob', 'blues', 'blog', 'blessed', 'blackjack', 'black', 'biscuit', 'birthday', 'bilbo', 'bibliophilia', 'beyonce', 'betty', 'better', 'bestseller', 'best', 'bereavement', 'benjamin', 'bene', 'belonging', 'believing', 'beliefs', 'behind', 'before', 'beckett', 'beatnik', 'bear', 'bayard', 'bathing', 'bath', 'barriers', 'barrie', 'barbarity', 'baker', 'bachelorhood', 'baby', 'babies', 'awkward', 'awesomeness', 'autumn', 'autonomy', 'automobile', 'audrey', 'atticus', 'attention', 'atrocities', 'atoms', 'atlas', 'athe', 'assumptions', 'assessment', 'aspirations', 'aspiration', 'asimov', 'as', 'arrow', 'arrogance', 'armstrong', 'aristotle', 'ardor', 'april', 'appearance', 'appeal', 'apothegm', 'apocryphal', 'apocalypse', 'anything', 'anxiety', 'antolini', 'antoine', 'antipathy', 'anti', 'annie', 'animal', 'an', 'amsterdam', 'amorality', 'amor', 'amnesia', 'amity', 'america', 'ambiguity', 'amazing', 'alyson', 'aloneness', 'allergies', 'all', 'alive', 'alcott', 'alchohol', 'akeelah', 'agree', 'agnosticism', 'agency', 'agama', 'against', 'afternoon', 'afraid', 'aesthetics', 'advocacy', 'adventuring', 'adults', 'adoration', 'addison', 'adams', 'acts', 'act', 'acorns', 'aciman', 'ache', 'accomplishment', 'accept', 'abundance', 'absurdities', 'absence', 'abbey', '8', '24', '2013', '2012', '2008', '1997', '1970', '1929', '13', '1']\n"
          ]
        }
      ]
    },
    {
      "cell_type": "code",
      "source": [
        "sample_label = train[\"tags\"].iloc[0]\n",
        "print(f\"Original label: {sample_label}\")\n",
        "\n",
        "label_binarized = lookup([sample_label])\n",
        "print(f\"Label-binarized representation: {label_binarized}\")"
      ],
      "metadata": {
        "colab": {
          "base_uri": "https://localhost:8080/"
        },
        "id": "okXNZkrd5GII",
        "outputId": "60fafc7a-7130-4d25-d856-d0a075c8b4e1"
      },
      "id": "okXNZkrd5GII",
      "execution_count": 30,
      "outputs": [
        {
          "output_type": "stream",
          "name": "stdout",
          "text": [
            "Original label: ['inspirational']\n",
            "Label-binarized representation: [[0. 0. 1. ... 0. 0. 0.]]\n"
          ]
        }
      ]
    },
    {
      "cell_type": "code",
      "source": [
        "train[\"quote\"].apply(lambda x: len(x.split(\" \"))).describe()"
      ],
      "metadata": {
        "colab": {
          "base_uri": "https://localhost:8080/"
        },
        "id": "nOxTfAAy5Uul",
        "outputId": "0f1ce219-67e8-49dc-e934-928b0f4cb083"
      },
      "id": "nOxTfAAy5Uul",
      "execution_count": 31,
      "outputs": [
        {
          "output_type": "execute_result",
          "data": {
            "text/plain": [
              "count    2253.000000\n",
              "mean       30.430981\n",
              "std        45.472488\n",
              "min         1.000000\n",
              "25%        12.000000\n",
              "50%        18.000000\n",
              "75%        31.000000\n",
              "max       746.000000\n",
              "Name: quote, dtype: float64"
            ]
          },
          "metadata": {},
          "execution_count": 31
        }
      ]
    },
    {
      "cell_type": "code",
      "source": [
        "max_seqlen = 20\n",
        "batch_size = 12\n",
        "padding_token = \"<pad>\"\n",
        "\n",
        "from tensorflow.data import AUTOTUNE\n",
        "from tensorflow.data import Dataset\n",
        "\n",
        "auto = AUTOTUNE\n",
        "\n",
        "\n",
        "def make_dataset(dataframe, is_train=True):\n",
        "    labels = constant(dataframe[\"tags\"].values)\n",
        "    label_binarized = lookup(labels).numpy()\n",
        "\n",
        "    dataset = Dataset.from_tensor_slices(\n",
        "        (dataframe[\"quote\"].values, label_binarized)\n",
        "    )\n",
        "\n",
        "    dataset = dataset.shuffle(batch_size * 10) if is_train else dataset\n",
        "    return dataset.batch(batch_size)\n",
        "\n",
        "train_dataset = make_dataset(train, is_train=True)\n",
        "validation_dataset = make_dataset(val, is_train=False)\n",
        "test_dataset = make_dataset(test, is_train=False)"
      ],
      "metadata": {
        "id": "6NBCdZQp6HDo"
      },
      "id": "6NBCdZQp6HDo",
      "execution_count": 32,
      "outputs": []
    },
    {
      "cell_type": "code",
      "source": [
        "vocabulary = set()\n",
        "train[\"quote\"].str.lower().str.split().apply(vocabulary.update)\n",
        "vocabulary_size = len(vocabulary)\n",
        "print(vocabulary_size)"
      ],
      "metadata": {
        "colab": {
          "base_uri": "https://localhost:8080/"
        },
        "id": "NAUc4TeW6eW9",
        "outputId": "d2cc6872-cc6c-4f3d-d35c-8cc4a64c2a78"
      },
      "id": "NAUc4TeW6eW9",
      "execution_count": 33,
      "outputs": [
        {
          "output_type": "stream",
          "name": "stdout",
          "text": [
            "7477\n"
          ]
        }
      ]
    },
    {
      "cell_type": "code",
      "source": [
        "text_vectorizer = layers.TextVectorization(max_tokens=vocabulary_size, ngrams=2, output_mode=\"tf_idf\")\n",
        "\n",
        "import tensorflow as tf\n",
        "# `TextVectorization` layer needs to be adapted as per the vocabulary from our\n",
        "# training set.\n",
        "with tf.device(\"/CPU:0\"):\n",
        "    text_vectorizer.adapt(train_dataset.map(lambda text, label: text))\n",
        "\n",
        "train_dataset = train_dataset.map(lambda text, label: (text_vectorizer(text), label), num_parallel_calls=auto).prefetch(auto)\n",
        "validation_dataset = validation_dataset.map(lambda text, label: (text_vectorizer(text), label), num_parallel_calls=auto).prefetch(auto)\n",
        "test_dataset = test_dataset.map(lambda text, label: (text_vectorizer(text), label), num_parallel_calls=auto).prefetch(auto)"
      ],
      "metadata": {
        "id": "HCapfP8E60VO"
      },
      "id": "HCapfP8E60VO",
      "execution_count": 34,
      "outputs": []
    },
    {
      "cell_type": "code",
      "source": [
        "keras_model = Sequential()\n",
        "keras_model.add(Dropout(0.2))\n",
        "keras_model.add(Dense(1000, activation = 'relu'))\n",
        "keras_model.add(Dense(500, activation = 'relu'))\n",
        "keras_model.add(Dense(lookup.vocabulary_size(), activation = 'sigmoid'))\n",
        "\n",
        "keras_model.compile(loss=\"binary_crossentropy\", optimizer = 'adam', metrics=['categorical_accuracy'])\n",
        "keras_model.build((None, vocabulary_size))\n",
        "keras_model.summary()"
      ],
      "metadata": {
        "colab": {
          "base_uri": "https://localhost:8080/"
        },
        "id": "G1Zq4ywP7GB9",
        "outputId": "c418c98a-5986-430e-ca53-b3ba921e5f47"
      },
      "id": "G1Zq4ywP7GB9",
      "execution_count": 51,
      "outputs": [
        {
          "output_type": "stream",
          "name": "stdout",
          "text": [
            "Model: \"sequential_8\"\n",
            "_________________________________________________________________\n",
            " Layer (type)                Output Shape              Param #   \n",
            "=================================================================\n",
            " dropout_4 (Dropout)         (None, 7477)              0         \n",
            "                                                                 \n",
            " dense_24 (Dense)            (None, 1000)              7478000   \n",
            "                                                                 \n",
            " dense_25 (Dense)            (None, 500)               500500    \n",
            "                                                                 \n",
            " dense_26 (Dense)            (None, 1981)              992481    \n",
            "                                                                 \n",
            "=================================================================\n",
            "Total params: 8,970,981\n",
            "Trainable params: 8,970,981\n",
            "Non-trainable params: 0\n",
            "_________________________________________________________________\n"
          ]
        }
      ]
    },
    {
      "cell_type": "code",
      "source": [
        "epochs = 20\n",
        "history = keras_model.fit(train_dataset, validation_data = validation_dataset, epochs = epochs)"
      ],
      "metadata": {
        "colab": {
          "base_uri": "https://localhost:8080/"
        },
        "id": "utdWTtwS7WXG",
        "outputId": "5afe769c-1c59-4377-8ee6-f6c2c274c146"
      },
      "id": "utdWTtwS7WXG",
      "execution_count": 52,
      "outputs": [
        {
          "output_type": "stream",
          "name": "stdout",
          "text": [
            "Epoch 1/20\n",
            "188/188 [==============================] - 18s 87ms/step - loss: 0.0448 - categorical_accuracy: 0.1114 - val_loss: 0.0165 - val_categorical_accuracy: 0.0794\n",
            "Epoch 2/20\n",
            "188/188 [==============================] - 14s 72ms/step - loss: 0.0169 - categorical_accuracy: 0.2099 - val_loss: 0.0169 - val_categorical_accuracy: 0.1032\n",
            "Epoch 3/20\n",
            "188/188 [==============================] - 13s 68ms/step - loss: 0.0139 - categorical_accuracy: 0.3187 - val_loss: 0.0165 - val_categorical_accuracy: 0.1032\n",
            "Epoch 4/20\n",
            "188/188 [==============================] - 14s 74ms/step - loss: 0.0107 - categorical_accuracy: 0.4061 - val_loss: 0.0163 - val_categorical_accuracy: 0.1349\n",
            "Epoch 5/20\n",
            "188/188 [==============================] - 14s 73ms/step - loss: 0.0084 - categorical_accuracy: 0.4847 - val_loss: 0.0147 - val_categorical_accuracy: 0.1508\n",
            "Epoch 6/20\n",
            "188/188 [==============================] - 12s 64ms/step - loss: 0.0062 - categorical_accuracy: 0.5859 - val_loss: 0.0171 - val_categorical_accuracy: 0.1587\n",
            "Epoch 7/20\n",
            "188/188 [==============================] - 14s 77ms/step - loss: 0.0043 - categorical_accuracy: 0.6125 - val_loss: 0.0149 - val_categorical_accuracy: 0.1349\n",
            "Epoch 8/20\n",
            "188/188 [==============================] - 12s 64ms/step - loss: 0.0024 - categorical_accuracy: 0.6165 - val_loss: 0.0155 - val_categorical_accuracy: 0.1349\n",
            "Epoch 9/20\n",
            "188/188 [==============================] - 14s 73ms/step - loss: 0.0014 - categorical_accuracy: 0.6099 - val_loss: 0.0167 - val_categorical_accuracy: 0.1111\n",
            "Epoch 10/20\n",
            "188/188 [==============================] - 13s 71ms/step - loss: 8.2531e-04 - categorical_accuracy: 0.6050 - val_loss: 0.0172 - val_categorical_accuracy: 0.1190\n",
            "Epoch 11/20\n",
            "188/188 [==============================] - 13s 71ms/step - loss: 7.5728e-04 - categorical_accuracy: 0.5788 - val_loss: 0.0174 - val_categorical_accuracy: 0.1270\n",
            "Epoch 12/20\n",
            "188/188 [==============================] - 13s 69ms/step - loss: 5.2224e-04 - categorical_accuracy: 0.5712 - val_loss: 0.0175 - val_categorical_accuracy: 0.0952\n",
            "Epoch 13/20\n",
            "188/188 [==============================] - 14s 74ms/step - loss: 4.3441e-04 - categorical_accuracy: 0.5917 - val_loss: 0.0177 - val_categorical_accuracy: 0.1032\n",
            "Epoch 14/20\n",
            "188/188 [==============================] - 15s 81ms/step - loss: 3.4458e-04 - categorical_accuracy: 0.5681 - val_loss: 0.0190 - val_categorical_accuracy: 0.1111\n",
            "Epoch 15/20\n",
            "188/188 [==============================] - 12s 62ms/step - loss: 3.1431e-04 - categorical_accuracy: 0.5588 - val_loss: 0.0207 - val_categorical_accuracy: 0.1190\n",
            "Epoch 16/20\n",
            "188/188 [==============================] - 12s 66ms/step - loss: 4.0898e-04 - categorical_accuracy: 0.5761 - val_loss: 0.0186 - val_categorical_accuracy: 0.1032\n",
            "Epoch 17/20\n",
            "188/188 [==============================] - 12s 64ms/step - loss: 5.8151e-04 - categorical_accuracy: 0.5610 - val_loss: 0.0185 - val_categorical_accuracy: 0.0714\n",
            "Epoch 18/20\n",
            "188/188 [==============================] - 13s 69ms/step - loss: 3.6002e-04 - categorical_accuracy: 0.5695 - val_loss: 0.0202 - val_categorical_accuracy: 0.1270\n",
            "Epoch 19/20\n",
            "188/188 [==============================] - 13s 68ms/step - loss: 4.2205e-04 - categorical_accuracy: 0.5588 - val_loss: 0.0186 - val_categorical_accuracy: 0.0556\n",
            "Epoch 20/20\n",
            "188/188 [==============================] - 13s 67ms/step - loss: 2.8396e-04 - categorical_accuracy: 0.5601 - val_loss: 0.0208 - val_categorical_accuracy: 0.1111\n"
          ]
        }
      ]
    },
    {
      "cell_type": "code",
      "source": [
        "info = keras_model.evaluate(test_dataset)"
      ],
      "metadata": {
        "colab": {
          "base_uri": "https://localhost:8080/"
        },
        "id": "yrAMk_t57Y7G",
        "outputId": "0c9a146a-421a-4682-ea43-9966c10758e5"
      },
      "id": "yrAMk_t57Y7G",
      "execution_count": 53,
      "outputs": [
        {
          "output_type": "stream",
          "name": "stdout",
          "text": [
            "11/11 [==============================] - 0s 33ms/step - loss: 0.0200 - categorical_accuracy: 0.1440\n"
          ]
        }
      ]
    },
    {
      "cell_type": "code",
      "source": [
        "p = history.history['precision']\n",
        "r = history.history['recall']\n",
        "\n",
        "mp = np.mean(p)\n",
        "mr = np.mean(r)\n",
        "\n",
        "f1 = (2 * mp * mr) / (mp + mr)\n",
        "f1"
      ],
      "metadata": {
        "colab": {
          "base_uri": "https://localhost:8080/",
          "height": 247
        },
        "id": "1_pM4p7Zi5M-",
        "outputId": "2814ef92-dc18-439a-81e8-75bce65ccc86"
      },
      "id": "1_pM4p7Zi5M-",
      "execution_count": 54,
      "outputs": [
        {
          "output_type": "error",
          "ename": "KeyError",
          "evalue": "ignored",
          "traceback": [
            "\u001b[0;31m---------------------------------------------------------------------------\u001b[0m",
            "\u001b[0;31mKeyError\u001b[0m                                  Traceback (most recent call last)",
            "\u001b[0;32m<ipython-input-54-7eacc5b3c439>\u001b[0m in \u001b[0;36m<module>\u001b[0;34m()\u001b[0m\n\u001b[0;32m----> 1\u001b[0;31m \u001b[0mp\u001b[0m \u001b[0;34m=\u001b[0m \u001b[0mhistory\u001b[0m\u001b[0;34m.\u001b[0m\u001b[0mhistory\u001b[0m\u001b[0;34m[\u001b[0m\u001b[0;34m'precision'\u001b[0m\u001b[0;34m]\u001b[0m\u001b[0;34m\u001b[0m\u001b[0;34m\u001b[0m\u001b[0m\n\u001b[0m\u001b[1;32m      2\u001b[0m \u001b[0mr\u001b[0m \u001b[0;34m=\u001b[0m \u001b[0mhistory\u001b[0m\u001b[0;34m.\u001b[0m\u001b[0mhistory\u001b[0m\u001b[0;34m[\u001b[0m\u001b[0;34m'recall'\u001b[0m\u001b[0;34m]\u001b[0m\u001b[0;34m\u001b[0m\u001b[0;34m\u001b[0m\u001b[0m\n\u001b[1;32m      3\u001b[0m \u001b[0;34m\u001b[0m\u001b[0m\n\u001b[1;32m      4\u001b[0m \u001b[0mmp\u001b[0m \u001b[0;34m=\u001b[0m \u001b[0mnp\u001b[0m\u001b[0;34m.\u001b[0m\u001b[0mmean\u001b[0m\u001b[0;34m(\u001b[0m\u001b[0mp\u001b[0m\u001b[0;34m)\u001b[0m\u001b[0;34m\u001b[0m\u001b[0;34m\u001b[0m\u001b[0m\n\u001b[1;32m      5\u001b[0m \u001b[0mmr\u001b[0m \u001b[0;34m=\u001b[0m \u001b[0mnp\u001b[0m\u001b[0;34m.\u001b[0m\u001b[0mmean\u001b[0m\u001b[0;34m(\u001b[0m\u001b[0mr\u001b[0m\u001b[0;34m)\u001b[0m\u001b[0;34m\u001b[0m\u001b[0;34m\u001b[0m\u001b[0m\n",
            "\u001b[0;31mKeyError\u001b[0m: 'precision'"
          ]
        }
      ]
    },
    {
      "cell_type": "code",
      "source": [
        "def plot_result(item):\n",
        "    plt.plot(history.history[item], label=item)\n",
        "    plt.plot(history.history[\"val_\" + item], label=\"val_\" + item)\n",
        "    plt.xlabel(\"Epochs\")\n",
        "    plt.ylabel(item)\n",
        "    plt.title(\"Train and Validation {} Over Epochs\".format(item), fontsize=14)\n",
        "    plt.legend()\n",
        "    plt.grid()\n",
        "    plt.show()\n",
        "\n",
        "\n",
        "plot_result(\"loss\")\n",
        "plot_result(\"categorical_accuracy\")\n",
        "# plot_result('recall')\n",
        "# plot_result(\"precision\")"
      ],
      "metadata": {
        "colab": {
          "base_uri": "https://localhost:8080/",
          "height": 575
        },
        "id": "0G3y3g_U8Wvu",
        "outputId": "7d110d15-2eea-4825-c5c6-10c39c72cab5"
      },
      "id": "0G3y3g_U8Wvu",
      "execution_count": 56,
      "outputs": [
        {
          "output_type": "display_data",
          "data": {
            "image/png": "[encoded data removed]",
            "text/plain": [
              "<Figure size 432x288 with 1 Axes>"
            ]
          },
          "metadata": {
            "needs_background": "light"
          }
        },
        {
          "output_type": "display_data",
          "data": {
            "image/png": "[encoded data removed]",
            "text/plain": [
              "<Figure size 432x288 with 1 Axes>"
            ]
          },
          "metadata": {
            "needs_background": "light"
          }
        }
      ]
    },
    {
      "cell_type": "code",
      "source": [
        ""
      ],
      "metadata": {
        "id": "7MA3oFGDY0dR"
      },
      "id": "7MA3oFGDY0dR",
      "execution_count": null,
      "outputs": []
    }
  ],
  "metadata": {
    "kernelspec": {
      "display_name": "Python 3",
      "language": "python",
      "name": "python3"
    },
    "language_info": {
      "codemirror_mode": {
        "name": "ipython",
        "version": 3
      },
      "file_extension": ".py",
      "mimetype": "text/x-python",
      "name": "python",
      "nbconvert_exporter": "python",
      "pygments_lexer": "ipython3",
      "version": "3.8.8"
    },
    "colab": {
      "name": "Copy of Project Tester.ipynb",
      "provenance": [],
      "collapsed_sections": [],
      "include_colab_link": true
    }
  },
  "nbformat": 4,
  "nbformat_minor": 5
}